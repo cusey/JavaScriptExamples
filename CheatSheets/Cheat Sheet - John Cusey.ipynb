{
 "cells": [
  {
   "cell_type": "markdown",
   "id": "6913bcbc",
   "metadata": {},
   "source": [
    "# Hello World"
   ]
  },
  {
   "cell_type": "code",
   "execution_count": 25,
   "id": "51dc0af2",
   "metadata": {},
   "outputs": [
    {
     "name": "stdout",
     "output_type": "stream",
     "text": [
      "Hello, World!\n"
     ]
    }
   ],
   "source": [
    "var msg = \"Hello, World!\"\n",
    "console.log( msg )"
   ]
  },
  {
   "cell_type": "markdown",
   "id": "920a7bb4",
   "metadata": {},
   "source": [
    "# Variables"
   ]
  },
  {
   "cell_type": "markdown",
   "id": "02c2b142",
   "metadata": {},
   "source": [
    "* Variable names can contain letters, digits, underscores, and dollar signs.\n",
    "* Variable names are case sensitive (y and Y are different variables)"
   ]
  },
  {
   "cell_type": "markdown",
   "id": "2d29471d",
   "metadata": {},
   "source": [
    "### var"
   ]
  },
  {
   "cell_type": "code",
   "execution_count": 2,
   "id": "05bb74be",
   "metadata": {},
   "outputs": [],
   "source": [
    "var carName;"
   ]
  },
  {
   "cell_type": "markdown",
   "id": "9289e71f",
   "metadata": {},
   "source": [
    "A variable declared without a value will have the value undefined"
   ]
  },
  {
   "cell_type": "code",
   "execution_count": 24,
   "id": "09c4c28f",
   "metadata": {},
   "outputs": [
    {
     "name": "stdout",
     "output_type": "stream",
     "text": [
      "undefined\n"
     ]
    }
   ],
   "source": [
    "console.log( carName )"
   ]
  },
  {
   "cell_type": "code",
   "execution_count": 4,
   "id": "924e8fce",
   "metadata": {},
   "outputs": [
    {
     "name": "stdout",
     "output_type": "stream",
     "text": [
      "Check if variable is NOT defined.\n"
     ]
    }
   ],
   "source": [
    "if( typeof carName !== 'undefined' ) {\n",
    "    console.log( 'Check if variable is defined.')\n",
    "}else{\n",
    "    console.log( 'Check if variable is NOT defined.')\n",
    "}"
   ]
  },
  {
   "cell_type": "markdown",
   "id": "e73b585a",
   "metadata": {},
   "source": [
    "You can just check if the variable has a truthy value or not. That means will evaluate to\n",
    "true if value is not:\n",
    "* null\n",
    "* undefined\n",
    "* NaN\n",
    "* empty string (\"\")\n",
    "* 0\n",
    "* false"
   ]
  },
  {
   "cell_type": "code",
   "execution_count": 5,
   "id": "a7de977a",
   "metadata": {},
   "outputs": [
    {
     "name": "stdout",
     "output_type": "stream",
     "text": [
      "Check if variable is NOT defined.\n"
     ]
    }
   ],
   "source": [
    "if( carName ) {\n",
    "    console.log( 'Check if variable is defined.')\n",
    "}else{\n",
    "    console.log( 'Check if variable is NOT defined.')\n",
    "}"
   ]
  },
  {
   "cell_type": "markdown",
   "id": "7e45b0fa",
   "metadata": {},
   "source": [
    "### const"
   ]
  },
  {
   "cell_type": "markdown",
   "id": "6fbbf25d",
   "metadata": {},
   "source": [
    "Cannot be reassigned and not accessible before they appear within the code."
   ]
  },
  {
   "cell_type": "markdown",
   "id": "cfb6f79d",
   "metadata": {},
   "source": [
    "Area of circle = $\\pi * r^2$  "
   ]
  },
  {
   "cell_type": "code",
   "execution_count": 6,
   "id": "d3399a21",
   "metadata": {},
   "outputs": [],
   "source": [
    "const PI = 3.14"
   ]
  },
  {
   "cell_type": "code",
   "execution_count": 7,
   "id": "09301cde",
   "metadata": {},
   "outputs": [],
   "source": [
    "var r = 5"
   ]
  },
  {
   "cell_type": "code",
   "execution_count": 26,
   "id": "e257f67e",
   "metadata": {},
   "outputs": [
    {
     "name": "stdout",
     "output_type": "stream",
     "text": [
      "78.5\n"
     ]
    }
   ],
   "source": [
    " console.log( PI * Math.pow(r, 2) )"
   ]
  },
  {
   "cell_type": "markdown",
   "id": "05fd71e0",
   "metadata": {},
   "source": [
    "### let "
   ]
  },
  {
   "cell_type": "markdown",
   "id": "71b2b10c",
   "metadata": {},
   "source": [
    "The let statement declares a block-scoped local variable, optionally initializing it to\n",
    "a value."
   ]
  },
  {
   "cell_type": "code",
   "execution_count": 9,
   "id": "0400a971",
   "metadata": {},
   "outputs": [
    {
     "name": "stdout",
     "output_type": "stream",
     "text": [
      "INSIDE: 2\n",
      "1\n"
     ]
    }
   ],
   "source": [
    "let x = 1;\n",
    "\n",
    "if (x === 1) {\n",
    "  let x = 2;\n",
    "\n",
    "  console.log(\"INSIDE: \" + x);\n",
    "  // expected output: 2\n",
    "}\n",
    "\n",
    "console.log(x);\n",
    "// expected output: 1"
   ]
  },
  {
   "cell_type": "markdown",
   "id": "9816225d",
   "metadata": {},
   "source": [
    "# Data Types"
   ]
  },
  {
   "cell_type": "markdown",
   "id": "238ec1a5",
   "metadata": {},
   "source": [
    "There are 8 basic data types in JavaScript.\n",
    "\n",
    "There are essentially two types of values in JavaScript. The first type is primitives, and the second type is objects (which also includes functions). Primitive values include simple value types such as numbers (which includes everything from integers to floats to Infinity to NaN), booleans, strings, undefined, and null (note: even though typeof null === 'object', null is a still primitive value)."
   ]
  },
  {
   "cell_type": "markdown",
   "id": "a17c6570",
   "metadata": {},
   "source": [
    "### number"
   ]
  },
  {
   "cell_type": "markdown",
   "id": "834399f2",
   "metadata": {},
   "source": [
    " numbers of any kind: integer or floating-point"
   ]
  },
  {
   "cell_type": "code",
   "execution_count": 27,
   "id": "a855535d",
   "metadata": {},
   "outputs": [
    {
     "name": "stdout",
     "output_type": "stream",
     "text": [
      "123\n"
     ]
    }
   ],
   "source": [
    "var n = 123\n",
    "console.log( n )"
   ]
  },
  {
   "cell_type": "code",
   "execution_count": 28,
   "id": "161fdb30",
   "metadata": {},
   "outputs": [
    {
     "name": "stdout",
     "output_type": "stream",
     "text": [
      "123.909\n"
     ]
    }
   ],
   "source": [
    "var n = 123.909\n",
    "console.log( n )"
   ]
  },
  {
   "cell_type": "markdown",
   "id": "eafcffdf",
   "metadata": {},
   "source": [
    "**special numeric values**\n",
    "* Infinity     \n",
    "* -Infinity   \n",
    "* NaN (Not a Number)  -  result of an incorrect or an undefined mathematical operation    "
   ]
  },
  {
   "cell_type": "code",
   "execution_count": 29,
   "id": "4c8d2302",
   "metadata": {},
   "outputs": [
    {
     "name": "stdout",
     "output_type": "stream",
     "text": [
      "Infinity\n"
     ]
    }
   ],
   "source": [
    "console.log( 1 / 0 )"
   ]
  },
  {
   "cell_type": "code",
   "execution_count": 30,
   "id": "51e3a0fa",
   "metadata": {},
   "outputs": [
    {
     "name": "stdout",
     "output_type": "stream",
     "text": [
      "NaN\n"
     ]
    }
   ],
   "source": [
    "console.log( \"TOWN\"/2 )"
   ]
  },
  {
   "cell_type": "markdown",
   "id": "491898df",
   "metadata": {},
   "source": [
    "### bigint"
   ]
  },
  {
   "cell_type": "markdown",
   "id": "671b87e8",
   "metadata": {},
   "source": [
    "value is created by appending n to the end of an integer"
   ]
  },
  {
   "cell_type": "code",
   "execution_count": 31,
   "id": "43999b9e",
   "metadata": {},
   "outputs": [
    {
     "name": "stdout",
     "output_type": "stream",
     "text": [
      "1234567890123456789012345678901234567890n\n"
     ]
    }
   ],
   "source": [
    "const myBigInt = 1234567890123456789012345678901234567890n;\n",
    "console.log( myBigInt )"
   ]
  },
  {
   "cell_type": "markdown",
   "id": "26ceb18d",
   "metadata": {},
   "source": [
    "### string"
   ]
  },
  {
   "cell_type": "markdown",
   "id": "61ef5fa8",
   "metadata": {},
   "source": [
    "In JavaScript, there are 3 types of quotes.\n",
    "\n",
    "1. Double quotes: \"Hello\".\n",
    "2. Single quotes: 'Hello'.\n",
    "3. Backticks: `Hello`."
   ]
  },
  {
   "cell_type": "markdown",
   "id": "0fd6862a",
   "metadata": {},
   "source": [
    "Double and single quotes are “simple” quotes. There’s practically no difference between \n",
    "them in JavaScript.\n",
    "\n",
    "Backticks are “extended functionality” quotes. They allow us to embed variables and \n",
    "expressions into a string by wrapping them in ${…}, for example:"
   ]
  },
  {
   "cell_type": "code",
   "execution_count": 32,
   "id": "9ddc1d96",
   "metadata": {},
   "outputs": [
    {
     "name": "stdout",
     "output_type": "stream",
     "text": [
      "Hello, John!\n"
     ]
    }
   ],
   "source": [
    "var name = \"John\";\n",
    "\n",
    "// embed a variable\n",
    "console.log(  `Hello, ${name}!` ); "
   ]
  },
  {
   "cell_type": "markdown",
   "id": "9051131b",
   "metadata": {},
   "source": [
    "### boolean"
   ]
  },
  {
   "cell_type": "code",
   "execution_count": 33,
   "id": "cdc8e183",
   "metadata": {},
   "outputs": [
    {
     "name": "stdout",
     "output_type": "stream",
     "text": [
      "true\n"
     ]
    }
   ],
   "source": [
    "var nameFieldChecked = true; \n",
    "console.log(  nameFieldChecked )"
   ]
  },
  {
   "cell_type": "markdown",
   "id": "85fca2fa",
   "metadata": {},
   "source": [
    "### null"
   ]
  },
  {
   "cell_type": "markdown",
   "id": "c919ecdd",
   "metadata": {},
   "source": [
    "It’s just a special value which represents “nothing”, “empty” or “value unknown”."
   ]
  },
  {
   "cell_type": "code",
   "execution_count": 34,
   "id": "cb4519ca",
   "metadata": {},
   "outputs": [
    {
     "name": "stdout",
     "output_type": "stream",
     "text": [
      "null\n"
     ]
    }
   ],
   "source": [
    "var age = null;\n",
    "console.log( age );"
   ]
  },
  {
   "cell_type": "markdown",
   "id": "6dfbdf17",
   "metadata": {},
   "source": [
    "### undefined"
   ]
  },
  {
   "cell_type": "markdown",
   "id": "98a228bb",
   "metadata": {},
   "source": [
    "If a variable is declared, but not assigned"
   ]
  },
  {
   "cell_type": "code",
   "execution_count": 35,
   "id": "54717238",
   "metadata": {},
   "outputs": [
    {
     "name": "stdout",
     "output_type": "stream",
     "text": [
      "undefined\n"
     ]
    }
   ],
   "source": [
    "var address;\n",
    "console.log( address );"
   ]
  },
  {
   "cell_type": "markdown",
   "id": "2562d866",
   "metadata": {},
   "source": [
    "### object"
   ]
  },
  {
   "cell_type": "markdown",
   "id": "c6254e5e",
   "metadata": {},
   "source": [
    "Object and Array"
   ]
  },
  {
   "cell_type": "code",
   "execution_count": 38,
   "id": "7c1378d3",
   "metadata": {},
   "outputs": [
    {
     "data": {
      "text/plain": [
       "'object'"
      ]
     },
     "execution_count": 38,
     "metadata": {},
     "output_type": "execute_result"
    }
   ],
   "source": [
    "var bank = {\n",
    "    amount: 12.00,\n",
    "    type: \"Checking\"\n",
    "}\n",
    "\n",
    "typeof bank"
   ]
  },
  {
   "cell_type": "code",
   "execution_count": 39,
   "id": "989ae7dd",
   "metadata": {},
   "outputs": [
    {
     "data": {
      "text/plain": [
       "'object'"
      ]
     },
     "execution_count": 39,
     "metadata": {},
     "output_type": "execute_result"
    }
   ],
   "source": [
    "var carTypes = [\"SEDAN\", \"HATCHBACK\"];\n",
    "\n",
    "typeof carTypes"
   ]
  },
  {
   "cell_type": "markdown",
   "id": "10a298be",
   "metadata": {},
   "source": [
    "### symbol"
   ]
  },
  {
   "cell_type": "markdown",
   "id": "ebfe6c11",
   "metadata": {},
   "source": [
    "Every symbol value returned from Symbol() is unique.     \n",
    "\n",
    "A symbol value may be used as an identifier for object properties this is the data type's\n",
    "only purpose.\n",
    "\n",
    "Is primary type so you can uses the new operator.            \n",
    "var a = new Symbol(); // This will throw error."
   ]
  },
  {
   "cell_type": "markdown",
   "id": "333b0232",
   "metadata": {},
   "source": [
    "In Example below. Tom is just description and is used for debugging. Tom is NOT index as like with Array. "
   ]
  },
  {
   "cell_type": "code",
   "execution_count": 45,
   "id": "a17731fe",
   "metadata": {},
   "outputs": [
    {
     "name": "stdout",
     "output_type": "stream",
     "text": [
      "Tom John Smith\n"
     ]
    }
   ],
   "source": [
    "var people = [];\n",
    "people[\"Tom\"] = \"Tom John Smith\"; // \"Tom\" is index for as array. \n",
    "\n",
    "console.log ( people[\"Tom\"] );"
   ]
  },
  {
   "cell_type": "code",
   "execution_count": 41,
   "id": "ba26bac4",
   "metadata": {},
   "outputs": [
    {
     "name": "stdout",
     "output_type": "stream",
     "text": [
      "true\n"
     ]
    }
   ],
   "source": [
    "const s1  = Symbol('Tom'); "
   ]
  },
  {
   "cell_type": "code",
   "execution_count": 42,
   "id": "21ffcc55",
   "metadata": {},
   "outputs": [
    {
     "name": "stdout",
     "output_type": "stream",
     "text": [
      "true\n"
     ]
    }
   ],
   "source": [
    "console.log( s1 === s1)"
   ]
  },
  {
   "cell_type": "code",
   "execution_count": 43,
   "id": "38a350a9",
   "metadata": {},
   "outputs": [
    {
     "name": "stdout",
     "output_type": "stream",
     "text": [
      "false\n"
     ]
    }
   ],
   "source": [
    "console.log( s1 === Symbol('Tom') )"
   ]
  },
  {
   "cell_type": "code",
   "execution_count": 44,
   "id": "c7352d0d",
   "metadata": {},
   "outputs": [
    {
     "name": "stdout",
     "output_type": "stream",
     "text": [
      "Symbol(Tom)\n"
     ]
    }
   ],
   "source": [
    "console.log( s1.toString() )"
   ]
  },
  {
   "cell_type": "markdown",
   "id": "6a8fad35",
   "metadata": {},
   "source": [
    "# The typeof operator"
   ]
  },
  {
   "cell_type": "code",
   "execution_count": 10,
   "id": "4f387d45",
   "metadata": {},
   "outputs": [
    {
     "data": {
      "text/plain": [
       "'undefined'"
      ]
     },
     "execution_count": 10,
     "metadata": {},
     "output_type": "execute_result"
    }
   ],
   "source": [
    "typeof undefined "
   ]
  },
  {
   "cell_type": "code",
   "execution_count": 11,
   "id": "6358977c",
   "metadata": {},
   "outputs": [
    {
     "data": {
      "text/plain": [
       "'number'"
      ]
     },
     "execution_count": 11,
     "metadata": {},
     "output_type": "execute_result"
    }
   ],
   "source": [
    "typeof 0 "
   ]
  },
  {
   "cell_type": "code",
   "execution_count": 12,
   "id": "ee982367",
   "metadata": {},
   "outputs": [
    {
     "data": {
      "text/plain": [
       "'bigint'"
      ]
     },
     "execution_count": 12,
     "metadata": {},
     "output_type": "execute_result"
    }
   ],
   "source": [
    "typeof 10n"
   ]
  },
  {
   "cell_type": "code",
   "execution_count": 13,
   "id": "744b95cb",
   "metadata": {},
   "outputs": [
    {
     "data": {
      "text/plain": [
       "'boolean'"
      ]
     },
     "execution_count": 13,
     "metadata": {},
     "output_type": "execute_result"
    }
   ],
   "source": [
    "typeof true "
   ]
  },
  {
   "cell_type": "code",
   "execution_count": 14,
   "id": "a5d18b6d",
   "metadata": {},
   "outputs": [
    {
     "data": {
      "text/plain": [
       "'string'"
      ]
     },
     "execution_count": 14,
     "metadata": {},
     "output_type": "execute_result"
    }
   ],
   "source": [
    "typeof \"foo\" "
   ]
  },
  {
   "cell_type": "code",
   "execution_count": 15,
   "id": "9601895f",
   "metadata": {},
   "outputs": [
    {
     "data": {
      "text/plain": [
       "'symbol'"
      ]
     },
     "execution_count": 15,
     "metadata": {},
     "output_type": "execute_result"
    }
   ],
   "source": [
    "typeof Symbol(\"id\") "
   ]
  },
  {
   "cell_type": "code",
   "execution_count": 16,
   "id": "a3af5b5e",
   "metadata": {},
   "outputs": [
    {
     "data": {
      "text/plain": [
       "'object'"
      ]
     },
     "execution_count": 16,
     "metadata": {},
     "output_type": "execute_result"
    }
   ],
   "source": [
    "typeof Math "
   ]
  },
  {
   "cell_type": "code",
   "execution_count": 17,
   "id": "aac09a21",
   "metadata": {},
   "outputs": [
    {
     "data": {
      "text/plain": [
       "'object'"
      ]
     },
     "execution_count": 17,
     "metadata": {},
     "output_type": "execute_result"
    }
   ],
   "source": [
    "typeof null"
   ]
  },
  {
   "cell_type": "code",
   "execution_count": 19,
   "id": "17b9a6f7",
   "metadata": {},
   "outputs": [
    {
     "data": {
      "text/plain": [
       "'function'"
      ]
     },
     "execution_count": 19,
     "metadata": {},
     "output_type": "execute_result"
    }
   ],
   "source": [
    "function myFunction() {\n",
    "  return 0;   \n",
    "}\n",
    "\n",
    "\n",
    "typeof myFunction"
   ]
  },
  {
   "cell_type": "code",
   "execution_count": 36,
   "id": "3154a9bf",
   "metadata": {},
   "outputs": [
    {
     "data": {
      "text/plain": [
       "'object'"
      ]
     },
     "execution_count": 36,
     "metadata": {},
     "output_type": "execute_result"
    }
   ],
   "source": [
    "var fruit = [\"Banana\", \"Apple\", \"Pear\"];\n",
    "typeof fruit ;"
   ]
  },
  {
   "cell_type": "code",
   "execution_count": 37,
   "id": "09abdbfd",
   "metadata": {},
   "outputs": [
    {
     "data": {
      "text/plain": [
       "'object'"
      ]
     },
     "execution_count": 37,
     "metadata": {},
     "output_type": "execute_result"
    }
   ],
   "source": [
    "var person = {\n",
    "firstName:\"John\",\n",
    "lastName:\"Doe\",\n",
    "age:20,\n",
    "nationality:\"German\"\n",
    "};\n",
    "\n",
    "typeof person ;"
   ]
  },
  {
   "cell_type": "markdown",
   "id": "0303a8d3",
   "metadata": {},
   "source": [
    "# Array"
   ]
  },
  {
   "cell_type": "markdown",
   "id": "52a10474",
   "metadata": {},
   "source": [
    "## concat()       \n",
    "Join several arrays into one"
   ]
  },
  {
   "cell_type": "code",
   "execution_count": 46,
   "id": "36d1aa48",
   "metadata": {},
   "outputs": [
    {
     "name": "stdout",
     "output_type": "stream",
     "text": [
      "[ 'Cecilie', 'Lone', 'Emil', 'Tobias', 'Linus' ]\n"
     ]
    }
   ],
   "source": [
    "var hege = [\"Cecilie\", \"Lone\"];\n",
    "var stale = [\"Emil\", \"Tobias\", \"Linus\"];\n",
    "\n",
    "var children = hege.concat(stale); \n",
    "\n",
    "console.log( children );"
   ]
  },
  {
   "cell_type": "markdown",
   "id": "ab1a32fc",
   "metadata": {},
   "source": [
    "## constructor"
   ]
  },
  {
   "cell_type": "markdown",
   "id": "06fafb87",
   "metadata": {},
   "source": [
    "The constructor property returns the function that created the Array prototype"
   ]
  },
  {
   "cell_type": "markdown",
   "id": "4a3e12ab",
   "metadata": {},
   "source": [
    "**Array literal notation**"
   ]
  },
  {
   "cell_type": "code",
   "execution_count": 47,
   "id": "9aea6af4",
   "metadata": {},
   "outputs": [
    {
     "name": "stdout",
     "output_type": "stream",
     "text": [
      "2\n",
      "Apple\n"
     ]
    }
   ],
   "source": [
    "var fruits = ['Apple', 'Banana'];\n",
    "\n",
    "console.log(fruits.length); // 2\n",
    "console.log(fruits[0]);     // \"Apple\""
   ]
  },
  {
   "cell_type": "markdown",
   "id": "38e7c0b7",
   "metadata": {},
   "source": [
    "**Array constructor with a single parameter**"
   ]
  },
  {
   "cell_type": "code",
   "execution_count": 48,
   "id": "488c42bf",
   "metadata": {},
   "outputs": [
    {
     "name": "stdout",
     "output_type": "stream",
     "text": [
      "2\n",
      "undefined\n"
     ]
    }
   ],
   "source": [
    "var fruits = new Array(2);\n",
    "\n",
    "console.log(fruits.length); // 2\n",
    "console.log(fruits[0]);     // undefined"
   ]
  },
  {
   "cell_type": "markdown",
   "id": "f9410b49",
   "metadata": {},
   "source": [
    "**Array constructor with multiple parameters**"
   ]
  },
  {
   "cell_type": "code",
   "execution_count": 49,
   "id": "81014a85",
   "metadata": {},
   "outputs": [
    {
     "name": "stdout",
     "output_type": "stream",
     "text": [
      "2\n",
      "Apple\n"
     ]
    }
   ],
   "source": [
    "var fruits = new Array('Apple', 'Banana');\n",
    "\n",
    "console.log(fruits.length); // 2\n",
    "console.log(fruits[0]);     // \"Apple\""
   ]
  },
  {
   "cell_type": "markdown",
   "id": "40000931",
   "metadata": {},
   "source": [
    "## copyWithin()"
   ]
  },
  {
   "cell_type": "markdown",
   "id": "5a504a47",
   "metadata": {},
   "source": [
    "Copies array elements to another position in an array, overwriting the existing values.    \n",
    "\n",
    "array.copyWithin(target, start, end)\n",
    "\n",
    "\n",
    "| Parameter     | Description |\n",
    "| ----------- | ----------- |\n",
    "|target    | Required. The index position to copy the elements to      |\n",
    "|start   | Optional. The index position to start copying elements from  (default is 0)  |\n",
    "|end\t  | Optional. The index position to stop copying elements from (default is array.length)  |"
   ]
  },
  {
   "cell_type": "code",
   "execution_count": 56,
   "id": "b13af698",
   "metadata": {},
   "outputs": [
    {
     "name": "stdout",
     "output_type": "stream",
     "text": [
      "0 Banana\n",
      "1 Orange\n",
      "2 Banana\n",
      "3 Orange\n"
     ]
    }
   ],
   "source": [
    "var fruits = [\"Banana\", \"Orange\", \"Apple\", \"Mango\"];\n",
    "fruits.copyWithin(2);\n",
    "\n",
    "fruits.forEach((item, index)=>{\n",
    "    console.log(index, item)\n",
    "})"
   ]
  },
  {
   "cell_type": "code",
   "execution_count": 55,
   "id": "38f0eda9",
   "metadata": {},
   "outputs": [
    {
     "name": "stdout",
     "output_type": "stream",
     "text": [
      "0 Banana\n",
      "1 Orange\n",
      "2 Melon\n",
      "3 Apple\n",
      "4 Orange\n",
      "5 Melon\n",
      "6 Watermelon\n"
     ]
    }
   ],
   "source": [
    "var fruits = [\"Banana\", \"Orange\",'Melon', \"Apple\", \"Mango\", \"Berries\", \"Watermelon\"];\n",
    "fruits.copyWithin(4, 1 , 3);\n",
    "\n",
    "fruits.forEach((item, index)=>{\n",
    "    console.log(index, item)\n",
    "})"
   ]
  },
  {
   "cell_type": "markdown",
   "id": "be064d6c",
   "metadata": {},
   "source": [
    "## entries()"
   ]
  },
  {
   "cell_type": "markdown",
   "id": "5b275336",
   "metadata": {},
   "source": [
    "Array Iterator object that contains the key/value pairs for each index in the array."
   ]
  },
  {
   "cell_type": "code",
   "execution_count": 57,
   "id": "5bb1f8a9",
   "metadata": {},
   "outputs": [
    {
     "name": "stdout",
     "output_type": "stream",
     "text": [
      "0 a\n",
      "1 b\n",
      "2 c\n"
     ]
    }
   ],
   "source": [
    "const a = ['a', 'b', 'c'];\n",
    "\n",
    "for (const [index, element] of a.entries()){\n",
    "    console.log(index, element);\n",
    "}"
   ]
  },
  {
   "cell_type": "code",
   "execution_count": 58,
   "id": "4c485e85",
   "metadata": {},
   "outputs": [
    {
     "name": "stdout",
     "output_type": "stream",
     "text": [
      "[ 0, 'a' ]\n",
      "[ 1, 'b' ]\n"
     ]
    }
   ],
   "source": [
    "const array1 = ['a', 'b', 'c'];\n",
    "\n",
    "const iterator1 = array1.entries();\n",
    "\n",
    "console.log(iterator1.next().value);\n",
    "// expected output: Array [0, \"a\"]\n",
    "\n",
    "console.log(iterator1.next().value);\n",
    "// expected output: Array [1, \"b\"]"
   ]
  },
  {
   "cell_type": "markdown",
   "id": "f469468b",
   "metadata": {},
   "source": [
    "## every()"
   ]
  },
  {
   "cell_type": "markdown",
   "id": "836074c6",
   "metadata": {},
   "source": [
    "Check if all the values in ages[] are 18 or over:"
   ]
  },
  {
   "cell_type": "code",
   "execution_count": 16,
   "id": "6886fa83",
   "metadata": {},
   "outputs": [
    {
     "data": {
      "text/plain": [
       "false"
      ]
     },
     "execution_count": 16,
     "metadata": {},
     "output_type": "execute_result"
    }
   ],
   "source": [
    "var ages = [32, 33, 16, 40];\n",
    "\n",
    "function checkAge(age) {\n",
    "  return age > 18;\n",
    "};\n",
    "\n",
    "ages.every(checkAge)    // Returns false"
   ]
  },
  {
   "cell_type": "code",
   "execution_count": 15,
   "id": "5c0a7642",
   "metadata": {},
   "outputs": [
    {
     "data": {
      "text/plain": [
       "true"
      ]
     },
     "execution_count": 15,
     "metadata": {},
     "output_type": "execute_result"
    }
   ],
   "source": [
    "var ages = [32, 33, 20, 40];\n",
    "\n",
    "function checkAge(age) {\n",
    "  return age > 18;\n",
    "};\n",
    "\n",
    "ages.every(checkAge);    // Returns false"
   ]
  },
  {
   "cell_type": "markdown",
   "id": "55059ac0",
   "metadata": {},
   "source": [
    "## fill()"
   ]
  },
  {
   "cell_type": "markdown",
   "id": "c2076b94",
   "metadata": {},
   "source": [
    "Fill all the array elements with a static value:"
   ]
  },
  {
   "cell_type": "code",
   "execution_count": 1,
   "id": "0f5f6ce0",
   "metadata": {},
   "outputs": [
    {
     "name": "stdout",
     "output_type": "stream",
     "text": [
      "[ 'Kiwi', 'Kiwi', 'Kiwi', 'Kiwi' ]\n"
     ]
    }
   ],
   "source": [
    "var fruits = [\"Banana\", \"Orange\", \"Apple\", \"Mango\"];\n",
    "fruits.fill(\"Kiwi\");\n",
    "\n",
    "console.log ( fruits );"
   ]
  },
  {
   "cell_type": "code",
   "execution_count": 5,
   "id": "c9381e0c",
   "metadata": {},
   "outputs": [
    {
     "name": "stdout",
     "output_type": "stream",
     "text": [
      "0 { accountNumber: Symbol(), type: 'CHECKING', amount: 50 }\n",
      "1 { accountNumber: Symbol(), type: 'CHECKING', amount: 50 }\n",
      "2 { accountNumber: Symbol(), type: 'CHECKING', amount: 50 }\n"
     ]
    }
   ],
   "source": [
    "var bank = new Array(3);\n",
    "\n",
    "var initialAccount = {\n",
    "    accountNumber: Symbol(),\n",
    "    type: \"CHECKING\",\n",
    "    amount: 50\n",
    "};\n",
    "\n",
    "bank.fill(initialAccount);\n",
    "\n",
    "for (const [index, element] of bank.entries()){\n",
    "    console.log(index, element);\n",
    "};"
   ]
  },
  {
   "cell_type": "markdown",
   "id": "8e5223da",
   "metadata": {},
   "source": [
    "### filter()"
   ]
  },
  {
   "cell_type": "markdown",
   "id": "68918551",
   "metadata": {},
   "source": [
    "Return an array of all the values in ages[] that are 18 or over:"
   ]
  },
  {
   "cell_type": "code",
   "execution_count": 14,
   "id": "1085c6a5",
   "metadata": {},
   "outputs": [
    {
     "data": {
      "text/plain": [
       "[ 32, 33, 40 ]"
      ]
     },
     "execution_count": 14,
     "metadata": {},
     "output_type": "execute_result"
    }
   ],
   "source": [
    "var ages = [32, 33, 16, 40];\n",
    "\n",
    "function checkAdult(age) {\n",
    "  return age >= 18;\n",
    "};\n",
    "\n",
    "ages.filter(checkAdult);    // Returns [32, 33, 40]"
   ]
  },
  {
   "cell_type": "markdown",
   "id": "0fa8a983",
   "metadata": {},
   "source": [
    "### find()"
   ]
  },
  {
   "cell_type": "markdown",
   "id": "7326b867",
   "metadata": {},
   "source": [
    "Get the value of the first element in the array that has a value over 18:"
   ]
  },
  {
   "cell_type": "code",
   "execution_count": 9,
   "id": "07526b07",
   "metadata": {},
   "outputs": [
    {
     "data": {
      "text/plain": [
       "20"
      ]
     },
     "execution_count": 9,
     "metadata": {},
     "output_type": "execute_result"
    }
   ],
   "source": [
    "var ages = [3, 10, 18, 20];\n",
    "\n",
    "function checkAge(age) {\n",
    "  return age > 18;\n",
    "};\n",
    "\n",
    "ages.find(checkAge);"
   ]
  },
  {
   "cell_type": "markdown",
   "id": "956e6641",
   "metadata": {},
   "source": [
    "### findIndex()"
   ]
  },
  {
   "cell_type": "markdown",
   "id": "5e36d8a9",
   "metadata": {},
   "source": [
    "Get the index of the first element in the array that has a value of 18 or more:"
   ]
  },
  {
   "cell_type": "code",
   "execution_count": 13,
   "id": "ee6a90f7",
   "metadata": {},
   "outputs": [
    {
     "data": {
      "text/plain": [
       "3"
      ]
     },
     "execution_count": 13,
     "metadata": {},
     "output_type": "execute_result"
    }
   ],
   "source": [
    "var ages = [3, 10, 18, 20];\n",
    "\n",
    "function checkAge(age) {\n",
    "  return age > 18;\n",
    "};\n",
    "\n",
    "ages.findIndex(checkAge)   // Returns 3"
   ]
  },
  {
   "cell_type": "markdown",
   "id": "86871ba5",
   "metadata": {},
   "source": [
    "### forEach()"
   ]
  },
  {
   "cell_type": "markdown",
   "id": "4667cd01",
   "metadata": {},
   "source": [
    "List each item in the array:"
   ]
  },
  {
   "cell_type": "code",
   "execution_count": 12,
   "id": "3946acf3",
   "metadata": {},
   "outputs": [
    {
     "name": "stdout",
     "output_type": "stream",
     "text": [
      "0 apple\n",
      "1 orange\n",
      "2 cherry\n"
     ]
    }
   ],
   "source": [
    "var fruits = [\"apple\", \"orange\", \"cherry\"];\n",
    "\n",
    "function myFunction(item, index) {\n",
    "  console.log( index, item ); \n",
    "};\n",
    "\n",
    "fruits.forEach(myFunction);"
   ]
  },
  {
   "cell_type": "markdown",
   "id": "c5a934e4",
   "metadata": {},
   "source": [
    "### from()"
   ]
  },
  {
   "cell_type": "markdown",
   "id": "1d3b931e",
   "metadata": {},
   "source": [
    "Create an Array:"
   ]
  },
  {
   "cell_type": "markdown",
   "id": "0c61874c",
   "metadata": {},
   "source": [
    "Array.from(object, mapFunction, thisValue)\n",
    "\n",
    "| Parameter     | Description                                   |\n",
    "| -----------   | --------------------------------------------- |\n",
    "| object        | Required. The object to convert to an array   |\n",
    "| mapFunction   | Optional. A map function to call on each item of the array |\n",
    "| thisValue     | Optional. A value to use as this when executing the mapFunction |  \n"
   ]
  },
  {
   "cell_type": "code",
   "execution_count": 29,
   "id": "a8e185b8",
   "metadata": {},
   "outputs": [
    {
     "name": "stdout",
     "output_type": "stream",
     "text": [
      "[ 5, 6, 7 ]\n",
      "[ 10, 12, 14 ]\n"
     ]
    }
   ],
   "source": [
    "var scores = [5, 6, 7];\n",
    "\n",
    "\n",
    "var mupliplier = {\n",
    "    do(x) {\n",
    "        return x * this.factor;\n",
    "    }\n",
    "};\n",
    "\n",
    "var newScores = Array.from(scores, mupliplier.do, {factor: 1} );\n",
    "console.log(newScores);\n",
    "\n",
    "var newScores = Array.from(scores, mupliplier.do, {factor: 2} );\n",
    "console.log(newScores);"
   ]
  },
  {
   "cell_type": "markdown",
   "id": "284aef9a",
   "metadata": {},
   "source": [
    "### includes()"
   ]
  },
  {
   "cell_type": "markdown",
   "id": "4f79e6d3",
   "metadata": {},
   "source": [
    "Check if an array includes \"Mango\":"
   ]
  },
  {
   "cell_type": "code",
   "execution_count": 30,
   "id": "05fd46a1",
   "metadata": {},
   "outputs": [
    {
     "data": {
      "text/plain": [
       "true"
      ]
     },
     "execution_count": 30,
     "metadata": {},
     "output_type": "execute_result"
    }
   ],
   "source": [
    "var fruits = [\"Banana\", \"Orange\", \"Apple\", \"Mango\"];\n",
    "fruits.includes(\"Mango\")   // Returns true"
   ]
  },
  {
   "cell_type": "markdown",
   "id": "3f9cdd3e",
   "metadata": {},
   "source": [
    "### indexOf()"
   ]
  },
  {
   "cell_type": "markdown",
   "id": "56e32520",
   "metadata": {},
   "source": [
    "Search an array for the item \"Apple\":"
   ]
  },
  {
   "cell_type": "code",
   "execution_count": 32,
   "id": "c672a0a2",
   "metadata": {},
   "outputs": [
    {
     "data": {
      "text/plain": [
       "2"
      ]
     },
     "execution_count": 32,
     "metadata": {},
     "output_type": "execute_result"
    }
   ],
   "source": [
    "var fruits = [\"Banana\", \"Orange\", \"Apple\", \"Mango\"];\n",
    "fruits.indexOf(\"Apple\")   // Returns 2"
   ]
  },
  {
   "cell_type": "markdown",
   "id": "2c43944e",
   "metadata": {},
   "source": [
    "### isArray()"
   ]
  },
  {
   "cell_type": "markdown",
   "id": "9843c582",
   "metadata": {},
   "source": [
    "Check whether an object is an array:"
   ]
  },
  {
   "cell_type": "code",
   "execution_count": 33,
   "id": "f2480edf",
   "metadata": {},
   "outputs": [
    {
     "data": {
      "text/plain": [
       "true"
      ]
     },
     "execution_count": 33,
     "metadata": {},
     "output_type": "execute_result"
    }
   ],
   "source": [
    "var fruits = [\"Banana\", \"Orange\", \"Apple\", \"Mango\"];\n",
    "Array.isArray(fruits)   // Returns true"
   ]
  },
  {
   "cell_type": "markdown",
   "id": "3b3cf061",
   "metadata": {},
   "source": [
    "### join()"
   ]
  },
  {
   "cell_type": "markdown",
   "id": "49055063",
   "metadata": {},
   "source": [
    "Convert the elements of an array into a string:"
   ]
  },
  {
   "cell_type": "code",
   "execution_count": 35,
   "id": "836309ed",
   "metadata": {},
   "outputs": [
    {
     "data": {
      "text/plain": [
       "'Banana,Orange,Apple,Mango'"
      ]
     },
     "execution_count": 35,
     "metadata": {},
     "output_type": "execute_result"
    }
   ],
   "source": [
    "var fruits = [\"Banana\", \"Orange\", \"Apple\", \"Mango\"];\n",
    "fruits.join()   // Returns \"Banana,Orange,Apple,Mango\""
   ]
  },
  {
   "cell_type": "markdown",
   "id": "4f42d673",
   "metadata": {},
   "source": [
    "### keys()"
   ]
  },
  {
   "cell_type": "markdown",
   "id": "d69c020a",
   "metadata": {},
   "source": [
    "Create an Array Iterator object, containing the keys of the array:"
   ]
  },
  {
   "cell_type": "code",
   "execution_count": 37,
   "id": "d8bef747",
   "metadata": {},
   "outputs": [
    {
     "name": "stdout",
     "output_type": "stream",
     "text": [
      "0\n",
      "1\n",
      "2\n",
      "3\n"
     ]
    }
   ],
   "source": [
    "var fruits = [\"Banana\", \"Orange\", \"Apple\", \"Mango\"];\n",
    "\n",
    "for (let x of fruits.keys()) {\n",
    "  console.log( x );\n",
    "}"
   ]
  },
  {
   "cell_type": "markdown",
   "id": "3a3e94ec",
   "metadata": {},
   "source": [
    "### length"
   ]
  },
  {
   "cell_type": "markdown",
   "id": "9ee67d0c",
   "metadata": {},
   "source": [
    "Return the length of an array:"
   ]
  },
  {
   "cell_type": "code",
   "execution_count": 39,
   "id": "81d95479",
   "metadata": {},
   "outputs": [
    {
     "name": "stdout",
     "output_type": "stream",
     "text": [
      "4\n"
     ]
    }
   ],
   "source": [
    "var fruits = [\"Banana\", \"Orange\", \"Apple\", \"Mango\"];\n",
    "console.log( fruits.length );   // Returns 4"
   ]
  },
  {
   "cell_type": "markdown",
   "id": "78683f3a",
   "metadata": {},
   "source": [
    "### lastIndexOf()"
   ]
  },
  {
   "cell_type": "markdown",
   "id": "8cff9bc5",
   "metadata": {},
   "source": [
    "Search an array for the item \"Apple\":"
   ]
  },
  {
   "cell_type": "code",
   "execution_count": 40,
   "id": "01eb5c05",
   "metadata": {},
   "outputs": [
    {
     "name": "stdout",
     "output_type": "stream",
     "text": [
      "2\n"
     ]
    }
   ],
   "source": [
    "var fruits = [\"Apple\", \"Orange\", \"Apple\", \"Mango\"];\n",
    "console.log( fruits.lastIndexOf(\"Apple\") );  // Returns 2"
   ]
  },
  {
   "cell_type": "markdown",
   "id": "33d9d764",
   "metadata": {},
   "source": [
    "### map()"
   ]
  },
  {
   "cell_type": "markdown",
   "id": "02df6879",
   "metadata": {},
   "source": [
    "array.map(function(currentValue, index, arr), thisValue)"
   ]
  },
  {
   "cell_type": "markdown",
   "id": "07443f98",
   "metadata": {},
   "source": [
    "| Parameter                         | Description                                                      |\n",
    "| :--------------------------------- |:----------------------------------------------------------------- |\n",
    "|function(currentValue, index, arr) |   Required. A function to be run for each element in the array.  |\n",
    "| thisValue                         |  Optional. A value to be passed to the function to be used       |\n",
    "|                                   |   as its \"this\" value.                                           |\n",
    "|                                   |  If this parameter is empty, the value \"undefined\" will be       |   \n",
    "|                                   |  passed as its \"this\" value                                      |\n",
    "\n"
   ]
  },
  {
   "cell_type": "markdown",
   "id": "a231df34",
   "metadata": {},
   "source": [
    "Function arguments:"
   ]
  },
  {
   "cell_type": "markdown",
   "id": "33a9359d",
   "metadata": {},
   "source": [
    "| Argument      | Description   |\n",
    "| :------------- | :------------- |\n",
    "| currentValue  | Required. The value of the current element  |\n",
    "| index  | Optional. The array index of the current element  |\n",
    "| arr  | Optional. The array object the current element belongs to  |"
   ]
  },
  {
   "cell_type": "code",
   "execution_count": 46,
   "id": "8752ddf8",
   "metadata": {},
   "outputs": [
    {
     "name": "stdout",
     "output_type": "stream",
     "text": [
      "Apple 0 [ 'Apple', 'Orange', 'Apple', 'Mango' ]\n",
      "Orange 1 [ 'Apple', 'Orange', 'Apple', 'Mango' ]\n",
      "Apple 2 [ 'Apple', 'Orange', 'Apple', 'Mango' ]\n",
      "Mango 3 [ 'Apple', 'Orange', 'Apple', 'Mango' ]\n"
     ]
    },
    {
     "data": {
      "text/plain": [
       "[ 0, 2, 4, 6 ]"
      ]
     },
     "execution_count": 46,
     "metadata": {},
     "output_type": "execute_result"
    }
   ],
   "source": [
    "var fruits = [\"Apple\", \"Orange\", \"Apple\", \"Mango\"];\n",
    "\n",
    "function myFunction (currentValue, index, arr){\n",
    "    console.log(currentValue, index, arr);\n",
    "    \n",
    "    return index * this.factor;\n",
    "    \n",
    "};\n",
    "\n",
    "fruits.map(myFunction, {factor: 2});\n"
   ]
  },
  {
   "cell_type": "markdown",
   "id": "61f7035f",
   "metadata": {},
   "source": [
    "### pop() "
   ]
  },
  {
   "cell_type": "markdown",
   "id": "2b055fd2",
   "metadata": {},
   "source": [
    "Remove the last element of an array:"
   ]
  },
  {
   "cell_type": "code",
   "execution_count": 48,
   "id": "e0d790ae",
   "metadata": {},
   "outputs": [
    {
     "name": "stdout",
     "output_type": "stream",
     "text": [
      "Mango\n"
     ]
    }
   ],
   "source": [
    "var fruits = [\"Banana\", \"Orange\", \"Apple\", \"Mango\"];\n",
    "console.log( fruits.pop() );   // Removes \"Mango\""
   ]
  },
  {
   "cell_type": "markdown",
   "id": "6326d7a1",
   "metadata": {},
   "source": [
    "### prototype "
   ]
  },
  {
   "cell_type": "markdown",
   "id": "cd84b0e7",
   "metadata": {},
   "source": [
    "Create a method that transforms array values into upper case:"
   ]
  },
  {
   "cell_type": "code",
   "execution_count": 49,
   "id": "ccb1a6bc",
   "metadata": {},
   "outputs": [
    {
     "data": {
      "text/plain": [
       "[Function (anonymous)]"
      ]
     },
     "execution_count": 49,
     "metadata": {},
     "output_type": "execute_result"
    }
   ],
   "source": [
    "Array.prototype.myUcase = function() {\n",
    "  for (let i = 0; i < this.length; i++) {\n",
    "    this[i] = this[i].toUpperCase();\n",
    "  }\n",
    "};"
   ]
  },
  {
   "cell_type": "markdown",
   "id": "79916b16",
   "metadata": {},
   "source": [
    "Use the method on any array:"
   ]
  },
  {
   "cell_type": "code",
   "execution_count": 51,
   "id": "697655a7",
   "metadata": {},
   "outputs": [
    {
     "name": "stdout",
     "output_type": "stream",
     "text": [
      "[ 'BANANA', 'ORANGE', 'APPLE', 'MANGO' ]\n"
     ]
    }
   ],
   "source": [
    "var fruits = [\"Banana\", \"Orange\", \"Apple\", \"Mango\"];\n",
    "fruits.myUcase();\n",
    "\n",
    "console.log( fruits );"
   ]
  },
  {
   "cell_type": "markdown",
   "id": "070e871c",
   "metadata": {},
   "source": [
    "### push()"
   ]
  },
  {
   "cell_type": "markdown",
   "id": "319f301c",
   "metadata": {},
   "source": [
    "Add a new item to an array:"
   ]
  },
  {
   "cell_type": "code",
   "execution_count": 52,
   "id": "a122990e",
   "metadata": {},
   "outputs": [
    {
     "name": "stdout",
     "output_type": "stream",
     "text": [
      "[ 'Banana', 'Orange', 'Apple', 'Mango', 'Kiwi' ]\n"
     ]
    }
   ],
   "source": [
    "var fruits = [\"Banana\", \"Orange\", \"Apple\", \"Mango\"];\n",
    "fruits.push(\"Kiwi\");   // Adds \"Kiwi\"\n",
    "\n",
    "console.log( fruits );"
   ]
  },
  {
   "cell_type": "markdown",
   "id": "4b243a76",
   "metadata": {},
   "source": [
    "### reduce()"
   ]
  },
  {
   "cell_type": "markdown",
   "id": "56f8646b",
   "metadata": {},
   "source": [
    "array.reduce(function(total, currentValue, currentIndex, arr), initialValue)"
   ]
  },
  {
   "cell_type": "markdown",
   "id": "2b361c39",
   "metadata": {},
   "source": [
    "| Parameter                         | Description                                                      |\n",
    "| :--------------------------------- |:----------------------------------------------------------------- |\n",
    "|function(total,currentValue, index,arr) |   Required. A function to be run for each element in the array. |\n",
    "| initialValue                        |  Optional. A value to be passed to the function as the initial value      |\n",
    "\n"
   ]
  },
  {
   "cell_type": "markdown",
   "id": "64c1ba88",
   "metadata": {},
   "source": [
    "Function arguments:"
   ]
  },
  {
   "cell_type": "markdown",
   "id": "4a873ea6",
   "metadata": {},
   "source": [
    "| Argument      | Description   |\n",
    "| :------------- | :------------- |\n",
    "| total | Required. The initialValue, or the previously returned value of the function  |\n",
    "| currentValue  | Required. The value of the current element  |\n",
    "| currentIndex  | \tOptional. The array index of the current element  |\n",
    "| arr  | Optional. The array object the current element belongs to  |"
   ]
  },
  {
   "cell_type": "code",
   "execution_count": 54,
   "id": "278305c6",
   "metadata": {},
   "outputs": [],
   "source": [
    "var numbers = [ 1,2,3,4];\n",
    "\n",
    "function myFunction (total,currentValue, index,arr){\n",
    "    console.log(total,currentValue, index,arr);\n",
    "    \n",
    "    return total + currentValue;\n",
    "    \n",
    "};"
   ]
  },
  {
   "cell_type": "code",
   "execution_count": 57,
   "id": "370db991",
   "metadata": {},
   "outputs": [
    {
     "name": "stdout",
     "output_type": "stream",
     "text": [
      "0 1 0 [ 1, 2, 3, 4 ]\n",
      "1 2 1 [ 1, 2, 3, 4 ]\n",
      "3 3 2 [ 1, 2, 3, 4 ]\n",
      "6 4 3 [ 1, 2, 3, 4 ]\n"
     ]
    },
    {
     "data": {
      "text/plain": [
       "10"
      ]
     },
     "execution_count": 57,
     "metadata": {},
     "output_type": "execute_result"
    }
   ],
   "source": [
    "numbers.reduce(myFunction, 0);"
   ]
  },
  {
   "cell_type": "markdown",
   "id": "83a72aa0",
   "metadata": {},
   "source": [
    "### reduceRight()"
   ]
  },
  {
   "cell_type": "markdown",
   "id": "23ac93f7",
   "metadata": {},
   "source": [
    "array.reduceRight(function(total, currentValue, currentIndex, arr), initialValue)"
   ]
  },
  {
   "cell_type": "markdown",
   "id": "cd421caf",
   "metadata": {},
   "source": [
    "| Parameter                         | Description                                                      |\n",
    "| :--------------------------------- |:----------------------------------------------------------------- |\n",
    "|function(total,currentValue, index,arr) |   Required. A function to be run for each element in the array. |\n",
    "| initialValue                        |  Optional. A value to be passed to the function as the initial value      |"
   ]
  },
  {
   "cell_type": "markdown",
   "id": "04989c7d",
   "metadata": {},
   "source": [
    "Function arguments:"
   ]
  },
  {
   "cell_type": "markdown",
   "id": "65fc2468",
   "metadata": {},
   "source": [
    "| Argument      | Description   |\n",
    "| :------------- | :------------- |\n",
    "| total | Required. The initialValue, or the previously returned value of the function  |\n",
    "| currentValue  | Required. The value of the current element  |\n",
    "| currentIndex  | Optional. The array index of the current element  |\n",
    "| arr  | Optional. The array object the current element belongs to  |"
   ]
  },
  {
   "cell_type": "code",
   "execution_count": 60,
   "id": "02de2f8a",
   "metadata": {},
   "outputs": [],
   "source": [
    "var numbers = [ 1,2,3,4];\n",
    "\n",
    "function myFunction (total,currentValue, index,arr){\n",
    "    console.log(total,currentValue, index,arr);\n",
    "    \n",
    "    return total + currentValue;\n",
    "    \n",
    "};"
   ]
  },
  {
   "cell_type": "code",
   "execution_count": 61,
   "id": "d11338a3",
   "metadata": {},
   "outputs": [
    {
     "name": "stdout",
     "output_type": "stream",
     "text": [
      "0 4 3 [ 1, 2, 3, 4 ]\n",
      "4 3 2 [ 1, 2, 3, 4 ]\n",
      "7 2 1 [ 1, 2, 3, 4 ]\n",
      "9 1 0 [ 1, 2, 3, 4 ]\n"
     ]
    },
    {
     "data": {
      "text/plain": [
       "10"
      ]
     },
     "execution_count": 61,
     "metadata": {},
     "output_type": "execute_result"
    }
   ],
   "source": [
    "numbers.reduceRight(myFunction, 0);"
   ]
  },
  {
   "cell_type": "markdown",
   "id": "8e1d8c10",
   "metadata": {},
   "source": [
    "### reverse()"
   ]
  },
  {
   "cell_type": "markdown",
   "id": "9957d7d0",
   "metadata": {},
   "source": [
    "Reverse the order of the elements in an array:"
   ]
  },
  {
   "cell_type": "code",
   "execution_count": 62,
   "id": "96796679",
   "metadata": {},
   "outputs": [
    {
     "name": "stdout",
     "output_type": "stream",
     "text": [
      "[ 'Mango', 'Apple', 'Orange', 'Banana' ]\n"
     ]
    }
   ],
   "source": [
    "var fruits = [\"Banana\", \"Orange\", \"Apple\", \"Mango\"];\n",
    "console.log( fruits.reverse() );"
   ]
  },
  {
   "cell_type": "markdown",
   "id": "93f07ca5",
   "metadata": {},
   "source": [
    "### shift()"
   ]
  },
  {
   "cell_type": "markdown",
   "id": "0cd56e45",
   "metadata": {},
   "source": [
    "Remove the first item of an array:"
   ]
  },
  {
   "cell_type": "code",
   "execution_count": 63,
   "id": "54775cbe",
   "metadata": {},
   "outputs": [
    {
     "name": "stdout",
     "output_type": "stream",
     "text": [
      "Banana\n"
     ]
    }
   ],
   "source": [
    "var fruits = [\"Banana\", \"Orange\", \"Apple\", \"Mango\"];\n",
    "console.log( fruits.shift() );"
   ]
  },
  {
   "cell_type": "markdown",
   "id": "fc23f342",
   "metadata": {},
   "source": [
    "### slice()"
   ]
  },
  {
   "cell_type": "markdown",
   "id": "ad54956e",
   "metadata": {},
   "source": [
    "Select elements from an array:"
   ]
  },
  {
   "cell_type": "code",
   "execution_count": 64,
   "id": "1aeb0868",
   "metadata": {},
   "outputs": [
    {
     "name": "stdout",
     "output_type": "stream",
     "text": [
      "[ 'Orange', 'Lemon' ]\n"
     ]
    }
   ],
   "source": [
    "var fruits = [\"Banana\", \"Orange\", \"Lemon\", \"Apple\", \"Mango\"];\n",
    "console.log( fruits.slice(1, 3) ) ;"
   ]
  },
  {
   "cell_type": "markdown",
   "id": "f7ab8faa",
   "metadata": {},
   "source": [
    "### some()"
   ]
  },
  {
   "cell_type": "markdown",
   "id": "cd451b24",
   "metadata": {},
   "source": [
    "Check if any values in the ages array are 18 or over:"
   ]
  },
  {
   "cell_type": "code",
   "execution_count": 65,
   "id": "5d30975a",
   "metadata": {},
   "outputs": [
    {
     "name": "stdout",
     "output_type": "stream",
     "text": [
      "true\n"
     ]
    }
   ],
   "source": [
    "var ages = [3, 10, 18, 20];\n",
    "\n",
    "function checkAdult(age) {\n",
    "  return age >= 18;\n",
    "};\n",
    "\n",
    "console.log ( ages.some(checkAdult) );   // Returns true"
   ]
  },
  {
   "cell_type": "markdown",
   "id": "85a135c7",
   "metadata": {},
   "source": [
    "### sort()"
   ]
  },
  {
   "cell_type": "markdown",
   "id": "ba0fa64d",
   "metadata": {},
   "source": [
    "array.sort(compareFunction)   \n",
    "\n",
    "compareFunction\tOptional. A function that defines an alternative sort order. The function should return a \n",
    "negative, zero, or positive value, depending on the arguments, like:\n",
    "\n",
    "function(a, b){return a-b}\n",
    "\n",
    "When the sort() method compares two values, it sends the values to the compare function, and sorts the values \n",
    "according to the returned (negative, zero, positive) value.\n",
    "\n",
    "Example:\n",
    "\n",
    "When comparing 40 and 100, the sort() method calls the compare function(40,100).\n",
    "\n",
    "The function calculates 40-100, and returns -60 (a negative value).\n",
    "\n",
    "The sort function will sort 40 as a value lower than 100.\n"
   ]
  },
  {
   "cell_type": "markdown",
   "id": "d2edd146",
   "metadata": {},
   "source": [
    "**EXAMPLE**       \n",
    "Sort numbers in an array in ascending order:"
   ]
  },
  {
   "cell_type": "code",
   "execution_count": 66,
   "id": "ad9714d5",
   "metadata": {},
   "outputs": [
    {
     "name": "stdout",
     "output_type": "stream",
     "text": [
      "[ 1, 5, 10, 25, 40, 100 ]\n"
     ]
    }
   ],
   "source": [
    "var points = [40, 100, 1, 5, 25, 10];\n",
    "console.log( points.sort(function(a, b){return a-b}) );"
   ]
  },
  {
   "cell_type": "markdown",
   "id": "a0fee2e7",
   "metadata": {},
   "source": [
    "### splice() "
   ]
  },
  {
   "cell_type": "markdown",
   "id": "17bcc238",
   "metadata": {},
   "source": [
    "array.splice(index, howmany, item1, ....., itemX)"
   ]
  },
  {
   "cell_type": "markdown",
   "id": "ce29d1f9",
   "metadata": {},
   "source": [
    "| Parameter          | Description                                                       |\n",
    "| :----------------- |:----------------------------------------------------------------- |\n",
    "| index              |  Required.  The position to add/remove items. Negative values a   |\n",
    "|                    |  the position from the end of the array.                          |\n",
    "| howmany            |  Optional. Number of items to be removed.                         |\n",
    "| item1, ..., itemX  |  Optional. New elements(s) to be added                            |"
   ]
  },
  {
   "cell_type": "markdown",
   "id": "2fc600db",
   "metadata": {},
   "source": [
    "Add elements to an array:"
   ]
  },
  {
   "cell_type": "code",
   "execution_count": 68,
   "id": "0614fc66",
   "metadata": {},
   "outputs": [
    {
     "name": "stdout",
     "output_type": "stream",
     "text": [
      "[ 'Banana', 'Orange', 'Lemon', 'Kiwi', 'Apple', 'Mango' ]\n"
     ]
    }
   ],
   "source": [
    "var fruits = [\"Banana\", \"Orange\", \"Apple\", \"Mango\"];\n",
    "\n",
    "// At position 2, add 2 elements:\n",
    "fruits.splice(2, 0, \"Lemon\", \"Kiwi\");\n",
    "\n",
    "console.log( fruits );"
   ]
  },
  {
   "cell_type": "code",
   "execution_count": null,
   "id": "e60a96ce",
   "metadata": {},
   "outputs": [],
   "source": []
  }
 ],
 "metadata": {
  "kernelspec": {
   "display_name": "Javascript (Node.js)",
   "language": "javascript",
   "name": "javascript"
  },
  "language_info": {
   "file_extension": ".js",
   "mimetype": "application/javascript",
   "name": "javascript",
   "version": "16.9.0"
  }
 },
 "nbformat": 4,
 "nbformat_minor": 5
}
