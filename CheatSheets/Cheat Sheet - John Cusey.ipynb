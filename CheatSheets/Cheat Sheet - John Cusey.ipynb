{
 "cells": [
  {
   "cell_type": "markdown",
   "id": "6913bcbc",
   "metadata": {},
   "source": [
    "# Hello World"
   ]
  },
  {
   "cell_type": "code",
   "execution_count": 25,
   "id": "51dc0af2",
   "metadata": {},
   "outputs": [
    {
     "name": "stdout",
     "output_type": "stream",
     "text": [
      "Hello, World!\n"
     ]
    }
   ],
   "source": [
    "var msg = \"Hello, World!\"\n",
    "console.log( msg )"
   ]
  },
  {
   "cell_type": "markdown",
   "id": "920a7bb4",
   "metadata": {},
   "source": [
    "# Variables"
   ]
  },
  {
   "cell_type": "markdown",
   "id": "02c2b142",
   "metadata": {},
   "source": [
    "* Variable names can contain letters, digits, underscores, and dollar signs.\n",
    "* Variable names are case sensitive (y and Y are different variables)"
   ]
  },
  {
   "cell_type": "markdown",
   "id": "2d29471d",
   "metadata": {},
   "source": [
    "### var"
   ]
  },
  {
   "cell_type": "code",
   "execution_count": 2,
   "id": "05bb74be",
   "metadata": {},
   "outputs": [],
   "source": [
    "var carName;"
   ]
  },
  {
   "cell_type": "markdown",
   "id": "9289e71f",
   "metadata": {},
   "source": [
    "A variable declared without a value will have the value undefined"
   ]
  },
  {
   "cell_type": "code",
   "execution_count": 24,
   "id": "09c4c28f",
   "metadata": {},
   "outputs": [
    {
     "name": "stdout",
     "output_type": "stream",
     "text": [
      "undefined\n"
     ]
    }
   ],
   "source": [
    "console.log( carName )"
   ]
  },
  {
   "cell_type": "code",
   "execution_count": 4,
   "id": "924e8fce",
   "metadata": {},
   "outputs": [
    {
     "name": "stdout",
     "output_type": "stream",
     "text": [
      "Check if variable is NOT defined.\n"
     ]
    }
   ],
   "source": [
    "if( typeof carName !== 'undefined' ) {\n",
    "    console.log( 'Check if variable is defined.')\n",
    "}else{\n",
    "    console.log( 'Check if variable is NOT defined.')\n",
    "}"
   ]
  },
  {
   "cell_type": "markdown",
   "id": "e73b585a",
   "metadata": {},
   "source": [
    "You can just check if the variable has a truthy value or not. That means will evaluate to\n",
    "true if value is not:\n",
    "* null\n",
    "* undefined\n",
    "* NaN\n",
    "* empty string (\"\")\n",
    "* 0\n",
    "* false"
   ]
  },
  {
   "cell_type": "code",
   "execution_count": 5,
   "id": "a7de977a",
   "metadata": {},
   "outputs": [
    {
     "name": "stdout",
     "output_type": "stream",
     "text": [
      "Check if variable is NOT defined.\n"
     ]
    }
   ],
   "source": [
    "if( carName ) {\n",
    "    console.log( 'Check if variable is defined.')\n",
    "}else{\n",
    "    console.log( 'Check if variable is NOT defined.')\n",
    "}"
   ]
  },
  {
   "cell_type": "markdown",
   "id": "7e45b0fa",
   "metadata": {},
   "source": [
    "### const"
   ]
  },
  {
   "cell_type": "markdown",
   "id": "6fbbf25d",
   "metadata": {},
   "source": [
    "Cannot be reassigned and not accessible before they appear within the code."
   ]
  },
  {
   "cell_type": "markdown",
   "id": "cfb6f79d",
   "metadata": {},
   "source": [
    "Area of circle = $\\pi * r^2$  "
   ]
  },
  {
   "cell_type": "code",
   "execution_count": 6,
   "id": "d3399a21",
   "metadata": {},
   "outputs": [],
   "source": [
    "const PI = 3.14"
   ]
  },
  {
   "cell_type": "code",
   "execution_count": 7,
   "id": "09301cde",
   "metadata": {},
   "outputs": [],
   "source": [
    "var r = 5"
   ]
  },
  {
   "cell_type": "code",
   "execution_count": 26,
   "id": "e257f67e",
   "metadata": {},
   "outputs": [
    {
     "name": "stdout",
     "output_type": "stream",
     "text": [
      "78.5\n"
     ]
    }
   ],
   "source": [
    " console.log( PI * Math.pow(r, 2) )"
   ]
  },
  {
   "cell_type": "markdown",
   "id": "05fd71e0",
   "metadata": {},
   "source": [
    "### let "
   ]
  },
  {
   "cell_type": "markdown",
   "id": "71b2b10c",
   "metadata": {},
   "source": [
    "The let statement declares a block-scoped local variable, optionally initializing it to\n",
    "a value."
   ]
  },
  {
   "cell_type": "code",
   "execution_count": 9,
   "id": "0400a971",
   "metadata": {},
   "outputs": [
    {
     "name": "stdout",
     "output_type": "stream",
     "text": [
      "INSIDE: 2\n",
      "1\n"
     ]
    }
   ],
   "source": [
    "let x = 1;\n",
    "\n",
    "if (x === 1) {\n",
    "  let x = 2;\n",
    "\n",
    "  console.log(\"INSIDE: \" + x);\n",
    "  // expected output: 2\n",
    "}\n",
    "\n",
    "console.log(x);\n",
    "// expected output: 1"
   ]
  },
  {
   "cell_type": "markdown",
   "id": "3c346fa7",
   "metadata": {},
   "source": [
    "# Data Types"
   ]
  },
  {
   "cell_type": "markdown",
   "id": "89ba7d0d",
   "metadata": {},
   "source": [
    "There are 8 basic data types in JavaScript.\n",
    "\n",
    "There are essentially two types of values in JavaScript. The first type is primitives, and the second type is objects (which also includes functions). Primitive values include simple value types such as numbers (which includes everything from integers to floats to Infinity to NaN), booleans, strings, undefined, and null (note: even though typeof null === 'object', null is a still primitive value)."
   ]
  },
  {
   "cell_type": "markdown",
   "id": "998ebecc",
   "metadata": {},
   "source": [
    "### number"
   ]
  },
  {
   "cell_type": "markdown",
   "id": "58edab68",
   "metadata": {},
   "source": [
    " numbers of any kind: integer or floating-point"
   ]
  },
  {
   "cell_type": "code",
   "execution_count": 27,
   "id": "43736f16",
   "metadata": {},
   "outputs": [
    {
     "name": "stdout",
     "output_type": "stream",
     "text": [
      "123\n"
     ]
    }
   ],
   "source": [
    "var n = 123\n",
    "console.log( n )"
   ]
  },
  {
   "cell_type": "code",
   "execution_count": 28,
   "id": "65d49e4a",
   "metadata": {},
   "outputs": [
    {
     "name": "stdout",
     "output_type": "stream",
     "text": [
      "123.909\n"
     ]
    }
   ],
   "source": [
    "var n = 123.909\n",
    "console.log( n )"
   ]
  },
  {
   "cell_type": "markdown",
   "id": "266707a7",
   "metadata": {},
   "source": [
    "**special numeric values**\n",
    "* Infinity     \n",
    "* -Infinity   \n",
    "* NaN (Not a Number)  -  result of an incorrect or an undefined mathematical operation    "
   ]
  },
  {
   "cell_type": "code",
   "execution_count": 29,
   "id": "4fc3017a",
   "metadata": {},
   "outputs": [
    {
     "name": "stdout",
     "output_type": "stream",
     "text": [
      "Infinity\n"
     ]
    }
   ],
   "source": [
    "console.log( 1 / 0 )"
   ]
  },
  {
   "cell_type": "code",
   "execution_count": 30,
   "id": "037a61af",
   "metadata": {},
   "outputs": [
    {
     "name": "stdout",
     "output_type": "stream",
     "text": [
      "NaN\n"
     ]
    }
   ],
   "source": [
    "console.log( \"TOWN\"/2 )"
   ]
  },
  {
   "cell_type": "markdown",
   "id": "9e1562de",
   "metadata": {},
   "source": [
    "### bigint"
   ]
  },
  {
   "cell_type": "markdown",
   "id": "2a7de93e",
   "metadata": {},
   "source": [
    "value is created by appending n to the end of an integer"
   ]
  },
  {
   "cell_type": "code",
   "execution_count": 31,
   "id": "492f6de8",
   "metadata": {},
   "outputs": [
    {
     "name": "stdout",
     "output_type": "stream",
     "text": [
      "1234567890123456789012345678901234567890n\n"
     ]
    }
   ],
   "source": [
    "const myBigInt = 1234567890123456789012345678901234567890n;\n",
    "console.log( myBigInt )"
   ]
  },
  {
   "cell_type": "markdown",
   "id": "597146fd",
   "metadata": {},
   "source": [
    "### string"
   ]
  },
  {
   "cell_type": "markdown",
   "id": "7e65eee0",
   "metadata": {},
   "source": [
    "In JavaScript, there are 3 types of quotes.\n",
    "\n",
    "1. Double quotes: \"Hello\".\n",
    "2. Single quotes: 'Hello'.\n",
    "3. Backticks: `Hello`."
   ]
  },
  {
   "cell_type": "markdown",
   "id": "be8d2f3d",
   "metadata": {},
   "source": [
    "Double and single quotes are “simple” quotes. There’s practically no difference between \n",
    "them in JavaScript.\n",
    "\n",
    "Backticks are “extended functionality” quotes. They allow us to embed variables and \n",
    "expressions into a string by wrapping them in ${…}, for example:"
   ]
  },
  {
   "cell_type": "code",
   "execution_count": 32,
   "id": "f9251091",
   "metadata": {},
   "outputs": [
    {
     "name": "stdout",
     "output_type": "stream",
     "text": [
      "Hello, John!\n"
     ]
    }
   ],
   "source": [
    "var name = \"John\";\n",
    "\n",
    "// embed a variable\n",
    "console.log(  `Hello, ${name}!` ); "
   ]
  },
  {
   "cell_type": "markdown",
   "id": "56972581",
   "metadata": {},
   "source": [
    "### boolean"
   ]
  },
  {
   "cell_type": "code",
   "execution_count": 33,
   "id": "8f38cae8",
   "metadata": {},
   "outputs": [
    {
     "name": "stdout",
     "output_type": "stream",
     "text": [
      "true\n"
     ]
    }
   ],
   "source": [
    "var nameFieldChecked = true; \n",
    "console.log(  nameFieldChecked )"
   ]
  },
  {
   "cell_type": "markdown",
   "id": "379b7bf2",
   "metadata": {},
   "source": [
    "### null"
   ]
  },
  {
   "cell_type": "markdown",
   "id": "0bb3f23a",
   "metadata": {},
   "source": [
    "It’s just a special value which represents “nothing”, “empty” or “value unknown”."
   ]
  },
  {
   "cell_type": "code",
   "execution_count": 34,
   "id": "7754e163",
   "metadata": {},
   "outputs": [
    {
     "name": "stdout",
     "output_type": "stream",
     "text": [
      "null\n"
     ]
    }
   ],
   "source": [
    "var age = null;\n",
    "console.log( age );"
   ]
  },
  {
   "cell_type": "markdown",
   "id": "eee03f5c",
   "metadata": {},
   "source": [
    "### undefined"
   ]
  },
  {
   "cell_type": "markdown",
   "id": "7da26533",
   "metadata": {},
   "source": [
    "If a variable is declared, but not assigned"
   ]
  },
  {
   "cell_type": "code",
   "execution_count": 35,
   "id": "a752b75b",
   "metadata": {},
   "outputs": [
    {
     "name": "stdout",
     "output_type": "stream",
     "text": [
      "undefined\n"
     ]
    }
   ],
   "source": [
    "var address;\n",
    "console.log( address );"
   ]
  },
  {
   "cell_type": "markdown",
   "id": "8ac3a7e8",
   "metadata": {},
   "source": [
    "### object"
   ]
  },
  {
   "cell_type": "markdown",
   "id": "acf41f48",
   "metadata": {},
   "source": [
    "Object and Array"
   ]
  },
  {
   "cell_type": "code",
   "execution_count": 38,
   "id": "f7226ff1",
   "metadata": {},
   "outputs": [
    {
     "data": {
      "text/plain": [
       "'object'"
      ]
     },
     "execution_count": 38,
     "metadata": {},
     "output_type": "execute_result"
    }
   ],
   "source": [
    "var bank = {\n",
    "    amount: 12.00,\n",
    "    type: \"Checking\"\n",
    "}\n",
    "\n",
    "typeof bank"
   ]
  },
  {
   "cell_type": "code",
   "execution_count": 39,
   "id": "e4d39ba0",
   "metadata": {},
   "outputs": [
    {
     "data": {
      "text/plain": [
       "'object'"
      ]
     },
     "execution_count": 39,
     "metadata": {},
     "output_type": "execute_result"
    }
   ],
   "source": [
    "var carTypes = [\"SEDAN\", \"HATCHBACK\"];\n",
    "\n",
    "typeof carTypes"
   ]
  },
  {
   "cell_type": "markdown",
   "id": "cfa32b93",
   "metadata": {},
   "source": [
    "### symbol"
   ]
  },
  {
   "cell_type": "markdown",
   "id": "632f4f6d",
   "metadata": {},
   "source": [
    "Every symbol value returned from Symbol() is unique.     \n",
    "\n",
    "A symbol value may be used as an identifier for object properties this is the data type's\n",
    "only purpose.\n",
    "\n",
    "Is primary type so you can uses the new operator.            \n",
    "var a = new Symbol(); // This will throw error."
   ]
  },
  {
   "cell_type": "markdown",
   "id": "08b43020",
   "metadata": {},
   "source": [
    "In Example below. Tom is just description and is used for debugging. Tom is NOT index as like with Array. "
   ]
  },
  {
   "cell_type": "code",
   "execution_count": 45,
   "id": "e56b9351",
   "metadata": {},
   "outputs": [
    {
     "name": "stdout",
     "output_type": "stream",
     "text": [
      "Tom John Smith\n"
     ]
    }
   ],
   "source": [
    "var people = [];\n",
    "people[\"Tom\"] = \"Tom John Smith\"; // \"Tom\" is index for as array. \n",
    "\n",
    "console.log ( people[\"Tom\"] );"
   ]
  },
  {
   "cell_type": "code",
   "execution_count": 41,
   "id": "7d4a2d8e",
   "metadata": {},
   "outputs": [
    {
     "name": "stdout",
     "output_type": "stream",
     "text": [
      "true\n"
     ]
    }
   ],
   "source": [
    "const s1  = Symbol('Tom'); "
   ]
  },
  {
   "cell_type": "code",
   "execution_count": 42,
   "id": "54a4cff8",
   "metadata": {},
   "outputs": [
    {
     "name": "stdout",
     "output_type": "stream",
     "text": [
      "true\n"
     ]
    }
   ],
   "source": [
    "console.log( s1 === s1)"
   ]
  },
  {
   "cell_type": "code",
   "execution_count": 43,
   "id": "778b6010",
   "metadata": {},
   "outputs": [
    {
     "name": "stdout",
     "output_type": "stream",
     "text": [
      "false\n"
     ]
    }
   ],
   "source": [
    "console.log( s1 === Symbol('Tom') )"
   ]
  },
  {
   "cell_type": "code",
   "execution_count": 44,
   "id": "8e99cd76",
   "metadata": {},
   "outputs": [
    {
     "name": "stdout",
     "output_type": "stream",
     "text": [
      "Symbol(Tom)\n"
     ]
    }
   ],
   "source": [
    "console.log( s1.toString() )"
   ]
  },
  {
   "cell_type": "markdown",
   "id": "78644641",
   "metadata": {},
   "source": [
    "# The typeof operator"
   ]
  },
  {
   "cell_type": "code",
   "execution_count": 10,
   "id": "d7c9f628",
   "metadata": {},
   "outputs": [
    {
     "data": {
      "text/plain": [
       "'undefined'"
      ]
     },
     "execution_count": 10,
     "metadata": {},
     "output_type": "execute_result"
    }
   ],
   "source": [
    "typeof undefined "
   ]
  },
  {
   "cell_type": "code",
   "execution_count": 11,
   "id": "37832424",
   "metadata": {},
   "outputs": [
    {
     "data": {
      "text/plain": [
       "'number'"
      ]
     },
     "execution_count": 11,
     "metadata": {},
     "output_type": "execute_result"
    }
   ],
   "source": [
    "typeof 0 "
   ]
  },
  {
   "cell_type": "code",
   "execution_count": 12,
   "id": "3fcc8cc8",
   "metadata": {},
   "outputs": [
    {
     "data": {
      "text/plain": [
       "'bigint'"
      ]
     },
     "execution_count": 12,
     "metadata": {},
     "output_type": "execute_result"
    }
   ],
   "source": [
    "typeof 10n"
   ]
  },
  {
   "cell_type": "code",
   "execution_count": 13,
   "id": "06c4464f",
   "metadata": {},
   "outputs": [
    {
     "data": {
      "text/plain": [
       "'boolean'"
      ]
     },
     "execution_count": 13,
     "metadata": {},
     "output_type": "execute_result"
    }
   ],
   "source": [
    "typeof true "
   ]
  },
  {
   "cell_type": "code",
   "execution_count": 14,
   "id": "869af73c",
   "metadata": {},
   "outputs": [
    {
     "data": {
      "text/plain": [
       "'string'"
      ]
     },
     "execution_count": 14,
     "metadata": {},
     "output_type": "execute_result"
    }
   ],
   "source": [
    "typeof \"foo\" "
   ]
  },
  {
   "cell_type": "code",
   "execution_count": 15,
   "id": "d22c9ef6",
   "metadata": {},
   "outputs": [
    {
     "data": {
      "text/plain": [
       "'symbol'"
      ]
     },
     "execution_count": 15,
     "metadata": {},
     "output_type": "execute_result"
    }
   ],
   "source": [
    "typeof Symbol(\"id\") "
   ]
  },
  {
   "cell_type": "code",
   "execution_count": 16,
   "id": "497ecd66",
   "metadata": {},
   "outputs": [
    {
     "data": {
      "text/plain": [
       "'object'"
      ]
     },
     "execution_count": 16,
     "metadata": {},
     "output_type": "execute_result"
    }
   ],
   "source": [
    "typeof Math "
   ]
  },
  {
   "cell_type": "code",
   "execution_count": 17,
   "id": "2a51e692",
   "metadata": {},
   "outputs": [
    {
     "data": {
      "text/plain": [
       "'object'"
      ]
     },
     "execution_count": 17,
     "metadata": {},
     "output_type": "execute_result"
    }
   ],
   "source": [
    "typeof null"
   ]
  },
  {
   "cell_type": "code",
   "execution_count": 19,
   "id": "ef167095",
   "metadata": {},
   "outputs": [
    {
     "data": {
      "text/plain": [
       "'function'"
      ]
     },
     "execution_count": 19,
     "metadata": {},
     "output_type": "execute_result"
    }
   ],
   "source": [
    "function myFunction() {\n",
    "  return 0;   \n",
    "}\n",
    "\n",
    "\n",
    "typeof myFunction"
   ]
  },
  {
   "cell_type": "code",
   "execution_count": 36,
   "id": "d389eef1",
   "metadata": {},
   "outputs": [
    {
     "data": {
      "text/plain": [
       "'object'"
      ]
     },
     "execution_count": 36,
     "metadata": {},
     "output_type": "execute_result"
    }
   ],
   "source": [
    "var fruit = [\"Banana\", \"Apple\", \"Pear\"];\n",
    "typeof fruit ;"
   ]
  },
  {
   "cell_type": "code",
   "execution_count": 37,
   "id": "31a46e52",
   "metadata": {},
   "outputs": [
    {
     "data": {
      "text/plain": [
       "'object'"
      ]
     },
     "execution_count": 37,
     "metadata": {},
     "output_type": "execute_result"
    }
   ],
   "source": [
    "var person = {\n",
    "firstName:\"John\",\n",
    "lastName:\"Doe\",\n",
    "age:20,\n",
    "nationality:\"German\"\n",
    "};\n",
    "\n",
    "typeof person ;"
   ]
  },
  {
   "cell_type": "markdown",
   "id": "e29e99ce",
   "metadata": {},
   "source": [
    "# Array"
   ]
  },
  {
   "cell_type": "markdown",
   "id": "9c955b80",
   "metadata": {},
   "source": [
    "## concat()       \n",
    "Join several arrays into one"
   ]
  },
  {
   "cell_type": "code",
   "execution_count": 46,
   "id": "bfaa77b5",
   "metadata": {},
   "outputs": [
    {
     "name": "stdout",
     "output_type": "stream",
     "text": [
      "[ 'Cecilie', 'Lone', 'Emil', 'Tobias', 'Linus' ]\n"
     ]
    }
   ],
   "source": [
    "var hege = [\"Cecilie\", \"Lone\"];\n",
    "var stale = [\"Emil\", \"Tobias\", \"Linus\"];\n",
    "\n",
    "var children = hege.concat(stale); \n",
    "\n",
    "console.log( children );"
   ]
  },
  {
   "cell_type": "markdown",
   "id": "cc8e4d8f",
   "metadata": {},
   "source": [
    "## constructor"
   ]
  },
  {
   "cell_type": "markdown",
   "id": "a35bbfdf",
   "metadata": {},
   "source": [
    "The constructor property returns the function that created the Array prototype"
   ]
  },
  {
   "cell_type": "code",
   "execution_count": 80,
   "id": "18bf5ee0",
   "metadata": {},
   "outputs": [
    {
     "name": "stdout",
     "output_type": "stream",
     "text": [
      "[Function: Array]\n"
     ]
    }
   ],
   "source": [
    "var fruits = ['Apple', 'Banana'];\n",
    "console.log( fruits.constructor );   // Returns function Array() {[native code]}"
   ]
  },
  {
   "cell_type": "markdown",
   "id": "31d6b0f5",
   "metadata": {},
   "source": [
    "**Array literal notation**"
   ]
  },
  {
   "cell_type": "code",
   "execution_count": 47,
   "id": "5e15f4e8",
   "metadata": {},
   "outputs": [
    {
     "name": "stdout",
     "output_type": "stream",
     "text": [
      "2\n",
      "Apple\n"
     ]
    }
   ],
   "source": [
    "var fruits = ['Apple', 'Banana'];\n",
    "\n",
    "console.log(fruits.length); // 2\n",
    "console.log(fruits[0]);     // \"Apple\""
   ]
  },
  {
   "cell_type": "markdown",
   "id": "042fa84d",
   "metadata": {},
   "source": [
    "**Array constructor with a single parameter**"
   ]
  },
  {
   "cell_type": "code",
   "execution_count": 48,
   "id": "f57a2708",
   "metadata": {},
   "outputs": [
    {
     "name": "stdout",
     "output_type": "stream",
     "text": [
      "2\n",
      "undefined\n"
     ]
    }
   ],
   "source": [
    "var fruits = new Array(2);\n",
    "\n",
    "console.log(fruits.length); // 2\n",
    "console.log(fruits[0]);     // undefined"
   ]
  },
  {
   "cell_type": "markdown",
   "id": "79c061d7",
   "metadata": {},
   "source": [
    "**Array constructor with multiple parameters**"
   ]
  },
  {
   "cell_type": "code",
   "execution_count": 49,
   "id": "2ead4367",
   "metadata": {},
   "outputs": [
    {
     "name": "stdout",
     "output_type": "stream",
     "text": [
      "2\n",
      "Apple\n"
     ]
    }
   ],
   "source": [
    "var fruits = new Array('Apple', 'Banana');\n",
    "\n",
    "console.log(fruits.length); // 2\n",
    "console.log(fruits[0]);     // \"Apple\""
   ]
  },
  {
   "cell_type": "markdown",
   "id": "64cbec40",
   "metadata": {},
   "source": [
    "## copyWithin()"
   ]
  },
  {
   "cell_type": "markdown",
   "id": "4c112b9d",
   "metadata": {},
   "source": [
    "Copies array elements to another position in an array, overwriting the existing values.    \n",
    "\n",
    "array.copyWithin(target, start, end)\n",
    "\n",
    "\n",
    "| Parameter     | Description |\n",
    "| ----------- | ----------- |\n",
    "|target    | Required. The index position to copy the elements to      |\n",
    "|start   | Optional. The index position to start copying elements from  (default is 0)  |\n",
    "|end\t  | Optional. The index position to stop copying elements from (default is array.length)  |"
   ]
  },
  {
   "cell_type": "code",
   "execution_count": 56,
   "id": "880a0da0",
   "metadata": {},
   "outputs": [
    {
     "name": "stdout",
     "output_type": "stream",
     "text": [
      "0 Banana\n",
      "1 Orange\n",
      "2 Banana\n",
      "3 Orange\n"
     ]
    }
   ],
   "source": [
    "var fruits = [\"Banana\", \"Orange\", \"Apple\", \"Mango\"];\n",
    "fruits.copyWithin(2);\n",
    "\n",
    "fruits.forEach((item, index)=>{\n",
    "    console.log(index, item)\n",
    "})"
   ]
  },
  {
   "cell_type": "code",
   "execution_count": 55,
   "id": "b80e5a96",
   "metadata": {},
   "outputs": [
    {
     "name": "stdout",
     "output_type": "stream",
     "text": [
      "0 Banana\n",
      "1 Orange\n",
      "2 Melon\n",
      "3 Apple\n",
      "4 Orange\n",
      "5 Melon\n",
      "6 Watermelon\n"
     ]
    }
   ],
   "source": [
    "var fruits = [\"Banana\", \"Orange\",'Melon', \"Apple\", \"Mango\", \"Berries\", \"Watermelon\"];\n",
    "fruits.copyWithin(4, 1 , 3);\n",
    "\n",
    "fruits.forEach((item, index)=>{\n",
    "    console.log(index, item)\n",
    "})"
   ]
  },
  {
   "cell_type": "markdown",
   "id": "cea06bfb",
   "metadata": {},
   "source": [
    "## entries()"
   ]
  },
  {
   "cell_type": "markdown",
   "id": "b0d5eaee",
   "metadata": {},
   "source": [
    "Array Iterator object that contains the key/value pairs for each index in the array."
   ]
  },
  {
   "cell_type": "code",
   "execution_count": 57,
   "id": "4fc02671",
   "metadata": {},
   "outputs": [
    {
     "name": "stdout",
     "output_type": "stream",
     "text": [
      "0 a\n",
      "1 b\n",
      "2 c\n"
     ]
    }
   ],
   "source": [
    "const a = ['a', 'b', 'c'];\n",
    "\n",
    "for (const [index, element] of a.entries()){\n",
    "    console.log(index, element);\n",
    "}"
   ]
  },
  {
   "cell_type": "code",
   "execution_count": 58,
   "id": "fa5968f8",
   "metadata": {},
   "outputs": [
    {
     "name": "stdout",
     "output_type": "stream",
     "text": [
      "[ 0, 'a' ]\n",
      "[ 1, 'b' ]\n"
     ]
    }
   ],
   "source": [
    "const array1 = ['a', 'b', 'c'];\n",
    "\n",
    "const iterator1 = array1.entries();\n",
    "\n",
    "console.log(iterator1.next().value);\n",
    "// expected output: Array [0, \"a\"]\n",
    "\n",
    "console.log(iterator1.next().value);\n",
    "// expected output: Array [1, \"b\"]"
   ]
  },
  {
   "cell_type": "markdown",
   "id": "92b07eb4",
   "metadata": {},
   "source": [
    "## every()"
   ]
  },
  {
   "cell_type": "markdown",
   "id": "4813fb5b",
   "metadata": {},
   "source": [
    "Check if all the values in ages[] are 18 or over:"
   ]
  },
  {
   "cell_type": "code",
   "execution_count": 16,
   "id": "e551ec0b",
   "metadata": {},
   "outputs": [
    {
     "data": {
      "text/plain": [
       "false"
      ]
     },
     "execution_count": 16,
     "metadata": {},
     "output_type": "execute_result"
    }
   ],
   "source": [
    "var ages = [32, 33, 16, 40];\n",
    "\n",
    "function checkAge(age) {\n",
    "  return age > 18;\n",
    "};\n",
    "\n",
    "ages.every(checkAge)    // Returns false"
   ]
  },
  {
   "cell_type": "code",
   "execution_count": 15,
   "id": "86a7c240",
   "metadata": {},
   "outputs": [
    {
     "data": {
      "text/plain": [
       "true"
      ]
     },
     "execution_count": 15,
     "metadata": {},
     "output_type": "execute_result"
    }
   ],
   "source": [
    "var ages = [32, 33, 20, 40];\n",
    "\n",
    "function checkAge(age) {\n",
    "  return age > 18;\n",
    "};\n",
    "\n",
    "ages.every(checkAge);    // Returns false"
   ]
  },
  {
   "cell_type": "markdown",
   "id": "73481592",
   "metadata": {},
   "source": [
    "## fill()"
   ]
  },
  {
   "cell_type": "markdown",
   "id": "149c5819",
   "metadata": {},
   "source": [
    "Fill all the array elements with a static value:"
   ]
  },
  {
   "cell_type": "code",
   "execution_count": 1,
   "id": "a71f2b40",
   "metadata": {},
   "outputs": [
    {
     "name": "stdout",
     "output_type": "stream",
     "text": [
      "[ 'Kiwi', 'Kiwi', 'Kiwi', 'Kiwi' ]\n"
     ]
    }
   ],
   "source": [
    "var fruits = [\"Banana\", \"Orange\", \"Apple\", \"Mango\"];\n",
    "fruits.fill(\"Kiwi\");\n",
    "\n",
    "console.log ( fruits );"
   ]
  },
  {
   "cell_type": "code",
   "execution_count": 5,
   "id": "a160ad8a",
   "metadata": {},
   "outputs": [
    {
     "name": "stdout",
     "output_type": "stream",
     "text": [
      "0 { accountNumber: Symbol(), type: 'CHECKING', amount: 50 }\n",
      "1 { accountNumber: Symbol(), type: 'CHECKING', amount: 50 }\n",
      "2 { accountNumber: Symbol(), type: 'CHECKING', amount: 50 }\n"
     ]
    }
   ],
   "source": [
    "var bank = new Array(3);\n",
    "\n",
    "var initialAccount = {\n",
    "    accountNumber: Symbol(),\n",
    "    type: \"CHECKING\",\n",
    "    amount: 50\n",
    "};\n",
    "\n",
    "bank.fill(initialAccount);\n",
    "\n",
    "for (const [index, element] of bank.entries()){\n",
    "    console.log(index, element);\n",
    "};"
   ]
  },
  {
   "cell_type": "markdown",
   "id": "f4eac3bf",
   "metadata": {},
   "source": [
    "### filter()"
   ]
  },
  {
   "cell_type": "markdown",
   "id": "01e37713",
   "metadata": {},
   "source": [
    "Return an array of all the values in ages[] that are 18 or over:"
   ]
  },
  {
   "cell_type": "code",
   "execution_count": 14,
   "id": "3cda6764",
   "metadata": {},
   "outputs": [
    {
     "data": {
      "text/plain": [
       "[ 32, 33, 40 ]"
      ]
     },
     "execution_count": 14,
     "metadata": {},
     "output_type": "execute_result"
    }
   ],
   "source": [
    "var ages = [32, 33, 16, 40];\n",
    "\n",
    "function checkAdult(age) {\n",
    "  return age >= 18;\n",
    "};\n",
    "\n",
    "ages.filter(checkAdult);    // Returns [32, 33, 40]"
   ]
  },
  {
   "cell_type": "markdown",
   "id": "e2867edc",
   "metadata": {},
   "source": [
    "### find()"
   ]
  },
  {
   "cell_type": "markdown",
   "id": "fb032a34",
   "metadata": {},
   "source": [
    "Get the value of the first element in the array that has a value over 18:"
   ]
  },
  {
   "cell_type": "code",
   "execution_count": 9,
   "id": "63c8a1ff",
   "metadata": {},
   "outputs": [
    {
     "data": {
      "text/plain": [
       "20"
      ]
     },
     "execution_count": 9,
     "metadata": {},
     "output_type": "execute_result"
    }
   ],
   "source": [
    "var ages = [3, 10, 18, 20];\n",
    "\n",
    "function checkAge(age) {\n",
    "  return age > 18;\n",
    "};\n",
    "\n",
    "ages.find(checkAge);"
   ]
  },
  {
   "cell_type": "markdown",
   "id": "7ce62d8b",
   "metadata": {},
   "source": [
    "### findIndex()"
   ]
  },
  {
   "cell_type": "markdown",
   "id": "c946b397",
   "metadata": {},
   "source": [
    "Get the index of the first element in the array that has a value of 18 or more:"
   ]
  },
  {
   "cell_type": "code",
   "execution_count": 13,
   "id": "7b3bff8f",
   "metadata": {},
   "outputs": [
    {
     "data": {
      "text/plain": [
       "3"
      ]
     },
     "execution_count": 13,
     "metadata": {},
     "output_type": "execute_result"
    }
   ],
   "source": [
    "var ages = [3, 10, 18, 20];\n",
    "\n",
    "function checkAge(age) {\n",
    "  return age > 18;\n",
    "};\n",
    "\n",
    "ages.findIndex(checkAge)   // Returns 3"
   ]
  },
  {
   "cell_type": "markdown",
   "id": "55607177",
   "metadata": {},
   "source": [
    "### forEach()"
   ]
  },
  {
   "cell_type": "markdown",
   "id": "9a0d0629",
   "metadata": {},
   "source": [
    "List each item in the array:"
   ]
  },
  {
   "cell_type": "code",
   "execution_count": 12,
   "id": "1155b64d",
   "metadata": {},
   "outputs": [
    {
     "name": "stdout",
     "output_type": "stream",
     "text": [
      "0 apple\n",
      "1 orange\n",
      "2 cherry\n"
     ]
    }
   ],
   "source": [
    "var fruits = [\"apple\", \"orange\", \"cherry\"];\n",
    "\n",
    "function myFunction(item, index) {\n",
    "  console.log( index, item ); \n",
    "};\n",
    "\n",
    "fruits.forEach(myFunction);"
   ]
  },
  {
   "cell_type": "markdown",
   "id": "d27d744f",
   "metadata": {},
   "source": [
    "### from()"
   ]
  },
  {
   "cell_type": "markdown",
   "id": "2f803b02",
   "metadata": {},
   "source": [
    "Create an Array:"
   ]
  },
  {
   "cell_type": "markdown",
   "id": "5e53554c",
   "metadata": {},
   "source": [
    "Array.from(object, mapFunction, thisValue)\n",
    "\n",
    "| Parameter     | Description                                   |\n",
    "| -----------   | --------------------------------------------- |\n",
    "| object        | Required. The object to convert to an array   |\n",
    "| mapFunction   | Optional. A map function to call on each item of the array |\n",
    "| thisValue     | Optional. A value to use as this when executing the mapFunction |  \n"
   ]
  },
  {
   "cell_type": "code",
   "execution_count": 29,
   "id": "bca0be7c",
   "metadata": {},
   "outputs": [
    {
     "name": "stdout",
     "output_type": "stream",
     "text": [
      "[ 5, 6, 7 ]\n",
      "[ 10, 12, 14 ]\n"
     ]
    }
   ],
   "source": [
    "var scores = [5, 6, 7];\n",
    "\n",
    "\n",
    "var mupliplier = {\n",
    "    do(x) {\n",
    "        return x * this.factor;\n",
    "    }\n",
    "};\n",
    "\n",
    "var newScores = Array.from(scores, mupliplier.do, {factor: 1} );\n",
    "console.log(newScores);\n",
    "\n",
    "var newScores = Array.from(scores, mupliplier.do, {factor: 2} );\n",
    "console.log(newScores);"
   ]
  },
  {
   "cell_type": "markdown",
   "id": "67d8592c",
   "metadata": {},
   "source": [
    "### includes()"
   ]
  },
  {
   "cell_type": "markdown",
   "id": "4c2b9097",
   "metadata": {},
   "source": [
    "Check if an array includes \"Mango\":"
   ]
  },
  {
   "cell_type": "code",
   "execution_count": 30,
   "id": "07c1f66c",
   "metadata": {},
   "outputs": [
    {
     "data": {
      "text/plain": [
       "true"
      ]
     },
     "execution_count": 30,
     "metadata": {},
     "output_type": "execute_result"
    }
   ],
   "source": [
    "var fruits = [\"Banana\", \"Orange\", \"Apple\", \"Mango\"];\n",
    "fruits.includes(\"Mango\")   // Returns true"
   ]
  },
  {
   "cell_type": "markdown",
   "id": "d6c21e10",
   "metadata": {},
   "source": [
    "### indexOf()"
   ]
  },
  {
   "cell_type": "markdown",
   "id": "0e227202",
   "metadata": {},
   "source": [
    "Search an array for the item \"Apple\":"
   ]
  },
  {
   "cell_type": "code",
   "execution_count": 32,
   "id": "ab848e9f",
   "metadata": {},
   "outputs": [
    {
     "data": {
      "text/plain": [
       "2"
      ]
     },
     "execution_count": 32,
     "metadata": {},
     "output_type": "execute_result"
    }
   ],
   "source": [
    "var fruits = [\"Banana\", \"Orange\", \"Apple\", \"Mango\"];\n",
    "fruits.indexOf(\"Apple\")   // Returns 2"
   ]
  },
  {
   "cell_type": "markdown",
   "id": "b8017ba9",
   "metadata": {},
   "source": [
    "### isArray()"
   ]
  },
  {
   "cell_type": "markdown",
   "id": "2f338da3",
   "metadata": {},
   "source": [
    "Check whether an object is an array:"
   ]
  },
  {
   "cell_type": "code",
   "execution_count": 33,
   "id": "e49d01d7",
   "metadata": {},
   "outputs": [
    {
     "data": {
      "text/plain": [
       "true"
      ]
     },
     "execution_count": 33,
     "metadata": {},
     "output_type": "execute_result"
    }
   ],
   "source": [
    "var fruits = [\"Banana\", \"Orange\", \"Apple\", \"Mango\"];\n",
    "Array.isArray(fruits)   // Returns true"
   ]
  },
  {
   "cell_type": "markdown",
   "id": "e16b06a1",
   "metadata": {},
   "source": [
    "### join()"
   ]
  },
  {
   "cell_type": "markdown",
   "id": "055f6f83",
   "metadata": {},
   "source": [
    "Convert the elements of an array into a string:"
   ]
  },
  {
   "cell_type": "code",
   "execution_count": 35,
   "id": "50cc75f1",
   "metadata": {},
   "outputs": [
    {
     "data": {
      "text/plain": [
       "'Banana,Orange,Apple,Mango'"
      ]
     },
     "execution_count": 35,
     "metadata": {},
     "output_type": "execute_result"
    }
   ],
   "source": [
    "var fruits = [\"Banana\", \"Orange\", \"Apple\", \"Mango\"];\n",
    "fruits.join()   // Returns \"Banana,Orange,Apple,Mango\""
   ]
  },
  {
   "cell_type": "markdown",
   "id": "3b04e28d",
   "metadata": {},
   "source": [
    "### keys()"
   ]
  },
  {
   "cell_type": "markdown",
   "id": "948e801e",
   "metadata": {},
   "source": [
    "Create an Array Iterator object, containing the keys of the array:"
   ]
  },
  {
   "cell_type": "code",
   "execution_count": 37,
   "id": "5ebed3f8",
   "metadata": {},
   "outputs": [
    {
     "name": "stdout",
     "output_type": "stream",
     "text": [
      "0\n",
      "1\n",
      "2\n",
      "3\n"
     ]
    }
   ],
   "source": [
    "var fruits = [\"Banana\", \"Orange\", \"Apple\", \"Mango\"];\n",
    "\n",
    "for (let x of fruits.keys()) {\n",
    "  console.log( x );\n",
    "}"
   ]
  },
  {
   "cell_type": "markdown",
   "id": "049d0529",
   "metadata": {},
   "source": [
    "### length"
   ]
  },
  {
   "cell_type": "markdown",
   "id": "e8977b48",
   "metadata": {},
   "source": [
    "Return the length of an array:"
   ]
  },
  {
   "cell_type": "code",
   "execution_count": 39,
   "id": "595d746a",
   "metadata": {},
   "outputs": [
    {
     "name": "stdout",
     "output_type": "stream",
     "text": [
      "4\n"
     ]
    }
   ],
   "source": [
    "var fruits = [\"Banana\", \"Orange\", \"Apple\", \"Mango\"];\n",
    "console.log( fruits.length );   // Returns 4"
   ]
  },
  {
   "cell_type": "markdown",
   "id": "c058e31b",
   "metadata": {},
   "source": [
    "### lastIndexOf()"
   ]
  },
  {
   "cell_type": "markdown",
   "id": "13ab7dc8",
   "metadata": {},
   "source": [
    "Search an array for the item \"Apple\":"
   ]
  },
  {
   "cell_type": "code",
   "execution_count": 40,
   "id": "538e7804",
   "metadata": {},
   "outputs": [
    {
     "name": "stdout",
     "output_type": "stream",
     "text": [
      "2\n"
     ]
    }
   ],
   "source": [
    "var fruits = [\"Apple\", \"Orange\", \"Apple\", \"Mango\"];\n",
    "console.log( fruits.lastIndexOf(\"Apple\") );  // Returns 2"
   ]
  },
  {
   "cell_type": "markdown",
   "id": "792c271c",
   "metadata": {},
   "source": [
    "### map()"
   ]
  },
  {
   "cell_type": "markdown",
   "id": "fc0459dc",
   "metadata": {},
   "source": [
    "array.map(function(currentValue, index, arr), thisValue)"
   ]
  },
  {
   "cell_type": "markdown",
   "id": "f435bab1",
   "metadata": {},
   "source": [
    "| Parameter                         | Description                                                      |\n",
    "| :--------------------------------- |:----------------------------------------------------------------- |\n",
    "|function(currentValue, index, arr) |   Required. A function to be run for each element in the array.  |\n",
    "| thisValue                         |  Optional. A value to be passed to the function to be used       |\n",
    "|                                   |   as its \"this\" value.                                           |\n",
    "|                                   |  If this parameter is empty, the value \"undefined\" will be       |   \n",
    "|                                   |  passed as its \"this\" value                                      |\n",
    "\n"
   ]
  },
  {
   "cell_type": "markdown",
   "id": "a31689c2",
   "metadata": {},
   "source": [
    "Function arguments:"
   ]
  },
  {
   "cell_type": "markdown",
   "id": "2d6e79bf",
   "metadata": {},
   "source": [
    "| Argument      | Description   |\n",
    "| :------------- | :------------- |\n",
    "| currentValue  | Required. The value of the current element  |\n",
    "| index  | Optional. The array index of the current element  |\n",
    "| arr  | Optional. The array object the current element belongs to  |"
   ]
  },
  {
   "cell_type": "code",
   "execution_count": 46,
   "id": "04aca8bf",
   "metadata": {},
   "outputs": [
    {
     "name": "stdout",
     "output_type": "stream",
     "text": [
      "Apple 0 [ 'Apple', 'Orange', 'Apple', 'Mango' ]\n",
      "Orange 1 [ 'Apple', 'Orange', 'Apple', 'Mango' ]\n",
      "Apple 2 [ 'Apple', 'Orange', 'Apple', 'Mango' ]\n",
      "Mango 3 [ 'Apple', 'Orange', 'Apple', 'Mango' ]\n"
     ]
    },
    {
     "data": {
      "text/plain": [
       "[ 0, 2, 4, 6 ]"
      ]
     },
     "execution_count": 46,
     "metadata": {},
     "output_type": "execute_result"
    }
   ],
   "source": [
    "var fruits = [\"Apple\", \"Orange\", \"Apple\", \"Mango\"];\n",
    "\n",
    "function myFunction (currentValue, index, arr){\n",
    "    console.log(currentValue, index, arr);\n",
    "    \n",
    "    return index * this.factor;\n",
    "    \n",
    "};\n",
    "\n",
    "fruits.map(myFunction, {factor: 2});\n"
   ]
  },
  {
   "cell_type": "markdown",
   "id": "fcd33600",
   "metadata": {},
   "source": [
    "### pop() "
   ]
  },
  {
   "cell_type": "markdown",
   "id": "c5ea9a06",
   "metadata": {},
   "source": [
    "Remove the last element of an array:"
   ]
  },
  {
   "cell_type": "code",
   "execution_count": 48,
   "id": "496c9124",
   "metadata": {},
   "outputs": [
    {
     "name": "stdout",
     "output_type": "stream",
     "text": [
      "Mango\n"
     ]
    }
   ],
   "source": [
    "var fruits = [\"Banana\", \"Orange\", \"Apple\", \"Mango\"];\n",
    "console.log( fruits.pop() );   // Removes \"Mango\""
   ]
  },
  {
   "cell_type": "markdown",
   "id": "6fc163aa",
   "metadata": {},
   "source": [
    "### prototype "
   ]
  },
  {
   "cell_type": "markdown",
   "id": "13247796",
   "metadata": {},
   "source": [
    "Create a method that transforms array values into upper case:"
   ]
  },
  {
   "cell_type": "code",
   "execution_count": 49,
   "id": "1397e7f8",
   "metadata": {},
   "outputs": [
    {
     "data": {
      "text/plain": [
       "[Function (anonymous)]"
      ]
     },
     "execution_count": 49,
     "metadata": {},
     "output_type": "execute_result"
    }
   ],
   "source": [
    "Array.prototype.myUcase = function() {\n",
    "  for (let i = 0; i < this.length; i++) {\n",
    "    this[i] = this[i].toUpperCase();\n",
    "  }\n",
    "};"
   ]
  },
  {
   "cell_type": "markdown",
   "id": "352bbbba",
   "metadata": {},
   "source": [
    "Use the method on any array:"
   ]
  },
  {
   "cell_type": "code",
   "execution_count": 51,
   "id": "f73c5713",
   "metadata": {},
   "outputs": [
    {
     "name": "stdout",
     "output_type": "stream",
     "text": [
      "[ 'BANANA', 'ORANGE', 'APPLE', 'MANGO' ]\n"
     ]
    }
   ],
   "source": [
    "var fruits = [\"Banana\", \"Orange\", \"Apple\", \"Mango\"];\n",
    "fruits.myUcase();\n",
    "\n",
    "console.log( fruits );"
   ]
  },
  {
   "cell_type": "markdown",
   "id": "53c39c1e",
   "metadata": {},
   "source": [
    "### push()"
   ]
  },
  {
   "cell_type": "markdown",
   "id": "f9a49b7f",
   "metadata": {},
   "source": [
    "Add a new item to an array:"
   ]
  },
  {
   "cell_type": "code",
   "execution_count": 52,
   "id": "49a387e2",
   "metadata": {},
   "outputs": [
    {
     "name": "stdout",
     "output_type": "stream",
     "text": [
      "[ 'Banana', 'Orange', 'Apple', 'Mango', 'Kiwi' ]\n"
     ]
    }
   ],
   "source": [
    "var fruits = [\"Banana\", \"Orange\", \"Apple\", \"Mango\"];\n",
    "fruits.push(\"Kiwi\");   // Adds \"Kiwi\"\n",
    "\n",
    "console.log( fruits );"
   ]
  },
  {
   "cell_type": "markdown",
   "id": "b51e35a6",
   "metadata": {},
   "source": [
    "### reduce()"
   ]
  },
  {
   "cell_type": "markdown",
   "id": "6880ac89",
   "metadata": {},
   "source": [
    "array.reduce(function(total, currentValue, currentIndex, arr), initialValue)"
   ]
  },
  {
   "cell_type": "markdown",
   "id": "bf976ef3",
   "metadata": {},
   "source": [
    "| Parameter                         | Description                                                      |\n",
    "| :--------------------------------- |:----------------------------------------------------------------- |\n",
    "|function(total,currentValue, index,arr) |   Required. A function to be run for each element in the array. |\n",
    "| initialValue                        |  Optional. A value to be passed to the function as the initial value      |\n",
    "\n"
   ]
  },
  {
   "cell_type": "markdown",
   "id": "89990a00",
   "metadata": {},
   "source": [
    "Function arguments:"
   ]
  },
  {
   "cell_type": "markdown",
   "id": "c375cded",
   "metadata": {},
   "source": [
    "| Argument      | Description   |\n",
    "| :------------- | :------------- |\n",
    "| total | Required. The initialValue, or the previously returned value of the function  |\n",
    "| currentValue  | Required. The value of the current element  |\n",
    "| currentIndex  | \tOptional. The array index of the current element  |\n",
    "| arr  | Optional. The array object the current element belongs to  |"
   ]
  },
  {
   "cell_type": "code",
   "execution_count": 54,
   "id": "0c4ee501",
   "metadata": {},
   "outputs": [],
   "source": [
    "var numbers = [ 1,2,3,4];\n",
    "\n",
    "function myFunction (total,currentValue, index,arr){\n",
    "    console.log(total,currentValue, index,arr);\n",
    "    \n",
    "    return total + currentValue;\n",
    "    \n",
    "};"
   ]
  },
  {
   "cell_type": "code",
   "execution_count": 57,
   "id": "26ab47a5",
   "metadata": {},
   "outputs": [
    {
     "name": "stdout",
     "output_type": "stream",
     "text": [
      "0 1 0 [ 1, 2, 3, 4 ]\n",
      "1 2 1 [ 1, 2, 3, 4 ]\n",
      "3 3 2 [ 1, 2, 3, 4 ]\n",
      "6 4 3 [ 1, 2, 3, 4 ]\n"
     ]
    },
    {
     "data": {
      "text/plain": [
       "10"
      ]
     },
     "execution_count": 57,
     "metadata": {},
     "output_type": "execute_result"
    }
   ],
   "source": [
    "numbers.reduce(myFunction, 0);"
   ]
  },
  {
   "cell_type": "markdown",
   "id": "3b647504",
   "metadata": {},
   "source": [
    "### reduceRight()"
   ]
  },
  {
   "cell_type": "markdown",
   "id": "bb12e3a8",
   "metadata": {},
   "source": [
    "array.reduceRight(function(total, currentValue, currentIndex, arr), initialValue)"
   ]
  },
  {
   "cell_type": "markdown",
   "id": "367422b9",
   "metadata": {},
   "source": [
    "| Parameter                         | Description                                                      |\n",
    "| :--------------------------------- |:----------------------------------------------------------------- |\n",
    "|function(total,currentValue, index,arr) |   Required. A function to be run for each element in the array. |\n",
    "| initialValue                        |  Optional. A value to be passed to the function as the initial value      |"
   ]
  },
  {
   "cell_type": "markdown",
   "id": "da1c4aff",
   "metadata": {},
   "source": [
    "Function arguments:"
   ]
  },
  {
   "cell_type": "markdown",
   "id": "92b666fe",
   "metadata": {},
   "source": [
    "| Argument      | Description   |\n",
    "| :------------- | :------------- |\n",
    "| total | Required. The initialValue, or the previously returned value of the function  |\n",
    "| currentValue  | Required. The value of the current element  |\n",
    "| currentIndex  | Optional. The array index of the current element  |\n",
    "| arr  | Optional. The array object the current element belongs to  |"
   ]
  },
  {
   "cell_type": "code",
   "execution_count": 60,
   "id": "8f292510",
   "metadata": {},
   "outputs": [],
   "source": [
    "var numbers = [ 1,2,3,4];\n",
    "\n",
    "function myFunction (total,currentValue, index,arr){\n",
    "    console.log(total,currentValue, index,arr);\n",
    "    \n",
    "    return total + currentValue;\n",
    "    \n",
    "};"
   ]
  },
  {
   "cell_type": "code",
   "execution_count": 61,
   "id": "725d0e69",
   "metadata": {},
   "outputs": [
    {
     "name": "stdout",
     "output_type": "stream",
     "text": [
      "0 4 3 [ 1, 2, 3, 4 ]\n",
      "4 3 2 [ 1, 2, 3, 4 ]\n",
      "7 2 1 [ 1, 2, 3, 4 ]\n",
      "9 1 0 [ 1, 2, 3, 4 ]\n"
     ]
    },
    {
     "data": {
      "text/plain": [
       "10"
      ]
     },
     "execution_count": 61,
     "metadata": {},
     "output_type": "execute_result"
    }
   ],
   "source": [
    "numbers.reduceRight(myFunction, 0);"
   ]
  },
  {
   "cell_type": "markdown",
   "id": "cdb2451e",
   "metadata": {},
   "source": [
    "### reverse()"
   ]
  },
  {
   "cell_type": "markdown",
   "id": "b9813339",
   "metadata": {},
   "source": [
    "Reverse the order of the elements in an array:"
   ]
  },
  {
   "cell_type": "code",
   "execution_count": 62,
   "id": "5259c06c",
   "metadata": {},
   "outputs": [
    {
     "name": "stdout",
     "output_type": "stream",
     "text": [
      "[ 'Mango', 'Apple', 'Orange', 'Banana' ]\n"
     ]
    }
   ],
   "source": [
    "var fruits = [\"Banana\", \"Orange\", \"Apple\", \"Mango\"];\n",
    "console.log( fruits.reverse() );"
   ]
  },
  {
   "cell_type": "markdown",
   "id": "052e498c",
   "metadata": {},
   "source": [
    "### shift()"
   ]
  },
  {
   "cell_type": "markdown",
   "id": "62cb2be2",
   "metadata": {},
   "source": [
    "Remove the first item of an array:"
   ]
  },
  {
   "cell_type": "code",
   "execution_count": 63,
   "id": "a696aa77",
   "metadata": {},
   "outputs": [
    {
     "name": "stdout",
     "output_type": "stream",
     "text": [
      "Banana\n"
     ]
    }
   ],
   "source": [
    "var fruits = [\"Banana\", \"Orange\", \"Apple\", \"Mango\"];\n",
    "console.log( fruits.shift() );"
   ]
  },
  {
   "cell_type": "markdown",
   "id": "5b9d1bcb",
   "metadata": {},
   "source": [
    "### slice()"
   ]
  },
  {
   "cell_type": "markdown",
   "id": "fe364292",
   "metadata": {},
   "source": [
    "Select elements from an array:"
   ]
  },
  {
   "cell_type": "code",
   "execution_count": 64,
   "id": "8e166d2a",
   "metadata": {},
   "outputs": [
    {
     "name": "stdout",
     "output_type": "stream",
     "text": [
      "[ 'Orange', 'Lemon' ]\n"
     ]
    }
   ],
   "source": [
    "var fruits = [\"Banana\", \"Orange\", \"Lemon\", \"Apple\", \"Mango\"];\n",
    "console.log( fruits.slice(1, 3) ) ;"
   ]
  },
  {
   "cell_type": "markdown",
   "id": "5041c458",
   "metadata": {},
   "source": [
    "### some()"
   ]
  },
  {
   "cell_type": "markdown",
   "id": "daffa091",
   "metadata": {},
   "source": [
    "Check if any values in the ages array are 18 or over:"
   ]
  },
  {
   "cell_type": "code",
   "execution_count": 65,
   "id": "d6fb4299",
   "metadata": {},
   "outputs": [
    {
     "name": "stdout",
     "output_type": "stream",
     "text": [
      "true\n"
     ]
    }
   ],
   "source": [
    "var ages = [3, 10, 18, 20];\n",
    "\n",
    "function checkAdult(age) {\n",
    "  return age >= 18;\n",
    "};\n",
    "\n",
    "console.log ( ages.some(checkAdult) );   // Returns true"
   ]
  },
  {
   "cell_type": "markdown",
   "id": "e58d0776",
   "metadata": {},
   "source": [
    "### sort()"
   ]
  },
  {
   "cell_type": "markdown",
   "id": "1c4c2e9c",
   "metadata": {},
   "source": [
    "array.sort(compareFunction)   \n",
    "\n",
    "compareFunction\tOptional. A function that defines an alternative sort order. The function should return a \n",
    "negative, zero, or positive value, depending on the arguments, like:\n",
    "\n",
    "function(a, b){return a-b}\n",
    "\n",
    "When the sort() method compares two values, it sends the values to the compare function, and sorts the values \n",
    "according to the returned (negative, zero, positive) value.\n",
    "\n",
    "Example:\n",
    "\n",
    "When comparing 40 and 100, the sort() method calls the compare function(40,100).\n",
    "\n",
    "The function calculates 40-100, and returns -60 (a negative value).\n",
    "\n",
    "The sort function will sort 40 as a value lower than 100.\n"
   ]
  },
  {
   "cell_type": "markdown",
   "id": "88e2e0b6",
   "metadata": {},
   "source": [
    "**EXAMPLE**       \n",
    "Sort numbers in an array in ascending order:"
   ]
  },
  {
   "cell_type": "code",
   "execution_count": 66,
   "id": "5096f7fa",
   "metadata": {},
   "outputs": [
    {
     "name": "stdout",
     "output_type": "stream",
     "text": [
      "[ 1, 5, 10, 25, 40, 100 ]\n"
     ]
    }
   ],
   "source": [
    "var points = [40, 100, 1, 5, 25, 10];\n",
    "console.log( points.sort(function(a, b){return a-b}) );"
   ]
  },
  {
   "cell_type": "markdown",
   "id": "abf3e4b5",
   "metadata": {},
   "source": [
    "### splice() "
   ]
  },
  {
   "cell_type": "markdown",
   "id": "82e8556d",
   "metadata": {},
   "source": [
    "array.splice(index, howmany, item1, ....., itemX)"
   ]
  },
  {
   "cell_type": "markdown",
   "id": "a9c22965",
   "metadata": {},
   "source": [
    "| Parameter          | Description                                                       |\n",
    "| :----------------- |:----------------------------------------------------------------- |\n",
    "| index              |  Required.  The position to add/remove items. Negative values a   |\n",
    "|                    |  the position from the end of the array.                          |\n",
    "| howmany            |  Optional. Number of items to be removed.                         |\n",
    "| item1, ..., itemX  |  Optional. New elements(s) to be added                            |"
   ]
  },
  {
   "cell_type": "markdown",
   "id": "9fbd9a2b",
   "metadata": {},
   "source": [
    "Add elements to an array:"
   ]
  },
  {
   "cell_type": "code",
   "execution_count": 68,
   "id": "758ab81b",
   "metadata": {},
   "outputs": [
    {
     "name": "stdout",
     "output_type": "stream",
     "text": [
      "[ 'Banana', 'Orange', 'Lemon', 'Kiwi', 'Apple', 'Mango' ]\n"
     ]
    }
   ],
   "source": [
    "var fruits = [\"Banana\", \"Orange\", \"Apple\", \"Mango\"];\n",
    "\n",
    "// At position 2, add 2 elements:\n",
    "fruits.splice(2, 0, \"Lemon\", \"Kiwi\");\n",
    "\n",
    "console.log( fruits );"
   ]
  },
  {
   "cell_type": "code",
   "execution_count": 69,
   "id": "f8dcfb06",
   "metadata": {},
   "outputs": [
    {
     "name": "stdout",
     "output_type": "stream",
     "text": [
      "[ 'Banana', 'Orange', 'Lemon', 'Kiwi', 'Mango' ]\n"
     ]
    }
   ],
   "source": [
    "var fruits = [\"Banana\", \"Orange\", \"Apple\", \"Mango\"];\n",
    "\n",
    "// At position 2, add 2 elements, remove 1 element:\n",
    "fruits.splice(2, 1, \"Lemon\", \"Kiwi\");\n",
    "\n",
    "console.log( fruits );"
   ]
  },
  {
   "cell_type": "markdown",
   "id": "f00b95c5",
   "metadata": {},
   "source": [
    "### toString() "
   ]
  },
  {
   "cell_type": "markdown",
   "id": "e7288a67",
   "metadata": {},
   "source": [
    "Convert an array to a string:"
   ]
  },
  {
   "cell_type": "code",
   "execution_count": 70,
   "id": "3eb5cbb8",
   "metadata": {},
   "outputs": [
    {
     "name": "stdout",
     "output_type": "stream",
     "text": [
      "Banana,Orange,Apple,Mango\n"
     ]
    }
   ],
   "source": [
    "var fruits = [\"Banana\", \"Orange\", \"Apple\", \"Mango\"];\n",
    "console.log( fruits.toString() );"
   ]
  },
  {
   "cell_type": "markdown",
   "id": "cbe0d8c8",
   "metadata": {},
   "source": [
    "### unshift() "
   ]
  },
  {
   "cell_type": "markdown",
   "id": "06294bbc",
   "metadata": {},
   "source": [
    "Add new items to the beginning of an array:"
   ]
  },
  {
   "cell_type": "code",
   "execution_count": 72,
   "id": "6ab51d9c",
   "metadata": {},
   "outputs": [
    {
     "name": "stdout",
     "output_type": "stream",
     "text": [
      "[ 'Lemon', 'Pineapple', 'Banana', 'Orange', 'Apple', 'Mango' ]\n"
     ]
    }
   ],
   "source": [
    "var fruits = [\"Banana\", \"Orange\", \"Apple\", \"Mango\"];\n",
    "fruits.unshift(\"Lemon\",\"Pineapple\");\n",
    "console.log( fruits );"
   ]
  },
  {
   "cell_type": "markdown",
   "id": "36521cc9",
   "metadata": {},
   "source": [
    "### valueOf()"
   ]
  },
  {
   "cell_type": "markdown",
   "id": "61b96181",
   "metadata": {},
   "source": [
    "fruits.valueOf() returns the same as fruits"
   ]
  },
  {
   "cell_type": "code",
   "execution_count": 74,
   "id": "2bd4ac7b",
   "metadata": {},
   "outputs": [
    {
     "name": "stdout",
     "output_type": "stream",
     "text": [
      "[ 'Banana', 'Orange', 'Apple', 'Mango' ]\n"
     ]
    }
   ],
   "source": [
    "var fruits = [\"Banana\", \"Orange\", \"Apple\", \"Mango\"];\n",
    "console.log( fruits.valueOf() ) ;   // Returns fruits"
   ]
  },
  {
   "cell_type": "markdown",
   "id": "e9b0fb7d",
   "metadata": {},
   "source": [
    "# String"
   ]
  },
  {
   "cell_type": "markdown",
   "id": "1caf6456",
   "metadata": {},
   "source": [
    "### charAt() "
   ]
  },
  {
   "cell_type": "markdown",
   "id": "296be69b",
   "metadata": {},
   "source": [
    "Return the first character of a string:"
   ]
  },
  {
   "cell_type": "code",
   "execution_count": 75,
   "id": "610ef93b",
   "metadata": {},
   "outputs": [
    {
     "name": "stdout",
     "output_type": "stream",
     "text": [
      "H\n"
     ]
    }
   ],
   "source": [
    "var str = \"HELLO WORLD\";\n",
    "console.log( str.charAt(0) );    // Returns \"H\""
   ]
  },
  {
   "cell_type": "markdown",
   "id": "a0025135",
   "metadata": {},
   "source": [
    "### charCodeAt()"
   ]
  },
  {
   "cell_type": "markdown",
   "id": "e227d608",
   "metadata": {},
   "source": [
    "Return the Unicode of the first character in a string (the Unicode value for \"H\"):"
   ]
  },
  {
   "cell_type": "code",
   "execution_count": 76,
   "id": "874a614b",
   "metadata": {},
   "outputs": [
    {
     "name": "stdout",
     "output_type": "stream",
     "text": [
      "72\n"
     ]
    }
   ],
   "source": [
    "var str = \"HELLO WORLD\";\n",
    "console.log( str.charCodeAt(0) );     // Returns 72"
   ]
  },
  {
   "cell_type": "markdown",
   "id": "be657730",
   "metadata": {},
   "source": [
    "### concat()"
   ]
  },
  {
   "cell_type": "markdown",
   "id": "07e1aa5e",
   "metadata": {},
   "source": [
    "joins two or more strings."
   ]
  },
  {
   "cell_type": "code",
   "execution_count": 77,
   "id": "75dffab4",
   "metadata": {},
   "outputs": [
    {
     "name": "stdout",
     "output_type": "stream",
     "text": [
      "Hello world!\n"
     ]
    }
   ],
   "source": [
    "var str1 = \"Hello \";\n",
    "var str2 = \"world!\";\n",
    "console.log( str1.concat(str2) );"
   ]
  },
  {
   "cell_type": "markdown",
   "id": "c02641bf",
   "metadata": {},
   "source": [
    "### constructor "
   ]
  },
  {
   "cell_type": "markdown",
   "id": "582738d5",
   "metadata": {},
   "source": [
    "returns the function that created the String prototype."
   ]
  },
  {
   "cell_type": "code",
   "execution_count": 79,
   "id": "4658ec1f",
   "metadata": {},
   "outputs": [
    {
     "name": "stdout",
     "output_type": "stream",
     "text": [
      "[Function: String]\n"
     ]
    }
   ],
   "source": [
    "var str = \"Hello World!\";\n",
    "console.log( str.constructor ); "
   ]
  },
  {
   "cell_type": "markdown",
   "id": "a2aaf94b",
   "metadata": {},
   "source": [
    "### endsWith()"
   ]
  },
  {
   "cell_type": "markdown",
   "id": "35ee7edd",
   "metadata": {},
   "source": [
    "Check if a string ends with"
   ]
  },
  {
   "cell_type": "code",
   "execution_count": 81,
   "id": "416ea6bd",
   "metadata": {},
   "outputs": [
    {
     "name": "stdout",
     "output_type": "stream",
     "text": [
      "true\n",
      "false\n"
     ]
    }
   ],
   "source": [
    "var str = \"Hello world\";\n",
    "console.log( str.endsWith(\"world\") );   // Returns true\n",
    "console.log( str.endsWith(\"World\") );   // Returns false"
   ]
  },
  {
   "cell_type": "markdown",
   "id": "5e39b7b9",
   "metadata": {},
   "source": [
    "### fromCharCode()"
   ]
  },
  {
   "cell_type": "markdown",
   "id": "216d373c",
   "metadata": {},
   "source": [
    "Convert a Unicode number into a character:"
   ]
  },
  {
   "cell_type": "code",
   "execution_count": 82,
   "id": "c9d86cb8",
   "metadata": {},
   "outputs": [
    {
     "name": "stdout",
     "output_type": "stream",
     "text": [
      "A\n"
     ]
    }
   ],
   "source": [
    "console.log( String.fromCharCode(65) );   // Returns \"A\""
   ]
  },
  {
   "cell_type": "markdown",
   "id": "7dc9e9c0",
   "metadata": {},
   "source": [
    "### includes()"
   ]
  },
  {
   "cell_type": "markdown",
   "id": "2b448c1d",
   "metadata": {},
   "source": [
    "Check if a string includes \"world\":"
   ]
  },
  {
   "cell_type": "code",
   "execution_count": 83,
   "id": "c2f3a3a3",
   "metadata": {},
   "outputs": [
    {
     "name": "stdout",
     "output_type": "stream",
     "text": [
      "true\n"
     ]
    }
   ],
   "source": [
    "var str = \"Hello world, welcome to the universe.\";\n",
    "console.log( str.includes(\"world\") );   // Returns true"
   ]
  },
  {
   "cell_type": "markdown",
   "id": "7967b1d2",
   "metadata": {},
   "source": [
    "### indexOf()"
   ]
  },
  {
   "cell_type": "markdown",
   "id": "60c41b2f",
   "metadata": {},
   "source": [
    "Search a string for \"welcome\":"
   ]
  },
  {
   "cell_type": "code",
   "execution_count": 84,
   "id": "b6a7b9fd",
   "metadata": {},
   "outputs": [
    {
     "name": "stdout",
     "output_type": "stream",
     "text": [
      "13\n",
      "-1\n"
     ]
    }
   ],
   "source": [
    "var str = \"Hello world, welcome to the universe.\";\n",
    "console.log( str.indexOf(\"welcome\") );   // Returns 13\n",
    "console.log( str.indexOf(\"Welcome\") );   // Returns -1"
   ]
  },
  {
   "cell_type": "markdown",
   "id": "0beeeda8",
   "metadata": {},
   "source": [
    "### lastIndexOf()"
   ]
  },
  {
   "cell_type": "markdown",
   "id": "fc021d1e",
   "metadata": {},
   "source": [
    "Search a string for the last occurrence of \"planet\":"
   ]
  },
  {
   "cell_type": "code",
   "execution_count": null,
   "id": "aad91619",
   "metadata": {},
   "outputs": [],
   "source": [
    "var str = \"Hello planet earth, you are a great planet.\";\n",
    "console.log( str.lastIndexOf(\"planet\") );   // Returns 36\n",
    "console.log( str.lastIndexOf(\"Planet\") );   // Returns -1"
   ]
  }
 ],
 "metadata": {
  "kernelspec": {
   "display_name": "Javascript (Node.js)",
   "language": "javascript",
   "name": "javascript"
  },
  "language_info": {
   "file_extension": ".js",
   "mimetype": "application/javascript",
   "name": "javascript",
   "version": "16.9.0"
  }
 },
 "nbformat": 4,
 "nbformat_minor": 5
}
