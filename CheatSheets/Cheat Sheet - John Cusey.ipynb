{
 "cells": [
  {
   "cell_type": "markdown",
   "id": "6913bcbc",
   "metadata": {},
   "source": [
    "# Hello World"
   ]
  },
  {
   "cell_type": "code",
   "execution_count": 1,
   "id": "51dc0af2",
   "metadata": {},
   "outputs": [
    {
     "name": "stdout",
     "output_type": "stream",
     "text": [
      "Hello, World!\n"
     ]
    }
   ],
   "source": [
    "var msg = \"Hello, World!\"\n",
    "console.log(msg)"
   ]
  },
  {
   "cell_type": "markdown",
   "id": "920a7bb4",
   "metadata": {},
   "source": [
    "# Variables"
   ]
  },
  {
   "cell_type": "markdown",
   "id": "02c2b142",
   "metadata": {},
   "source": [
    "* Variable names can contain letters, digits, underscores, and dollar signs.\n",
    "* Variable names are case sensitive (y and Y are different variables)"
   ]
  },
  {
   "cell_type": "markdown",
   "id": "2d29471d",
   "metadata": {},
   "source": [
    "### var"
   ]
  },
  {
   "cell_type": "code",
   "execution_count": 2,
   "id": "05bb74be",
   "metadata": {},
   "outputs": [],
   "source": [
    "var carName;"
   ]
  },
  {
   "cell_type": "markdown",
   "id": "9289e71f",
   "metadata": {},
   "source": [
    "A variable declared without a value will have the value undefined"
   ]
  },
  {
   "cell_type": "code",
   "execution_count": 3,
   "id": "09c4c28f",
   "metadata": {},
   "outputs": [
    {
     "name": "stdout",
     "output_type": "stream",
     "text": [
      "undefined\n"
     ]
    }
   ],
   "source": [
    "console.log( carName )"
   ]
  },
  {
   "cell_type": "code",
   "execution_count": 4,
   "id": "924e8fce",
   "metadata": {},
   "outputs": [
    {
     "name": "stdout",
     "output_type": "stream",
     "text": [
      "Check if variable is NOT defined.\n"
     ]
    }
   ],
   "source": [
    "if( typeof carName !== 'undefined' ) {\n",
    "    console.log( 'Check if variable is defined.')\n",
    "}else{\n",
    "    console.log( 'Check if variable is NOT defined.')\n",
    "}"
   ]
  },
  {
   "cell_type": "markdown",
   "id": "e73b585a",
   "metadata": {},
   "source": [
    "You can just check if the variable has a truthy value or not. That means will evaluate to\n",
    "true if value is not:\n",
    "* null\n",
    "* undefined\n",
    "* NaN\n",
    "* empty string (\"\")\n",
    "* 0\n",
    "* false"
   ]
  },
  {
   "cell_type": "code",
   "execution_count": 5,
   "id": "a7de977a",
   "metadata": {},
   "outputs": [
    {
     "name": "stdout",
     "output_type": "stream",
     "text": [
      "Check if variable is NOT defined.\n"
     ]
    }
   ],
   "source": [
    "if( carName ) {\n",
    "    console.log( 'Check if variable is defined.')\n",
    "}else{\n",
    "    console.log( 'Check if variable is NOT defined.')\n",
    "}"
   ]
  },
  {
   "cell_type": "markdown",
   "id": "7e45b0fa",
   "metadata": {},
   "source": [
    "### const"
   ]
  },
  {
   "cell_type": "markdown",
   "id": "6fbbf25d",
   "metadata": {},
   "source": [
    "Cannot be reassigned and not accessible before they appear within the code."
   ]
  },
  {
   "cell_type": "markdown",
   "id": "cfb6f79d",
   "metadata": {},
   "source": [
    "Area of circle = $\\pi * r^2$  "
   ]
  },
  {
   "cell_type": "code",
   "execution_count": 6,
   "id": "d3399a21",
   "metadata": {},
   "outputs": [],
   "source": [
    "const PI = 3.14"
   ]
  },
  {
   "cell_type": "code",
   "execution_count": 7,
   "id": "09301cde",
   "metadata": {},
   "outputs": [],
   "source": [
    "var r = 5"
   ]
  },
  {
   "cell_type": "code",
   "execution_count": 8,
   "id": "e257f67e",
   "metadata": {},
   "outputs": [
    {
     "data": {
      "text/plain": [
       "78.5"
      ]
     },
     "execution_count": 8,
     "metadata": {},
     "output_type": "execute_result"
    }
   ],
   "source": [
    "PI * Math.pow(r, 2);"
   ]
  },
  {
   "cell_type": "markdown",
   "id": "05fd71e0",
   "metadata": {},
   "source": [
    "### let "
   ]
  },
  {
   "cell_type": "markdown",
   "id": "71b2b10c",
   "metadata": {},
   "source": [
    "The let statement declares a block-scoped local variable, optionally initializing it to\n",
    "a value."
   ]
  },
  {
   "cell_type": "code",
   "execution_count": 10,
   "id": "0400a971",
   "metadata": {},
   "outputs": [
    {
     "ename": "SyntaxError",
     "evalue": "Identifier 'x' has already been declared",
     "output_type": "error",
     "traceback": [
      "evalmachine.<anonymous>:1",
      "let x = 1;",
      "^",
      "",
      "SyntaxError: Identifier 'x' has already been declared",
      "    at Script.runInThisContext (node:vm:129:12)",
      "    at Object.runInThisContext (node:vm:305:38)",
      "    at run ([eval]:1054:15)",
      "    at onRunRequest ([eval]:888:18)",
      "    at onMessage ([eval]:848:13)",
      "    at process.emit (node:events:394:28)",
      "    at emit (node:internal/child_process:917:12)",
      "    at processTicksAndRejections (node:internal/process/task_queues:84:21)"
     ]
    }
   ],
   "source": [
    "let x = 1;\n",
    "\n",
    "if (x === 1) {\n",
    "  let x = 2;\n",
    "\n",
    "  console.log(\"INSIDE: \" + x);\n",
    "  // expected output: 2\n",
    "}\n",
    "\n",
    "console.log(x);\n",
    "// expected output: 1"
   ]
  },
  {
   "cell_type": "code",
   "execution_count": null,
   "id": "ad946ab7",
   "metadata": {},
   "outputs": [],
   "source": []
  }
 ],
 "metadata": {
  "kernelspec": {
   "display_name": "Javascript (Node.js)",
   "language": "javascript",
   "name": "javascript"
  },
  "language_info": {
   "file_extension": ".js",
   "mimetype": "application/javascript",
   "name": "javascript",
   "version": "16.9.0"
  }
 },
 "nbformat": 4,
 "nbformat_minor": 5
}
