{
 "cells": [
  {
   "cell_type": "markdown",
   "id": "6913bcbc",
   "metadata": {},
   "source": [
    "# Hello World"
   ]
  },
  {
   "cell_type": "code",
   "execution_count": 25,
   "id": "51dc0af2",
   "metadata": {},
   "outputs": [
    {
     "name": "stdout",
     "output_type": "stream",
     "text": [
      "Hello, World!\n"
     ]
    }
   ],
   "source": [
    "var msg = \"Hello, World!\"\n",
    "console.log( msg )"
   ]
  },
  {
   "cell_type": "markdown",
   "id": "920a7bb4",
   "metadata": {},
   "source": [
    "# Variables"
   ]
  },
  {
   "cell_type": "markdown",
   "id": "02c2b142",
   "metadata": {},
   "source": [
    "* Variable names can contain letters, digits, underscores, and dollar signs.\n",
    "* Variable names are case sensitive (y and Y are different variables)"
   ]
  },
  {
   "cell_type": "markdown",
   "id": "2d29471d",
   "metadata": {},
   "source": [
    "### var"
   ]
  },
  {
   "cell_type": "code",
   "execution_count": 2,
   "id": "05bb74be",
   "metadata": {},
   "outputs": [],
   "source": [
    "var carName;"
   ]
  },
  {
   "cell_type": "markdown",
   "id": "9289e71f",
   "metadata": {},
   "source": [
    "A variable declared without a value will have the value undefined"
   ]
  },
  {
   "cell_type": "code",
   "execution_count": 24,
   "id": "09c4c28f",
   "metadata": {},
   "outputs": [
    {
     "name": "stdout",
     "output_type": "stream",
     "text": [
      "undefined\n"
     ]
    }
   ],
   "source": [
    "console.log( carName )"
   ]
  },
  {
   "cell_type": "code",
   "execution_count": 4,
   "id": "924e8fce",
   "metadata": {},
   "outputs": [
    {
     "name": "stdout",
     "output_type": "stream",
     "text": [
      "Check if variable is NOT defined.\n"
     ]
    }
   ],
   "source": [
    "if( typeof carName !== 'undefined' ) {\n",
    "    console.log( 'Check if variable is defined.')\n",
    "}else{\n",
    "    console.log( 'Check if variable is NOT defined.')\n",
    "}"
   ]
  },
  {
   "cell_type": "markdown",
   "id": "e73b585a",
   "metadata": {},
   "source": [
    "You can just check if the variable has a truthy value or not. That means will evaluate to\n",
    "true if value is not:\n",
    "* null\n",
    "* undefined\n",
    "* NaN\n",
    "* empty string (\"\")\n",
    "* 0\n",
    "* false"
   ]
  },
  {
   "cell_type": "code",
   "execution_count": 5,
   "id": "a7de977a",
   "metadata": {},
   "outputs": [
    {
     "name": "stdout",
     "output_type": "stream",
     "text": [
      "Check if variable is NOT defined.\n"
     ]
    }
   ],
   "source": [
    "if( carName ) {\n",
    "    console.log( 'Check if variable is defined.')\n",
    "}else{\n",
    "    console.log( 'Check if variable is NOT defined.')\n",
    "}"
   ]
  },
  {
   "cell_type": "markdown",
   "id": "7e45b0fa",
   "metadata": {},
   "source": [
    "### const"
   ]
  },
  {
   "cell_type": "markdown",
   "id": "6fbbf25d",
   "metadata": {},
   "source": [
    "Cannot be reassigned and not accessible before they appear within the code."
   ]
  },
  {
   "cell_type": "markdown",
   "id": "cfb6f79d",
   "metadata": {},
   "source": [
    "Area of circle = $\\pi * r^2$  "
   ]
  },
  {
   "cell_type": "code",
   "execution_count": 6,
   "id": "d3399a21",
   "metadata": {},
   "outputs": [],
   "source": [
    "const PI = 3.14"
   ]
  },
  {
   "cell_type": "code",
   "execution_count": 7,
   "id": "09301cde",
   "metadata": {},
   "outputs": [],
   "source": [
    "var r = 5"
   ]
  },
  {
   "cell_type": "code",
   "execution_count": 26,
   "id": "e257f67e",
   "metadata": {},
   "outputs": [
    {
     "name": "stdout",
     "output_type": "stream",
     "text": [
      "78.5\n"
     ]
    }
   ],
   "source": [
    " console.log( PI * Math.pow(r, 2) )"
   ]
  },
  {
   "cell_type": "markdown",
   "id": "05fd71e0",
   "metadata": {},
   "source": [
    "### let "
   ]
  },
  {
   "cell_type": "markdown",
   "id": "71b2b10c",
   "metadata": {},
   "source": [
    "The let statement declares a block-scoped local variable, optionally initializing it to\n",
    "a value."
   ]
  },
  {
   "cell_type": "code",
   "execution_count": 9,
   "id": "0400a971",
   "metadata": {},
   "outputs": [
    {
     "name": "stdout",
     "output_type": "stream",
     "text": [
      "INSIDE: 2\n",
      "1\n"
     ]
    }
   ],
   "source": [
    "let x = 1;\n",
    "\n",
    "if (x === 1) {\n",
    "  let x = 2;\n",
    "\n",
    "  console.log(\"INSIDE: \" + x);\n",
    "  // expected output: 2\n",
    "}\n",
    "\n",
    "console.log(x);\n",
    "// expected output: 1"
   ]
  },
  {
   "cell_type": "markdown",
   "id": "0b54ec83",
   "metadata": {},
   "source": [
    "# Data Types"
   ]
  },
  {
   "cell_type": "markdown",
   "id": "28084c82",
   "metadata": {},
   "source": [
    "There are 8 basic data types in JavaScript.\n",
    "\n",
    "There are essentially two types of values in JavaScript. The first type is primitives, and the second type is objects (which also includes functions). Primitive values include simple value types such as numbers (which includes everything from integers to floats to Infinity to NaN), booleans, strings, undefined, and null (note: even though typeof null === 'object', null is a still primitive value)."
   ]
  },
  {
   "cell_type": "markdown",
   "id": "9031fd12",
   "metadata": {},
   "source": [
    "### number"
   ]
  },
  {
   "cell_type": "markdown",
   "id": "05444b47",
   "metadata": {},
   "source": [
    " numbers of any kind: integer or floating-point"
   ]
  },
  {
   "cell_type": "code",
   "execution_count": 27,
   "id": "6b453f59",
   "metadata": {},
   "outputs": [
    {
     "name": "stdout",
     "output_type": "stream",
     "text": [
      "123\n"
     ]
    }
   ],
   "source": [
    "var n = 123\n",
    "console.log( n )"
   ]
  },
  {
   "cell_type": "code",
   "execution_count": 28,
   "id": "d9697fba",
   "metadata": {},
   "outputs": [
    {
     "name": "stdout",
     "output_type": "stream",
     "text": [
      "123.909\n"
     ]
    }
   ],
   "source": [
    "var n = 123.909\n",
    "console.log( n )"
   ]
  },
  {
   "cell_type": "markdown",
   "id": "646ac487",
   "metadata": {},
   "source": [
    "**special numeric values**\n",
    "* Infinity     \n",
    "* -Infinity   \n",
    "* NaN (Not a Number)  -  result of an incorrect or an undefined mathematical operation    "
   ]
  },
  {
   "cell_type": "code",
   "execution_count": 29,
   "id": "311ab6e5",
   "metadata": {},
   "outputs": [
    {
     "name": "stdout",
     "output_type": "stream",
     "text": [
      "Infinity\n"
     ]
    }
   ],
   "source": [
    "console.log( 1 / 0 )"
   ]
  },
  {
   "cell_type": "code",
   "execution_count": 30,
   "id": "d18d7369",
   "metadata": {},
   "outputs": [
    {
     "name": "stdout",
     "output_type": "stream",
     "text": [
      "NaN\n"
     ]
    }
   ],
   "source": [
    "console.log( \"TOWN\"/2 )"
   ]
  },
  {
   "cell_type": "markdown",
   "id": "1fa1a5ab",
   "metadata": {},
   "source": [
    "### bigint"
   ]
  },
  {
   "cell_type": "markdown",
   "id": "ce88f590",
   "metadata": {},
   "source": [
    "value is created by appending n to the end of an integer"
   ]
  },
  {
   "cell_type": "code",
   "execution_count": 31,
   "id": "430ad3da",
   "metadata": {},
   "outputs": [
    {
     "name": "stdout",
     "output_type": "stream",
     "text": [
      "1234567890123456789012345678901234567890n\n"
     ]
    }
   ],
   "source": [
    "const myBigInt = 1234567890123456789012345678901234567890n;\n",
    "console.log( myBigInt )"
   ]
  },
  {
   "cell_type": "markdown",
   "id": "65cbd217",
   "metadata": {},
   "source": [
    "### string"
   ]
  },
  {
   "cell_type": "markdown",
   "id": "65895aa9",
   "metadata": {},
   "source": [
    "In JavaScript, there are 3 types of quotes.\n",
    "\n",
    "1. Double quotes: \"Hello\".\n",
    "2. Single quotes: 'Hello'.\n",
    "3. Backticks: `Hello`."
   ]
  },
  {
   "cell_type": "markdown",
   "id": "0df2dd4a",
   "metadata": {},
   "source": [
    "Double and single quotes are “simple” quotes. There’s practically no difference between \n",
    "them in JavaScript.\n",
    "\n",
    "Backticks are “extended functionality” quotes. They allow us to embed variables and \n",
    "expressions into a string by wrapping them in ${…}, for example:"
   ]
  },
  {
   "cell_type": "code",
   "execution_count": 32,
   "id": "0deb76c6",
   "metadata": {},
   "outputs": [
    {
     "name": "stdout",
     "output_type": "stream",
     "text": [
      "Hello, John!\n"
     ]
    }
   ],
   "source": [
    "var name = \"John\";\n",
    "\n",
    "// embed a variable\n",
    "console.log(  `Hello, ${name}!` ); "
   ]
  },
  {
   "cell_type": "markdown",
   "id": "1e3629f6",
   "metadata": {},
   "source": [
    "### boolean"
   ]
  },
  {
   "cell_type": "code",
   "execution_count": 33,
   "id": "3cf889ce",
   "metadata": {},
   "outputs": [
    {
     "name": "stdout",
     "output_type": "stream",
     "text": [
      "true\n"
     ]
    }
   ],
   "source": [
    "var nameFieldChecked = true; \n",
    "console.log(  nameFieldChecked )"
   ]
  },
  {
   "cell_type": "markdown",
   "id": "34d2bec6",
   "metadata": {},
   "source": [
    "### null"
   ]
  },
  {
   "cell_type": "markdown",
   "id": "42cfb804",
   "metadata": {},
   "source": [
    "It’s just a special value which represents “nothing”, “empty” or “value unknown”."
   ]
  },
  {
   "cell_type": "code",
   "execution_count": 34,
   "id": "509d9f78",
   "metadata": {},
   "outputs": [
    {
     "name": "stdout",
     "output_type": "stream",
     "text": [
      "null\n"
     ]
    }
   ],
   "source": [
    "var age = null;\n",
    "console.log( age );"
   ]
  },
  {
   "cell_type": "markdown",
   "id": "95cd96e4",
   "metadata": {},
   "source": [
    "### undefined"
   ]
  },
  {
   "cell_type": "markdown",
   "id": "3f37ada6",
   "metadata": {},
   "source": [
    "If a variable is declared, but not assigned"
   ]
  },
  {
   "cell_type": "code",
   "execution_count": 35,
   "id": "98f10b5e",
   "metadata": {},
   "outputs": [
    {
     "name": "stdout",
     "output_type": "stream",
     "text": [
      "undefined\n"
     ]
    }
   ],
   "source": [
    "var address;\n",
    "console.log( address );"
   ]
  },
  {
   "cell_type": "markdown",
   "id": "9df71239",
   "metadata": {},
   "source": [
    "### object"
   ]
  },
  {
   "cell_type": "markdown",
   "id": "65f22467",
   "metadata": {},
   "source": [
    "Object and Array"
   ]
  },
  {
   "cell_type": "code",
   "execution_count": 38,
   "id": "ff1c7110",
   "metadata": {},
   "outputs": [
    {
     "data": {
      "text/plain": [
       "'object'"
      ]
     },
     "execution_count": 38,
     "metadata": {},
     "output_type": "execute_result"
    }
   ],
   "source": [
    "var bank = {\n",
    "    amount: 12.00,\n",
    "    type: \"Checking\"\n",
    "}\n",
    "\n",
    "typeof bank"
   ]
  },
  {
   "cell_type": "code",
   "execution_count": 39,
   "id": "1f520421",
   "metadata": {},
   "outputs": [
    {
     "data": {
      "text/plain": [
       "'object'"
      ]
     },
     "execution_count": 39,
     "metadata": {},
     "output_type": "execute_result"
    }
   ],
   "source": [
    "var carTypes = [\"SEDAN\", \"HATCHBACK\"];\n",
    "\n",
    "typeof carTypes"
   ]
  },
  {
   "cell_type": "markdown",
   "id": "8df2d11d",
   "metadata": {},
   "source": [
    "### symbol"
   ]
  },
  {
   "cell_type": "markdown",
   "id": "89030033",
   "metadata": {},
   "source": [
    "Every symbol value returned from Symbol() is unique.     \n",
    "\n",
    "A symbol value may be used as an identifier for object properties this is the data type's\n",
    "only purpose.\n",
    "\n",
    "Is primary type so you can uses the new operator.            \n",
    "var a = new Symbol(); // This will throw error."
   ]
  },
  {
   "cell_type": "markdown",
   "id": "672f0b91",
   "metadata": {},
   "source": [
    "In Example below. Tom is just description and is used for debugging. Tom is NOT index as like with Array. "
   ]
  },
  {
   "cell_type": "code",
   "execution_count": 45,
   "id": "e39b46ab",
   "metadata": {},
   "outputs": [
    {
     "name": "stdout",
     "output_type": "stream",
     "text": [
      "Tom John Smith\n"
     ]
    }
   ],
   "source": [
    "var people = [];\n",
    "people[\"Tom\"] = \"Tom John Smith\"; // \"Tom\" is index for as array. \n",
    "\n",
    "console.log ( people[\"Tom\"] );"
   ]
  },
  {
   "cell_type": "code",
   "execution_count": 41,
   "id": "5e0a8836",
   "metadata": {},
   "outputs": [
    {
     "name": "stdout",
     "output_type": "stream",
     "text": [
      "true\n"
     ]
    }
   ],
   "source": [
    "const s1  = Symbol('Tom'); "
   ]
  },
  {
   "cell_type": "code",
   "execution_count": 42,
   "id": "5d10de44",
   "metadata": {},
   "outputs": [
    {
     "name": "stdout",
     "output_type": "stream",
     "text": [
      "true\n"
     ]
    }
   ],
   "source": [
    "console.log( s1 === s1)"
   ]
  },
  {
   "cell_type": "code",
   "execution_count": 43,
   "id": "03178cfe",
   "metadata": {},
   "outputs": [
    {
     "name": "stdout",
     "output_type": "stream",
     "text": [
      "false\n"
     ]
    }
   ],
   "source": [
    "console.log( s1 === Symbol('Tom') )"
   ]
  },
  {
   "cell_type": "code",
   "execution_count": 44,
   "id": "6c37af01",
   "metadata": {},
   "outputs": [
    {
     "name": "stdout",
     "output_type": "stream",
     "text": [
      "Symbol(Tom)\n"
     ]
    }
   ],
   "source": [
    "console.log( s1.toString() )"
   ]
  },
  {
   "cell_type": "markdown",
   "id": "036a5cdd",
   "metadata": {},
   "source": [
    "# The typeof operator"
   ]
  },
  {
   "cell_type": "code",
   "execution_count": 10,
   "id": "bf33b9ce",
   "metadata": {},
   "outputs": [
    {
     "data": {
      "text/plain": [
       "'undefined'"
      ]
     },
     "execution_count": 10,
     "metadata": {},
     "output_type": "execute_result"
    }
   ],
   "source": [
    "typeof undefined "
   ]
  },
  {
   "cell_type": "code",
   "execution_count": 11,
   "id": "5a033c46",
   "metadata": {},
   "outputs": [
    {
     "data": {
      "text/plain": [
       "'number'"
      ]
     },
     "execution_count": 11,
     "metadata": {},
     "output_type": "execute_result"
    }
   ],
   "source": [
    "typeof 0 "
   ]
  },
  {
   "cell_type": "code",
   "execution_count": 12,
   "id": "fb9eb1ae",
   "metadata": {},
   "outputs": [
    {
     "data": {
      "text/plain": [
       "'bigint'"
      ]
     },
     "execution_count": 12,
     "metadata": {},
     "output_type": "execute_result"
    }
   ],
   "source": [
    "typeof 10n"
   ]
  },
  {
   "cell_type": "code",
   "execution_count": 13,
   "id": "eeb32a06",
   "metadata": {},
   "outputs": [
    {
     "data": {
      "text/plain": [
       "'boolean'"
      ]
     },
     "execution_count": 13,
     "metadata": {},
     "output_type": "execute_result"
    }
   ],
   "source": [
    "typeof true "
   ]
  },
  {
   "cell_type": "code",
   "execution_count": 14,
   "id": "b066f30b",
   "metadata": {},
   "outputs": [
    {
     "data": {
      "text/plain": [
       "'string'"
      ]
     },
     "execution_count": 14,
     "metadata": {},
     "output_type": "execute_result"
    }
   ],
   "source": [
    "typeof \"foo\" "
   ]
  },
  {
   "cell_type": "code",
   "execution_count": 15,
   "id": "886eddc6",
   "metadata": {},
   "outputs": [
    {
     "data": {
      "text/plain": [
       "'symbol'"
      ]
     },
     "execution_count": 15,
     "metadata": {},
     "output_type": "execute_result"
    }
   ],
   "source": [
    "typeof Symbol(\"id\") "
   ]
  },
  {
   "cell_type": "code",
   "execution_count": 16,
   "id": "24b9588c",
   "metadata": {},
   "outputs": [
    {
     "data": {
      "text/plain": [
       "'object'"
      ]
     },
     "execution_count": 16,
     "metadata": {},
     "output_type": "execute_result"
    }
   ],
   "source": [
    "typeof Math "
   ]
  },
  {
   "cell_type": "code",
   "execution_count": 17,
   "id": "ef4f3105",
   "metadata": {},
   "outputs": [
    {
     "data": {
      "text/plain": [
       "'object'"
      ]
     },
     "execution_count": 17,
     "metadata": {},
     "output_type": "execute_result"
    }
   ],
   "source": [
    "typeof null"
   ]
  },
  {
   "cell_type": "code",
   "execution_count": 19,
   "id": "9ab3a021",
   "metadata": {},
   "outputs": [
    {
     "data": {
      "text/plain": [
       "'function'"
      ]
     },
     "execution_count": 19,
     "metadata": {},
     "output_type": "execute_result"
    }
   ],
   "source": [
    "function myFunction() {\n",
    "  return 0;   \n",
    "}\n",
    "\n",
    "\n",
    "typeof myFunction"
   ]
  },
  {
   "cell_type": "code",
   "execution_count": 36,
   "id": "07ac0888",
   "metadata": {},
   "outputs": [
    {
     "data": {
      "text/plain": [
       "'object'"
      ]
     },
     "execution_count": 36,
     "metadata": {},
     "output_type": "execute_result"
    }
   ],
   "source": [
    "var fruit = [\"Banana\", \"Apple\", \"Pear\"];\n",
    "typeof fruit ;"
   ]
  },
  {
   "cell_type": "code",
   "execution_count": 37,
   "id": "102c8c4d",
   "metadata": {},
   "outputs": [
    {
     "data": {
      "text/plain": [
       "'object'"
      ]
     },
     "execution_count": 37,
     "metadata": {},
     "output_type": "execute_result"
    }
   ],
   "source": [
    "var person = {\n",
    "firstName:\"John\",\n",
    "lastName:\"Doe\",\n",
    "age:20,\n",
    "nationality:\"German\"\n",
    "};\n",
    "\n",
    "typeof person ;"
   ]
  },
  {
   "cell_type": "markdown",
   "id": "8a275959",
   "metadata": {},
   "source": [
    "# Array"
   ]
  },
  {
   "cell_type": "markdown",
   "id": "a69cbeec",
   "metadata": {},
   "source": [
    "## concat()       \n",
    "Join several arrays into one"
   ]
  },
  {
   "cell_type": "code",
   "execution_count": 46,
   "id": "8faa6a9a",
   "metadata": {},
   "outputs": [
    {
     "name": "stdout",
     "output_type": "stream",
     "text": [
      "[ 'Cecilie', 'Lone', 'Emil', 'Tobias', 'Linus' ]\n"
     ]
    }
   ],
   "source": [
    "var hege = [\"Cecilie\", \"Lone\"];\n",
    "var stale = [\"Emil\", \"Tobias\", \"Linus\"];\n",
    "\n",
    "var children = hege.concat(stale); \n",
    "\n",
    "console.log( children );"
   ]
  },
  {
   "cell_type": "markdown",
   "id": "c0e992bd",
   "metadata": {},
   "source": [
    "## constructor"
   ]
  },
  {
   "cell_type": "markdown",
   "id": "1e14bb9d",
   "metadata": {},
   "source": [
    "The constructor property returns the function that created the Array prototype"
   ]
  },
  {
   "cell_type": "code",
   "execution_count": 80,
   "id": "d1895a64",
   "metadata": {},
   "outputs": [
    {
     "name": "stdout",
     "output_type": "stream",
     "text": [
      "[Function: Array]\n"
     ]
    }
   ],
   "source": [
    "var fruits = ['Apple', 'Banana'];\n",
    "console.log( fruits.constructor );   // Returns function Array() {[native code]}"
   ]
  },
  {
   "cell_type": "markdown",
   "id": "f7509364",
   "metadata": {},
   "source": [
    "**Array literal notation**"
   ]
  },
  {
   "cell_type": "code",
   "execution_count": 47,
   "id": "1fcbbc8a",
   "metadata": {},
   "outputs": [
    {
     "name": "stdout",
     "output_type": "stream",
     "text": [
      "2\n",
      "Apple\n"
     ]
    }
   ],
   "source": [
    "var fruits = ['Apple', 'Banana'];\n",
    "\n",
    "console.log(fruits.length); // 2\n",
    "console.log(fruits[0]);     // \"Apple\""
   ]
  },
  {
   "cell_type": "markdown",
   "id": "f9e4c11f",
   "metadata": {},
   "source": [
    "**Array constructor with a single parameter**"
   ]
  },
  {
   "cell_type": "code",
   "execution_count": 48,
   "id": "cf0f4686",
   "metadata": {},
   "outputs": [
    {
     "name": "stdout",
     "output_type": "stream",
     "text": [
      "2\n",
      "undefined\n"
     ]
    }
   ],
   "source": [
    "var fruits = new Array(2);\n",
    "\n",
    "console.log(fruits.length); // 2\n",
    "console.log(fruits[0]);     // undefined"
   ]
  },
  {
   "cell_type": "markdown",
   "id": "c9043763",
   "metadata": {},
   "source": [
    "**Array constructor with multiple parameters**"
   ]
  },
  {
   "cell_type": "code",
   "execution_count": 49,
   "id": "14fe2013",
   "metadata": {},
   "outputs": [
    {
     "name": "stdout",
     "output_type": "stream",
     "text": [
      "2\n",
      "Apple\n"
     ]
    }
   ],
   "source": [
    "var fruits = new Array('Apple', 'Banana');\n",
    "\n",
    "console.log(fruits.length); // 2\n",
    "console.log(fruits[0]);     // \"Apple\""
   ]
  },
  {
   "cell_type": "markdown",
   "id": "8f289f89",
   "metadata": {},
   "source": [
    "## copyWithin()"
   ]
  },
  {
   "cell_type": "markdown",
   "id": "88883983",
   "metadata": {},
   "source": [
    "Copies array elements to another position in an array, overwriting the existing values.    \n",
    "\n",
    "array.copyWithin(target, start, end)\n",
    "\n",
    "\n",
    "| Parameter     | Description |\n",
    "| ----------- | ----------- |\n",
    "|target    | Required. The index position to copy the elements to      |\n",
    "|start   | Optional. The index position to start copying elements from  (default is 0)  |\n",
    "|end\t  | Optional. The index position to stop copying elements from (default is array.length)  |"
   ]
  },
  {
   "cell_type": "code",
   "execution_count": 56,
   "id": "7f10cfc8",
   "metadata": {},
   "outputs": [
    {
     "name": "stdout",
     "output_type": "stream",
     "text": [
      "0 Banana\n",
      "1 Orange\n",
      "2 Banana\n",
      "3 Orange\n"
     ]
    }
   ],
   "source": [
    "var fruits = [\"Banana\", \"Orange\", \"Apple\", \"Mango\"];\n",
    "fruits.copyWithin(2);\n",
    "\n",
    "fruits.forEach((item, index)=>{\n",
    "    console.log(index, item)\n",
    "})"
   ]
  },
  {
   "cell_type": "code",
   "execution_count": 55,
   "id": "7fe2b5c1",
   "metadata": {},
   "outputs": [
    {
     "name": "stdout",
     "output_type": "stream",
     "text": [
      "0 Banana\n",
      "1 Orange\n",
      "2 Melon\n",
      "3 Apple\n",
      "4 Orange\n",
      "5 Melon\n",
      "6 Watermelon\n"
     ]
    }
   ],
   "source": [
    "var fruits = [\"Banana\", \"Orange\",'Melon', \"Apple\", \"Mango\", \"Berries\", \"Watermelon\"];\n",
    "fruits.copyWithin(4, 1 , 3);\n",
    "\n",
    "fruits.forEach((item, index)=>{\n",
    "    console.log(index, item)\n",
    "})"
   ]
  },
  {
   "cell_type": "markdown",
   "id": "fcc4554f",
   "metadata": {},
   "source": [
    "## entries()"
   ]
  },
  {
   "cell_type": "markdown",
   "id": "c840dd11",
   "metadata": {},
   "source": [
    "Array Iterator object that contains the key/value pairs for each index in the array."
   ]
  },
  {
   "cell_type": "code",
   "execution_count": 57,
   "id": "1aa7df89",
   "metadata": {},
   "outputs": [
    {
     "name": "stdout",
     "output_type": "stream",
     "text": [
      "0 a\n",
      "1 b\n",
      "2 c\n"
     ]
    }
   ],
   "source": [
    "const a = ['a', 'b', 'c'];\n",
    "\n",
    "for (const [index, element] of a.entries()){\n",
    "    console.log(index, element);\n",
    "}"
   ]
  },
  {
   "cell_type": "code",
   "execution_count": 58,
   "id": "996e7907",
   "metadata": {},
   "outputs": [
    {
     "name": "stdout",
     "output_type": "stream",
     "text": [
      "[ 0, 'a' ]\n",
      "[ 1, 'b' ]\n"
     ]
    }
   ],
   "source": [
    "const array1 = ['a', 'b', 'c'];\n",
    "\n",
    "const iterator1 = array1.entries();\n",
    "\n",
    "console.log(iterator1.next().value);\n",
    "// expected output: Array [0, \"a\"]\n",
    "\n",
    "console.log(iterator1.next().value);\n",
    "// expected output: Array [1, \"b\"]"
   ]
  },
  {
   "cell_type": "markdown",
   "id": "e9317002",
   "metadata": {},
   "source": [
    "## every()"
   ]
  },
  {
   "cell_type": "markdown",
   "id": "726f4d5a",
   "metadata": {},
   "source": [
    "Check if all the values in ages[] are 18 or over:"
   ]
  },
  {
   "cell_type": "code",
   "execution_count": 16,
   "id": "d0169e25",
   "metadata": {},
   "outputs": [
    {
     "data": {
      "text/plain": [
       "false"
      ]
     },
     "execution_count": 16,
     "metadata": {},
     "output_type": "execute_result"
    }
   ],
   "source": [
    "var ages = [32, 33, 16, 40];\n",
    "\n",
    "function checkAge(age) {\n",
    "  return age > 18;\n",
    "};\n",
    "\n",
    "ages.every(checkAge)    // Returns false"
   ]
  },
  {
   "cell_type": "code",
   "execution_count": 15,
   "id": "b6d53365",
   "metadata": {},
   "outputs": [
    {
     "data": {
      "text/plain": [
       "true"
      ]
     },
     "execution_count": 15,
     "metadata": {},
     "output_type": "execute_result"
    }
   ],
   "source": [
    "var ages = [32, 33, 20, 40];\n",
    "\n",
    "function checkAge(age) {\n",
    "  return age > 18;\n",
    "};\n",
    "\n",
    "ages.every(checkAge);    // Returns false"
   ]
  },
  {
   "cell_type": "markdown",
   "id": "5af861e6",
   "metadata": {},
   "source": [
    "## fill()"
   ]
  },
  {
   "cell_type": "markdown",
   "id": "2bd73327",
   "metadata": {},
   "source": [
    "Fill all the array elements with a static value:"
   ]
  },
  {
   "cell_type": "code",
   "execution_count": 1,
   "id": "770c3c79",
   "metadata": {},
   "outputs": [
    {
     "name": "stdout",
     "output_type": "stream",
     "text": [
      "[ 'Kiwi', 'Kiwi', 'Kiwi', 'Kiwi' ]\n"
     ]
    }
   ],
   "source": [
    "var fruits = [\"Banana\", \"Orange\", \"Apple\", \"Mango\"];\n",
    "fruits.fill(\"Kiwi\");\n",
    "\n",
    "console.log ( fruits );"
   ]
  },
  {
   "cell_type": "code",
   "execution_count": 5,
   "id": "caab71a7",
   "metadata": {},
   "outputs": [
    {
     "name": "stdout",
     "output_type": "stream",
     "text": [
      "0 { accountNumber: Symbol(), type: 'CHECKING', amount: 50 }\n",
      "1 { accountNumber: Symbol(), type: 'CHECKING', amount: 50 }\n",
      "2 { accountNumber: Symbol(), type: 'CHECKING', amount: 50 }\n"
     ]
    }
   ],
   "source": [
    "var bank = new Array(3);\n",
    "\n",
    "var initialAccount = {\n",
    "    accountNumber: Symbol(),\n",
    "    type: \"CHECKING\",\n",
    "    amount: 50\n",
    "};\n",
    "\n",
    "bank.fill(initialAccount);\n",
    "\n",
    "for (const [index, element] of bank.entries()){\n",
    "    console.log(index, element);\n",
    "};"
   ]
  },
  {
   "cell_type": "markdown",
   "id": "a9bacf30",
   "metadata": {},
   "source": [
    "### filter()"
   ]
  },
  {
   "cell_type": "markdown",
   "id": "0c2f2c1a",
   "metadata": {},
   "source": [
    "Return an array of all the values in ages[] that are 18 or over:"
   ]
  },
  {
   "cell_type": "code",
   "execution_count": 14,
   "id": "7f02a821",
   "metadata": {},
   "outputs": [
    {
     "data": {
      "text/plain": [
       "[ 32, 33, 40 ]"
      ]
     },
     "execution_count": 14,
     "metadata": {},
     "output_type": "execute_result"
    }
   ],
   "source": [
    "var ages = [32, 33, 16, 40];\n",
    "\n",
    "function checkAdult(age) {\n",
    "  return age >= 18;\n",
    "};\n",
    "\n",
    "ages.filter(checkAdult);    // Returns [32, 33, 40]"
   ]
  },
  {
   "cell_type": "markdown",
   "id": "98fe8639",
   "metadata": {},
   "source": [
    "### find()"
   ]
  },
  {
   "cell_type": "markdown",
   "id": "d6dbd17d",
   "metadata": {},
   "source": [
    "Get the value of the first element in the array that has a value over 18:"
   ]
  },
  {
   "cell_type": "code",
   "execution_count": 9,
   "id": "2cfab352",
   "metadata": {},
   "outputs": [
    {
     "data": {
      "text/plain": [
       "20"
      ]
     },
     "execution_count": 9,
     "metadata": {},
     "output_type": "execute_result"
    }
   ],
   "source": [
    "var ages = [3, 10, 18, 20];\n",
    "\n",
    "function checkAge(age) {\n",
    "  return age > 18;\n",
    "};\n",
    "\n",
    "ages.find(checkAge);"
   ]
  },
  {
   "cell_type": "markdown",
   "id": "adfcf55e",
   "metadata": {},
   "source": [
    "### findIndex()"
   ]
  },
  {
   "cell_type": "markdown",
   "id": "41bc8fe4",
   "metadata": {},
   "source": [
    "Get the index of the first element in the array that has a value of 18 or more:"
   ]
  },
  {
   "cell_type": "code",
   "execution_count": 13,
   "id": "ffd8d445",
   "metadata": {},
   "outputs": [
    {
     "data": {
      "text/plain": [
       "3"
      ]
     },
     "execution_count": 13,
     "metadata": {},
     "output_type": "execute_result"
    }
   ],
   "source": [
    "var ages = [3, 10, 18, 20];\n",
    "\n",
    "function checkAge(age) {\n",
    "  return age > 18;\n",
    "};\n",
    "\n",
    "ages.findIndex(checkAge)   // Returns 3"
   ]
  },
  {
   "cell_type": "markdown",
   "id": "caa706d7",
   "metadata": {},
   "source": [
    "### forEach()"
   ]
  },
  {
   "cell_type": "markdown",
   "id": "b2844fc9",
   "metadata": {},
   "source": [
    "List each item in the array:"
   ]
  },
  {
   "cell_type": "code",
   "execution_count": 12,
   "id": "8fc1d566",
   "metadata": {},
   "outputs": [
    {
     "name": "stdout",
     "output_type": "stream",
     "text": [
      "0 apple\n",
      "1 orange\n",
      "2 cherry\n"
     ]
    }
   ],
   "source": [
    "var fruits = [\"apple\", \"orange\", \"cherry\"];\n",
    "\n",
    "function myFunction(item, index) {\n",
    "  console.log( index, item ); \n",
    "};\n",
    "\n",
    "fruits.forEach(myFunction);"
   ]
  },
  {
   "cell_type": "markdown",
   "id": "68e1c834",
   "metadata": {},
   "source": [
    "### from()"
   ]
  },
  {
   "cell_type": "markdown",
   "id": "173f2931",
   "metadata": {},
   "source": [
    "Create an Array:"
   ]
  },
  {
   "cell_type": "markdown",
   "id": "3c9b5cb4",
   "metadata": {},
   "source": [
    "Array.from(object, mapFunction, thisValue)\n",
    "\n",
    "| Parameter     | Description                                   |\n",
    "| -----------   | --------------------------------------------- |\n",
    "| object        | Required. The object to convert to an array   |\n",
    "| mapFunction   | Optional. A map function to call on each item of the array |\n",
    "| thisValue     | Optional. A value to use as this when executing the mapFunction |  \n"
   ]
  },
  {
   "cell_type": "code",
   "execution_count": 29,
   "id": "1bc64cf6",
   "metadata": {},
   "outputs": [
    {
     "name": "stdout",
     "output_type": "stream",
     "text": [
      "[ 5, 6, 7 ]\n",
      "[ 10, 12, 14 ]\n"
     ]
    }
   ],
   "source": [
    "var scores = [5, 6, 7];\n",
    "\n",
    "\n",
    "var mupliplier = {\n",
    "    do(x) {\n",
    "        return x * this.factor;\n",
    "    }\n",
    "};\n",
    "\n",
    "var newScores = Array.from(scores, mupliplier.do, {factor: 1} );\n",
    "console.log(newScores);\n",
    "\n",
    "var newScores = Array.from(scores, mupliplier.do, {factor: 2} );\n",
    "console.log(newScores);"
   ]
  },
  {
   "cell_type": "markdown",
   "id": "2e218047",
   "metadata": {},
   "source": [
    "### includes()"
   ]
  },
  {
   "cell_type": "markdown",
   "id": "996d99bb",
   "metadata": {},
   "source": [
    "Check if an array includes \"Mango\":"
   ]
  },
  {
   "cell_type": "code",
   "execution_count": 30,
   "id": "54da4d93",
   "metadata": {},
   "outputs": [
    {
     "data": {
      "text/plain": [
       "true"
      ]
     },
     "execution_count": 30,
     "metadata": {},
     "output_type": "execute_result"
    }
   ],
   "source": [
    "var fruits = [\"Banana\", \"Orange\", \"Apple\", \"Mango\"];\n",
    "fruits.includes(\"Mango\")   // Returns true"
   ]
  },
  {
   "cell_type": "markdown",
   "id": "faf69e97",
   "metadata": {},
   "source": [
    "### indexOf()"
   ]
  },
  {
   "cell_type": "markdown",
   "id": "7c95ecb0",
   "metadata": {},
   "source": [
    "Search an array for the item \"Apple\":"
   ]
  },
  {
   "cell_type": "code",
   "execution_count": 32,
   "id": "9c7b6e35",
   "metadata": {},
   "outputs": [
    {
     "data": {
      "text/plain": [
       "2"
      ]
     },
     "execution_count": 32,
     "metadata": {},
     "output_type": "execute_result"
    }
   ],
   "source": [
    "var fruits = [\"Banana\", \"Orange\", \"Apple\", \"Mango\"];\n",
    "fruits.indexOf(\"Apple\")   // Returns 2"
   ]
  },
  {
   "cell_type": "markdown",
   "id": "5e631dbc",
   "metadata": {},
   "source": [
    "### isArray()"
   ]
  },
  {
   "cell_type": "markdown",
   "id": "d4e7eef1",
   "metadata": {},
   "source": [
    "Check whether an object is an array:"
   ]
  },
  {
   "cell_type": "code",
   "execution_count": 33,
   "id": "f1370ac8",
   "metadata": {},
   "outputs": [
    {
     "data": {
      "text/plain": [
       "true"
      ]
     },
     "execution_count": 33,
     "metadata": {},
     "output_type": "execute_result"
    }
   ],
   "source": [
    "var fruits = [\"Banana\", \"Orange\", \"Apple\", \"Mango\"];\n",
    "Array.isArray(fruits)   // Returns true"
   ]
  },
  {
   "cell_type": "markdown",
   "id": "1cd453a8",
   "metadata": {},
   "source": [
    "### join()"
   ]
  },
  {
   "cell_type": "markdown",
   "id": "33155eb3",
   "metadata": {},
   "source": [
    "Convert the elements of an array into a string:"
   ]
  },
  {
   "cell_type": "code",
   "execution_count": 35,
   "id": "b98a092e",
   "metadata": {},
   "outputs": [
    {
     "data": {
      "text/plain": [
       "'Banana,Orange,Apple,Mango'"
      ]
     },
     "execution_count": 35,
     "metadata": {},
     "output_type": "execute_result"
    }
   ],
   "source": [
    "var fruits = [\"Banana\", \"Orange\", \"Apple\", \"Mango\"];\n",
    "fruits.join()   // Returns \"Banana,Orange,Apple,Mango\""
   ]
  },
  {
   "cell_type": "markdown",
   "id": "beb6c0a3",
   "metadata": {},
   "source": [
    "### keys()"
   ]
  },
  {
   "cell_type": "markdown",
   "id": "bca7a38d",
   "metadata": {},
   "source": [
    "Create an Array Iterator object, containing the keys of the array:"
   ]
  },
  {
   "cell_type": "code",
   "execution_count": 37,
   "id": "b78ff0fa",
   "metadata": {},
   "outputs": [
    {
     "name": "stdout",
     "output_type": "stream",
     "text": [
      "0\n",
      "1\n",
      "2\n",
      "3\n"
     ]
    }
   ],
   "source": [
    "var fruits = [\"Banana\", \"Orange\", \"Apple\", \"Mango\"];\n",
    "\n",
    "for (let x of fruits.keys()) {\n",
    "  console.log( x );\n",
    "}"
   ]
  },
  {
   "cell_type": "markdown",
   "id": "d4be743d",
   "metadata": {},
   "source": [
    "### length"
   ]
  },
  {
   "cell_type": "markdown",
   "id": "9721b434",
   "metadata": {},
   "source": [
    "Return the length of an array:"
   ]
  },
  {
   "cell_type": "code",
   "execution_count": 39,
   "id": "18dc1c44",
   "metadata": {},
   "outputs": [
    {
     "name": "stdout",
     "output_type": "stream",
     "text": [
      "4\n"
     ]
    }
   ],
   "source": [
    "var fruits = [\"Banana\", \"Orange\", \"Apple\", \"Mango\"];\n",
    "console.log( fruits.length );   // Returns 4"
   ]
  },
  {
   "cell_type": "markdown",
   "id": "07664e9a",
   "metadata": {},
   "source": [
    "### lastIndexOf()"
   ]
  },
  {
   "cell_type": "markdown",
   "id": "72521316",
   "metadata": {},
   "source": [
    "Search an array for the item \"Apple\":"
   ]
  },
  {
   "cell_type": "code",
   "execution_count": 40,
   "id": "76c8c0bd",
   "metadata": {},
   "outputs": [
    {
     "name": "stdout",
     "output_type": "stream",
     "text": [
      "2\n"
     ]
    }
   ],
   "source": [
    "var fruits = [\"Apple\", \"Orange\", \"Apple\", \"Mango\"];\n",
    "console.log( fruits.lastIndexOf(\"Apple\") );  // Returns 2"
   ]
  },
  {
   "cell_type": "markdown",
   "id": "37cb25dd",
   "metadata": {},
   "source": [
    "### map()"
   ]
  },
  {
   "cell_type": "markdown",
   "id": "9408e949",
   "metadata": {},
   "source": [
    "array.map(function(currentValue, index, arr), thisValue)"
   ]
  },
  {
   "cell_type": "markdown",
   "id": "e4d7721c",
   "metadata": {},
   "source": [
    "| Parameter                         | Description                                                      |\n",
    "| :--------------------------------- |:----------------------------------------------------------------- |\n",
    "|function(currentValue, index, arr) |   Required. A function to be run for each element in the array.  |\n",
    "| thisValue                         |  Optional. A value to be passed to the function to be used       |\n",
    "|                                   |   as its \"this\" value.                                           |\n",
    "|                                   |  If this parameter is empty, the value \"undefined\" will be       |   \n",
    "|                                   |  passed as its \"this\" value                                      |\n",
    "\n"
   ]
  },
  {
   "cell_type": "markdown",
   "id": "b2f7d6f5",
   "metadata": {},
   "source": [
    "Function arguments:"
   ]
  },
  {
   "cell_type": "markdown",
   "id": "c04154df",
   "metadata": {},
   "source": [
    "| Argument      | Description   |\n",
    "| :------------- | :------------- |\n",
    "| currentValue  | Required. The value of the current element  |\n",
    "| index  | Optional. The array index of the current element  |\n",
    "| arr  | Optional. The array object the current element belongs to  |"
   ]
  },
  {
   "cell_type": "code",
   "execution_count": 46,
   "id": "4d6fd51a",
   "metadata": {},
   "outputs": [
    {
     "name": "stdout",
     "output_type": "stream",
     "text": [
      "Apple 0 [ 'Apple', 'Orange', 'Apple', 'Mango' ]\n",
      "Orange 1 [ 'Apple', 'Orange', 'Apple', 'Mango' ]\n",
      "Apple 2 [ 'Apple', 'Orange', 'Apple', 'Mango' ]\n",
      "Mango 3 [ 'Apple', 'Orange', 'Apple', 'Mango' ]\n"
     ]
    },
    {
     "data": {
      "text/plain": [
       "[ 0, 2, 4, 6 ]"
      ]
     },
     "execution_count": 46,
     "metadata": {},
     "output_type": "execute_result"
    }
   ],
   "source": [
    "var fruits = [\"Apple\", \"Orange\", \"Apple\", \"Mango\"];\n",
    "\n",
    "function myFunction (currentValue, index, arr){\n",
    "    console.log(currentValue, index, arr);\n",
    "    \n",
    "    return index * this.factor;\n",
    "    \n",
    "};\n",
    "\n",
    "fruits.map(myFunction, {factor: 2});\n"
   ]
  },
  {
   "cell_type": "markdown",
   "id": "ca0a2188",
   "metadata": {},
   "source": [
    "### pop() "
   ]
  },
  {
   "cell_type": "markdown",
   "id": "c7e676b9",
   "metadata": {},
   "source": [
    "Remove the last element of an array:"
   ]
  },
  {
   "cell_type": "code",
   "execution_count": 48,
   "id": "424d01d4",
   "metadata": {},
   "outputs": [
    {
     "name": "stdout",
     "output_type": "stream",
     "text": [
      "Mango\n"
     ]
    }
   ],
   "source": [
    "var fruits = [\"Banana\", \"Orange\", \"Apple\", \"Mango\"];\n",
    "console.log( fruits.pop() );   // Removes \"Mango\""
   ]
  },
  {
   "cell_type": "markdown",
   "id": "115f1f3c",
   "metadata": {},
   "source": [
    "### prototype "
   ]
  },
  {
   "cell_type": "markdown",
   "id": "22433a78",
   "metadata": {},
   "source": [
    "Create a method that transforms array values into upper case:"
   ]
  },
  {
   "cell_type": "code",
   "execution_count": 49,
   "id": "01f2b030",
   "metadata": {},
   "outputs": [
    {
     "data": {
      "text/plain": [
       "[Function (anonymous)]"
      ]
     },
     "execution_count": 49,
     "metadata": {},
     "output_type": "execute_result"
    }
   ],
   "source": [
    "Array.prototype.myUcase = function() {\n",
    "  for (let i = 0; i < this.length; i++) {\n",
    "    this[i] = this[i].toUpperCase();\n",
    "  }\n",
    "};"
   ]
  },
  {
   "cell_type": "markdown",
   "id": "b3681c92",
   "metadata": {},
   "source": [
    "Use the method on any array:"
   ]
  },
  {
   "cell_type": "code",
   "execution_count": 51,
   "id": "2d47892f",
   "metadata": {},
   "outputs": [
    {
     "name": "stdout",
     "output_type": "stream",
     "text": [
      "[ 'BANANA', 'ORANGE', 'APPLE', 'MANGO' ]\n"
     ]
    }
   ],
   "source": [
    "var fruits = [\"Banana\", \"Orange\", \"Apple\", \"Mango\"];\n",
    "fruits.myUcase();\n",
    "\n",
    "console.log( fruits );"
   ]
  },
  {
   "cell_type": "markdown",
   "id": "c779eeb9",
   "metadata": {},
   "source": [
    "### push()"
   ]
  },
  {
   "cell_type": "markdown",
   "id": "bb7bb6ca",
   "metadata": {},
   "source": [
    "Add a new item to an array:"
   ]
  },
  {
   "cell_type": "code",
   "execution_count": 52,
   "id": "f7c00c37",
   "metadata": {},
   "outputs": [
    {
     "name": "stdout",
     "output_type": "stream",
     "text": [
      "[ 'Banana', 'Orange', 'Apple', 'Mango', 'Kiwi' ]\n"
     ]
    }
   ],
   "source": [
    "var fruits = [\"Banana\", \"Orange\", \"Apple\", \"Mango\"];\n",
    "fruits.push(\"Kiwi\");   // Adds \"Kiwi\"\n",
    "\n",
    "console.log( fruits );"
   ]
  },
  {
   "cell_type": "markdown",
   "id": "07b30213",
   "metadata": {},
   "source": [
    "### reduce()"
   ]
  },
  {
   "cell_type": "markdown",
   "id": "c8d3e5dd",
   "metadata": {},
   "source": [
    "array.reduce(function(total, currentValue, currentIndex, arr), initialValue)"
   ]
  },
  {
   "cell_type": "markdown",
   "id": "7af22b8d",
   "metadata": {},
   "source": [
    "| Parameter                         | Description                                                      |\n",
    "| :--------------------------------- |:----------------------------------------------------------------- |\n",
    "|function(total,currentValue, index,arr) |   Required. A function to be run for each element in the array. |\n",
    "| initialValue                        |  Optional. A value to be passed to the function as the initial value      |\n",
    "\n"
   ]
  },
  {
   "cell_type": "markdown",
   "id": "71adcd06",
   "metadata": {},
   "source": [
    "Function arguments:"
   ]
  },
  {
   "cell_type": "markdown",
   "id": "2ecd9951",
   "metadata": {},
   "source": [
    "| Argument      | Description   |\n",
    "| :------------- | :------------- |\n",
    "| total | Required. The initialValue, or the previously returned value of the function  |\n",
    "| currentValue  | Required. The value of the current element  |\n",
    "| currentIndex  | \tOptional. The array index of the current element  |\n",
    "| arr  | Optional. The array object the current element belongs to  |"
   ]
  },
  {
   "cell_type": "code",
   "execution_count": 54,
   "id": "d7f90f16",
   "metadata": {},
   "outputs": [],
   "source": [
    "var numbers = [ 1,2,3,4];\n",
    "\n",
    "function myFunction (total,currentValue, index,arr){\n",
    "    console.log(total,currentValue, index,arr);\n",
    "    \n",
    "    return total + currentValue;\n",
    "    \n",
    "};"
   ]
  },
  {
   "cell_type": "code",
   "execution_count": 57,
   "id": "6bc4fe79",
   "metadata": {},
   "outputs": [
    {
     "name": "stdout",
     "output_type": "stream",
     "text": [
      "0 1 0 [ 1, 2, 3, 4 ]\n",
      "1 2 1 [ 1, 2, 3, 4 ]\n",
      "3 3 2 [ 1, 2, 3, 4 ]\n",
      "6 4 3 [ 1, 2, 3, 4 ]\n"
     ]
    },
    {
     "data": {
      "text/plain": [
       "10"
      ]
     },
     "execution_count": 57,
     "metadata": {},
     "output_type": "execute_result"
    }
   ],
   "source": [
    "numbers.reduce(myFunction, 0);"
   ]
  },
  {
   "cell_type": "markdown",
   "id": "eafaae51",
   "metadata": {},
   "source": [
    "### reduceRight()"
   ]
  },
  {
   "cell_type": "markdown",
   "id": "87bc0a85",
   "metadata": {},
   "source": [
    "array.reduceRight(function(total, currentValue, currentIndex, arr), initialValue)"
   ]
  },
  {
   "cell_type": "markdown",
   "id": "202394e9",
   "metadata": {},
   "source": [
    "| Parameter                         | Description                                                      |\n",
    "| :--------------------------------- |:----------------------------------------------------------------- |\n",
    "|function(total,currentValue, index,arr) |   Required. A function to be run for each element in the array. |\n",
    "| initialValue                        |  Optional. A value to be passed to the function as the initial value      |"
   ]
  },
  {
   "cell_type": "markdown",
   "id": "7d82b2f2",
   "metadata": {},
   "source": [
    "Function arguments:"
   ]
  },
  {
   "cell_type": "markdown",
   "id": "06197b0a",
   "metadata": {},
   "source": [
    "| Argument      | Description   |\n",
    "| :------------- | :------------- |\n",
    "| total | Required. The initialValue, or the previously returned value of the function  |\n",
    "| currentValue  | Required. The value of the current element  |\n",
    "| currentIndex  | Optional. The array index of the current element  |\n",
    "| arr  | Optional. The array object the current element belongs to  |"
   ]
  },
  {
   "cell_type": "code",
   "execution_count": 60,
   "id": "c2af6b2e",
   "metadata": {},
   "outputs": [],
   "source": [
    "var numbers = [ 1,2,3,4];\n",
    "\n",
    "function myFunction (total,currentValue, index,arr){\n",
    "    console.log(total,currentValue, index,arr);\n",
    "    \n",
    "    return total + currentValue;\n",
    "    \n",
    "};"
   ]
  },
  {
   "cell_type": "code",
   "execution_count": 61,
   "id": "7638f51e",
   "metadata": {},
   "outputs": [
    {
     "name": "stdout",
     "output_type": "stream",
     "text": [
      "0 4 3 [ 1, 2, 3, 4 ]\n",
      "4 3 2 [ 1, 2, 3, 4 ]\n",
      "7 2 1 [ 1, 2, 3, 4 ]\n",
      "9 1 0 [ 1, 2, 3, 4 ]\n"
     ]
    },
    {
     "data": {
      "text/plain": [
       "10"
      ]
     },
     "execution_count": 61,
     "metadata": {},
     "output_type": "execute_result"
    }
   ],
   "source": [
    "numbers.reduceRight(myFunction, 0);"
   ]
  },
  {
   "cell_type": "markdown",
   "id": "f32b596b",
   "metadata": {},
   "source": [
    "### reverse()"
   ]
  },
  {
   "cell_type": "markdown",
   "id": "d2a72ea0",
   "metadata": {},
   "source": [
    "Reverse the order of the elements in an array:"
   ]
  },
  {
   "cell_type": "code",
   "execution_count": 62,
   "id": "02b0d3b3",
   "metadata": {},
   "outputs": [
    {
     "name": "stdout",
     "output_type": "stream",
     "text": [
      "[ 'Mango', 'Apple', 'Orange', 'Banana' ]\n"
     ]
    }
   ],
   "source": [
    "var fruits = [\"Banana\", \"Orange\", \"Apple\", \"Mango\"];\n",
    "console.log( fruits.reverse() );"
   ]
  },
  {
   "cell_type": "markdown",
   "id": "6af9841a",
   "metadata": {},
   "source": [
    "### shift()"
   ]
  },
  {
   "cell_type": "markdown",
   "id": "abbb7762",
   "metadata": {},
   "source": [
    "Remove the first item of an array:"
   ]
  },
  {
   "cell_type": "code",
   "execution_count": 63,
   "id": "3a077a5e",
   "metadata": {},
   "outputs": [
    {
     "name": "stdout",
     "output_type": "stream",
     "text": [
      "Banana\n"
     ]
    }
   ],
   "source": [
    "var fruits = [\"Banana\", \"Orange\", \"Apple\", \"Mango\"];\n",
    "console.log( fruits.shift() );"
   ]
  },
  {
   "cell_type": "markdown",
   "id": "045d1631",
   "metadata": {},
   "source": [
    "### slice()"
   ]
  },
  {
   "cell_type": "markdown",
   "id": "d6090580",
   "metadata": {},
   "source": [
    "Select elements from an array:"
   ]
  },
  {
   "cell_type": "code",
   "execution_count": 64,
   "id": "5d74cda3",
   "metadata": {},
   "outputs": [
    {
     "name": "stdout",
     "output_type": "stream",
     "text": [
      "[ 'Orange', 'Lemon' ]\n"
     ]
    }
   ],
   "source": [
    "var fruits = [\"Banana\", \"Orange\", \"Lemon\", \"Apple\", \"Mango\"];\n",
    "console.log( fruits.slice(1, 3) ) ;"
   ]
  },
  {
   "cell_type": "markdown",
   "id": "f76c5c4e",
   "metadata": {},
   "source": [
    "### some()"
   ]
  },
  {
   "cell_type": "markdown",
   "id": "d771d07f",
   "metadata": {},
   "source": [
    "Check if any values in the ages array are 18 or over:"
   ]
  },
  {
   "cell_type": "code",
   "execution_count": 65,
   "id": "253eafa1",
   "metadata": {},
   "outputs": [
    {
     "name": "stdout",
     "output_type": "stream",
     "text": [
      "true\n"
     ]
    }
   ],
   "source": [
    "var ages = [3, 10, 18, 20];\n",
    "\n",
    "function checkAdult(age) {\n",
    "  return age >= 18;\n",
    "};\n",
    "\n",
    "console.log ( ages.some(checkAdult) );   // Returns true"
   ]
  },
  {
   "cell_type": "markdown",
   "id": "c17cff68",
   "metadata": {},
   "source": [
    "### sort()"
   ]
  },
  {
   "cell_type": "markdown",
   "id": "6e7847dc",
   "metadata": {},
   "source": [
    "array.sort(compareFunction)   \n",
    "\n",
    "compareFunction\tOptional. A function that defines an alternative sort order. The function should return a \n",
    "negative, zero, or positive value, depending on the arguments, like:\n",
    "\n",
    "function(a, b){return a-b}\n",
    "\n",
    "When the sort() method compares two values, it sends the values to the compare function, and sorts the values \n",
    "according to the returned (negative, zero, positive) value.\n",
    "\n",
    "Example:\n",
    "\n",
    "When comparing 40 and 100, the sort() method calls the compare function(40,100).\n",
    "\n",
    "The function calculates 40-100, and returns -60 (a negative value).\n",
    "\n",
    "The sort function will sort 40 as a value lower than 100.\n"
   ]
  },
  {
   "cell_type": "markdown",
   "id": "e480bb4e",
   "metadata": {},
   "source": [
    "**EXAMPLE**       \n",
    "Sort numbers in an array in ascending order:"
   ]
  },
  {
   "cell_type": "code",
   "execution_count": 66,
   "id": "56e02400",
   "metadata": {},
   "outputs": [
    {
     "name": "stdout",
     "output_type": "stream",
     "text": [
      "[ 1, 5, 10, 25, 40, 100 ]\n"
     ]
    }
   ],
   "source": [
    "var points = [40, 100, 1, 5, 25, 10];\n",
    "console.log( points.sort(function(a, b){return a-b}) );"
   ]
  },
  {
   "cell_type": "markdown",
   "id": "31c7bfee",
   "metadata": {},
   "source": [
    "### splice() "
   ]
  },
  {
   "cell_type": "markdown",
   "id": "373d7b02",
   "metadata": {},
   "source": [
    "array.splice(index, howmany, item1, ....., itemX)"
   ]
  },
  {
   "cell_type": "markdown",
   "id": "a97a26ff",
   "metadata": {},
   "source": [
    "| Parameter          | Description                                                       |\n",
    "| :----------------- |:----------------------------------------------------------------- |\n",
    "| index              |  Required.  The position to add/remove items. Negative values a   |\n",
    "|                    |  the position from the end of the array.                          |\n",
    "| howmany            |  Optional. Number of items to be removed.                         |\n",
    "| item1, ..., itemX  |  Optional. New elements(s) to be added                            |"
   ]
  },
  {
   "cell_type": "markdown",
   "id": "d5ce2088",
   "metadata": {},
   "source": [
    "Add elements to an array:"
   ]
  },
  {
   "cell_type": "code",
   "execution_count": 68,
   "id": "207fd5d2",
   "metadata": {},
   "outputs": [
    {
     "name": "stdout",
     "output_type": "stream",
     "text": [
      "[ 'Banana', 'Orange', 'Lemon', 'Kiwi', 'Apple', 'Mango' ]\n"
     ]
    }
   ],
   "source": [
    "var fruits = [\"Banana\", \"Orange\", \"Apple\", \"Mango\"];\n",
    "\n",
    "// At position 2, add 2 elements:\n",
    "fruits.splice(2, 0, \"Lemon\", \"Kiwi\");\n",
    "\n",
    "console.log( fruits );"
   ]
  },
  {
   "cell_type": "code",
   "execution_count": 69,
   "id": "2f668049",
   "metadata": {},
   "outputs": [
    {
     "name": "stdout",
     "output_type": "stream",
     "text": [
      "[ 'Banana', 'Orange', 'Lemon', 'Kiwi', 'Mango' ]\n"
     ]
    }
   ],
   "source": [
    "var fruits = [\"Banana\", \"Orange\", \"Apple\", \"Mango\"];\n",
    "\n",
    "// At position 2, add 2 elements, remove 1 element:\n",
    "fruits.splice(2, 1, \"Lemon\", \"Kiwi\");\n",
    "\n",
    "console.log( fruits );"
   ]
  },
  {
   "cell_type": "markdown",
   "id": "39df566a",
   "metadata": {},
   "source": [
    "### toString() "
   ]
  },
  {
   "cell_type": "markdown",
   "id": "2869cce7",
   "metadata": {},
   "source": [
    "Convert an array to a string:"
   ]
  },
  {
   "cell_type": "code",
   "execution_count": 70,
   "id": "6027e879",
   "metadata": {},
   "outputs": [
    {
     "name": "stdout",
     "output_type": "stream",
     "text": [
      "Banana,Orange,Apple,Mango\n"
     ]
    }
   ],
   "source": [
    "var fruits = [\"Banana\", \"Orange\", \"Apple\", \"Mango\"];\n",
    "console.log( fruits.toString() );"
   ]
  },
  {
   "cell_type": "markdown",
   "id": "362d1857",
   "metadata": {},
   "source": [
    "### unshift() "
   ]
  },
  {
   "cell_type": "markdown",
   "id": "0ae678bb",
   "metadata": {},
   "source": [
    "Add new items to the beginning of an array:"
   ]
  },
  {
   "cell_type": "code",
   "execution_count": 72,
   "id": "b2c292a9",
   "metadata": {},
   "outputs": [
    {
     "name": "stdout",
     "output_type": "stream",
     "text": [
      "[ 'Lemon', 'Pineapple', 'Banana', 'Orange', 'Apple', 'Mango' ]\n"
     ]
    }
   ],
   "source": [
    "var fruits = [\"Banana\", \"Orange\", \"Apple\", \"Mango\"];\n",
    "fruits.unshift(\"Lemon\",\"Pineapple\");\n",
    "console.log( fruits );"
   ]
  },
  {
   "cell_type": "markdown",
   "id": "17ceaa3f",
   "metadata": {},
   "source": [
    "### valueOf()"
   ]
  },
  {
   "cell_type": "markdown",
   "id": "3e383a56",
   "metadata": {},
   "source": [
    "fruits.valueOf() returns the same as fruits"
   ]
  },
  {
   "cell_type": "code",
   "execution_count": 74,
   "id": "11f26376",
   "metadata": {},
   "outputs": [
    {
     "name": "stdout",
     "output_type": "stream",
     "text": [
      "[ 'Banana', 'Orange', 'Apple', 'Mango' ]\n"
     ]
    }
   ],
   "source": [
    "var fruits = [\"Banana\", \"Orange\", \"Apple\", \"Mango\"];\n",
    "console.log( fruits.valueOf() ) ;   // Returns fruits"
   ]
  },
  {
   "cell_type": "markdown",
   "id": "eea16b28",
   "metadata": {},
   "source": [
    "# String"
   ]
  },
  {
   "cell_type": "markdown",
   "id": "78fa8861",
   "metadata": {},
   "source": [
    "### charAt() "
   ]
  },
  {
   "cell_type": "markdown",
   "id": "c25f8dee",
   "metadata": {},
   "source": [
    "Return the first character of a string:"
   ]
  },
  {
   "cell_type": "code",
   "execution_count": 75,
   "id": "91e2f926",
   "metadata": {},
   "outputs": [
    {
     "name": "stdout",
     "output_type": "stream",
     "text": [
      "H\n"
     ]
    }
   ],
   "source": [
    "var str = \"HELLO WORLD\";\n",
    "console.log( str.charAt(0) );    // Returns \"H\""
   ]
  },
  {
   "cell_type": "markdown",
   "id": "a8c104db",
   "metadata": {},
   "source": [
    "### charCodeAt()"
   ]
  },
  {
   "cell_type": "markdown",
   "id": "bb5ff4cb",
   "metadata": {},
   "source": [
    "Return the Unicode of the first character in a string (the Unicode value for \"H\"):"
   ]
  },
  {
   "cell_type": "code",
   "execution_count": 76,
   "id": "2055f737",
   "metadata": {},
   "outputs": [
    {
     "name": "stdout",
     "output_type": "stream",
     "text": [
      "72\n"
     ]
    }
   ],
   "source": [
    "var str = \"HELLO WORLD\";\n",
    "console.log( str.charCodeAt(0) );     // Returns 72"
   ]
  },
  {
   "cell_type": "markdown",
   "id": "0a708931",
   "metadata": {},
   "source": [
    "### concat()"
   ]
  },
  {
   "cell_type": "markdown",
   "id": "181ee527",
   "metadata": {},
   "source": [
    "joins two or more strings."
   ]
  },
  {
   "cell_type": "code",
   "execution_count": 77,
   "id": "ae7965ed",
   "metadata": {},
   "outputs": [
    {
     "name": "stdout",
     "output_type": "stream",
     "text": [
      "Hello world!\n"
     ]
    }
   ],
   "source": [
    "var str1 = \"Hello \";\n",
    "var str2 = \"world!\";\n",
    "console.log( str1.concat(str2) );"
   ]
  },
  {
   "cell_type": "markdown",
   "id": "90b08f69",
   "metadata": {},
   "source": [
    "### constructor "
   ]
  },
  {
   "cell_type": "markdown",
   "id": "a83d224e",
   "metadata": {},
   "source": [
    "returns the function that created the String prototype."
   ]
  },
  {
   "cell_type": "code",
   "execution_count": 79,
   "id": "83435df3",
   "metadata": {},
   "outputs": [
    {
     "name": "stdout",
     "output_type": "stream",
     "text": [
      "[Function: String]\n"
     ]
    }
   ],
   "source": [
    "var str = \"Hello World!\";\n",
    "console.log( str.constructor ); "
   ]
  },
  {
   "cell_type": "markdown",
   "id": "e26ee12a",
   "metadata": {},
   "source": [
    "### endsWith()"
   ]
  },
  {
   "cell_type": "markdown",
   "id": "1c929052",
   "metadata": {},
   "source": [
    "Check if a string ends with"
   ]
  },
  {
   "cell_type": "code",
   "execution_count": 81,
   "id": "c856f13c",
   "metadata": {},
   "outputs": [
    {
     "name": "stdout",
     "output_type": "stream",
     "text": [
      "true\n",
      "false\n"
     ]
    }
   ],
   "source": [
    "var str = \"Hello world\";\n",
    "console.log( str.endsWith(\"world\") );   // Returns true\n",
    "console.log( str.endsWith(\"World\") );   // Returns false"
   ]
  },
  {
   "cell_type": "markdown",
   "id": "64d7946c",
   "metadata": {},
   "source": [
    "### fromCharCode()"
   ]
  },
  {
   "cell_type": "markdown",
   "id": "fac8ead0",
   "metadata": {},
   "source": [
    "Convert a Unicode number into a character:"
   ]
  },
  {
   "cell_type": "code",
   "execution_count": 82,
   "id": "d53d2a6a",
   "metadata": {},
   "outputs": [
    {
     "name": "stdout",
     "output_type": "stream",
     "text": [
      "A\n"
     ]
    }
   ],
   "source": [
    "console.log( String.fromCharCode(65) );   // Returns \"A\""
   ]
  },
  {
   "cell_type": "markdown",
   "id": "09312758",
   "metadata": {},
   "source": [
    "### includes()"
   ]
  },
  {
   "cell_type": "markdown",
   "id": "0f68f5e4",
   "metadata": {},
   "source": [
    "Check if a string includes \"world\":"
   ]
  },
  {
   "cell_type": "code",
   "execution_count": 83,
   "id": "a79aad94",
   "metadata": {},
   "outputs": [
    {
     "name": "stdout",
     "output_type": "stream",
     "text": [
      "true\n"
     ]
    }
   ],
   "source": [
    "var str = \"Hello world, welcome to the universe.\";\n",
    "console.log( str.includes(\"world\") );   // Returns true"
   ]
  },
  {
   "cell_type": "markdown",
   "id": "edc48ef4",
   "metadata": {},
   "source": [
    "### indexOf()"
   ]
  },
  {
   "cell_type": "markdown",
   "id": "cf40bc90",
   "metadata": {},
   "source": [
    "Search a string for \"welcome\":"
   ]
  },
  {
   "cell_type": "code",
   "execution_count": 84,
   "id": "0ca5c60f",
   "metadata": {},
   "outputs": [
    {
     "name": "stdout",
     "output_type": "stream",
     "text": [
      "13\n",
      "-1\n"
     ]
    }
   ],
   "source": [
    "var str = \"Hello world, welcome to the universe.\";\n",
    "console.log( str.indexOf(\"welcome\") );   // Returns 13\n",
    "console.log( str.indexOf(\"Welcome\") );   // Returns -1"
   ]
  },
  {
   "cell_type": "markdown",
   "id": "be7c6dbc",
   "metadata": {},
   "source": [
    "### lastIndexOf()"
   ]
  },
  {
   "cell_type": "markdown",
   "id": "d674586b",
   "metadata": {},
   "source": [
    "Search a string for the last occurrence of \"planet\":"
   ]
  },
  {
   "cell_type": "code",
   "execution_count": 85,
   "id": "e8b9e4f8",
   "metadata": {},
   "outputs": [
    {
     "name": "stdout",
     "output_type": "stream",
     "text": [
      "36\n",
      "-1\n"
     ]
    }
   ],
   "source": [
    "var str = \"Hello planet earth, you are a great planet.\";\n",
    "console.log( str.lastIndexOf(\"planet\") );   // Returns 36\n",
    "console.log( str.lastIndexOf(\"Planet\") );   // Returns -1"
   ]
  },
  {
   "cell_type": "markdown",
   "id": "b11d978a",
   "metadata": {},
   "source": [
    "### length"
   ]
  },
  {
   "cell_type": "markdown",
   "id": "3f2d0275",
   "metadata": {},
   "source": [
    "Return the number of characters in a string:"
   ]
  },
  {
   "cell_type": "code",
   "execution_count": 86,
   "id": "38282375",
   "metadata": {},
   "outputs": [
    {
     "name": "stdout",
     "output_type": "stream",
     "text": [
      "12\n"
     ]
    }
   ],
   "source": [
    "var str = \"Hello World!\";\n",
    "console.log( str.length );   // Returns 12"
   ]
  },
  {
   "cell_type": "markdown",
   "id": "0fe1b9ac",
   "metadata": {},
   "source": [
    "### localeCompare()"
   ]
  },
  {
   "cell_type": "markdown",
   "id": "5c821420",
   "metadata": {},
   "source": [
    "A Number, indicating whether the reference string comes before, after or is the same as the compareString in sort \n",
    "order. Returns one of three values:\n",
    "\n",
    "* -1 if the reference string is sorted before the compareString\n",
    "* 0 if the two strings are equal\n",
    "* 1 if the reference string is sorted after the compareString"
   ]
  },
  {
   "cell_type": "code",
   "execution_count": 87,
   "id": "6049d2e2",
   "metadata": {},
   "outputs": [
    {
     "name": "stdout",
     "output_type": "stream",
     "text": [
      "-1\n",
      "0\n",
      "1\n"
     ]
    }
   ],
   "source": [
    "var str1 = \"ab\";\n",
    "var str2 = \"cd\";\n",
    "\n",
    "console.log( str1.localeCompare(str2) );\n",
    "console.log( str2.localeCompare(str2) );\n",
    "console.log( str2.localeCompare(str1) );"
   ]
  },
  {
   "cell_type": "markdown",
   "id": "1ff4b372",
   "metadata": {},
   "source": [
    "### match()"
   ]
  },
  {
   "cell_type": "markdown",
   "id": "0057e5d3",
   "metadata": {},
   "source": [
    "Search a string for \"ain\":"
   ]
  },
  {
   "cell_type": "code",
   "execution_count": 88,
   "id": "67772409",
   "metadata": {},
   "outputs": [
    {
     "data": {
      "text/plain": [
       "[ 'ain', 'ain', 'ain' ]"
      ]
     },
     "execution_count": 88,
     "metadata": {},
     "output_type": "execute_result"
    }
   ],
   "source": [
    "var str = \"The rain in SPAIN stays mainly in the plain\";\n",
    "str.match(/ain/g)   // Returns ain,ain,ain"
   ]
  },
  {
   "cell_type": "markdown",
   "id": "6eab044e",
   "metadata": {},
   "source": [
    "### prototype"
   ]
  },
  {
   "cell_type": "markdown",
   "id": "e8c68324",
   "metadata": {},
   "source": [
    "Use the prototype property to add a new property to all objects of a given type:"
   ]
  },
  {
   "cell_type": "code",
   "execution_count": 89,
   "id": "14571a2a",
   "metadata": {},
   "outputs": [
    {
     "name": "stdout",
     "output_type": "stream",
     "text": [
      "employee { name: 'Fred Flintstone', jobtitle: 'Caveman', born: 1970 }\n"
     ]
    }
   ],
   "source": [
    "function employee(name, jobtitle, born) {\n",
    "  this.name = name;\n",
    "  this.jobtitle = jobtitle;\n",
    "  this.born = born;\n",
    "}\n",
    "employee.prototype.salary = 2000;\n",
    "\n",
    "var fred = new employee(\"Fred Flintstone\", \"Caveman\", 1970);\n",
    "\n",
    "console.log( fred );"
   ]
  },
  {
   "cell_type": "code",
   "execution_count": 90,
   "id": "9be6865e",
   "metadata": {},
   "outputs": [
    {
     "name": "stdout",
     "output_type": "stream",
     "text": [
      "2000\n"
     ]
    }
   ],
   "source": [
    "console.log( fred.salary );"
   ]
  },
  {
   "cell_type": "markdown",
   "id": "0c3c2dec",
   "metadata": {},
   "source": [
    "### repeat() "
   ]
  },
  {
   "cell_type": "markdown",
   "id": "51361814",
   "metadata": {},
   "source": [
    "Make a new string by copying a string twice:"
   ]
  },
  {
   "cell_type": "code",
   "execution_count": 91,
   "id": "fd5635e8",
   "metadata": {},
   "outputs": [
    {
     "name": "stdout",
     "output_type": "stream",
     "text": [
      "Hello world!Hello world!\n"
     ]
    }
   ],
   "source": [
    "var str = \"Hello world!\";\n",
    "console.log( str.repeat(2) );"
   ]
  },
  {
   "cell_type": "markdown",
   "id": "b2c6daf6",
   "metadata": {},
   "source": [
    "### replace()"
   ]
  },
  {
   "cell_type": "markdown",
   "id": "09a3e84a",
   "metadata": {},
   "source": [
    "Return a string where \"Microsoft\" is replaced with \"W3Schools\":"
   ]
  },
  {
   "cell_type": "code",
   "execution_count": 92,
   "id": "3ba7aeb4",
   "metadata": {},
   "outputs": [
    {
     "name": "stdout",
     "output_type": "stream",
     "text": [
      "Visit W3Schools!\n"
     ]
    }
   ],
   "source": [
    "var str = \"Visit Microsoft!\";\n",
    "console.log( str.replace(\"Microsoft\", \"W3Schools\") );"
   ]
  },
  {
   "cell_type": "markdown",
   "id": "4267c671",
   "metadata": {},
   "source": [
    "### search() "
   ]
  },
  {
   "cell_type": "markdown",
   "id": "c1f64b73",
   "metadata": {},
   "source": [
    "Search for \"W3Schools\":"
   ]
  },
  {
   "cell_type": "code",
   "execution_count": 93,
   "id": "a23fd70a",
   "metadata": {},
   "outputs": [
    {
     "name": "stdout",
     "output_type": "stream",
     "text": [
      "6\n"
     ]
    }
   ],
   "source": [
    "var str = \"Visit W3Schools!\";\n",
    "console.log( str.search(\"W3Schools\") );  // Returns 6"
   ]
  },
  {
   "cell_type": "markdown",
   "id": "d61e92c8",
   "metadata": {},
   "source": [
    "### slice()"
   ]
  },
  {
   "cell_type": "markdown",
   "id": "fcf1f884",
   "metadata": {},
   "source": [
    "string.slice(start, end)"
   ]
  },
  {
   "cell_type": "markdown",
   "id": "d85b74b0",
   "metadata": {},
   "source": [
    "| Parameter      | Description   |\n",
    "| :------------- | :------------- |\n",
    "| start | Required. The position where to begin the extraction. First character is at position 0    |\n",
    "| end   | Optional. The position (up to, but not including) where to end the extraction. If omitted, | \n",
    "|       | slice() selects all characters from the start-position to the end of the string |"
   ]
  },
  {
   "cell_type": "markdown",
   "id": "61c90396",
   "metadata": {},
   "source": [
    "Extract parts of a string:"
   ]
  },
  {
   "cell_type": "code",
   "execution_count": 94,
   "id": "15a630c3",
   "metadata": {},
   "outputs": [
    {
     "name": "stdout",
     "output_type": "stream",
     "text": [
      "Hello\n"
     ]
    }
   ],
   "source": [
    "var str = \"Hello world!\";\n",
    "console.log( str.slice(0, 5) );  // Returns \"Hello\""
   ]
  },
  {
   "cell_type": "markdown",
   "id": "6fa0eba7",
   "metadata": {},
   "source": [
    "### split()"
   ]
  },
  {
   "cell_type": "markdown",
   "id": "89c0bafb",
   "metadata": {},
   "source": [
    "string.split(separator, limit)"
   ]
  },
  {
   "cell_type": "markdown",
   "id": "a911caf4",
   "metadata": {},
   "source": [
    "| Parameter      | Description   |\n",
    "| :------------- | :------------- |\n",
    "| separator | Optional. Specifies the character, or the regular expression, to use for splitting the string. | \n",
    "|           | If omitted, the entire string will be returned (an array with only one item)  |\n",
    "| limit     | Optional. An integer that specifies the number of splits, items after the split limit will not |\n",
    "|           | be included in the array | "
   ]
  },
  {
   "cell_type": "markdown",
   "id": "ad32741c",
   "metadata": {},
   "source": [
    "Split a string into an array of substrings:"
   ]
  },
  {
   "cell_type": "code",
   "execution_count": 95,
   "id": "d2a67dc8",
   "metadata": {},
   "outputs": [
    {
     "name": "stdout",
     "output_type": "stream",
     "text": [
      "[ 'How', 'are', 'you', 'doing', 'today?' ]\n"
     ]
    }
   ],
   "source": [
    "var str = \"How are you doing today?\";\n",
    "console.log( str.split(\" \") );"
   ]
  },
  {
   "cell_type": "code",
   "execution_count": 96,
   "id": "6e897cfe",
   "metadata": {},
   "outputs": [
    {
     "name": "stdout",
     "output_type": "stream",
     "text": [
      "[ 'How', 'are' ]\n"
     ]
    }
   ],
   "source": [
    "var str = \"How are you doing today?\";\n",
    "console.log( str.split(\" \", 2) );"
   ]
  },
  {
   "cell_type": "markdown",
   "id": "78dda9f6",
   "metadata": {},
   "source": [
    "If an empty string (\"\") is used as the separator, the string is split between each character."
   ]
  },
  {
   "cell_type": "code",
   "execution_count": 97,
   "id": "ad2de349",
   "metadata": {},
   "outputs": [
    {
     "name": "stdout",
     "output_type": "stream",
     "text": [
      "[ 'H', 'o' ]\n"
     ]
    }
   ],
   "source": [
    "var str = \"How are you doing today?\";\n",
    "console.log( str.split(\"\", 2) );"
   ]
  },
  {
   "cell_type": "markdown",
   "id": "560e594c",
   "metadata": {},
   "source": [
    "### startsWith()"
   ]
  },
  {
   "cell_type": "markdown",
   "id": "bb2df9d6",
   "metadata": {},
   "source": [
    "string.startsWith(searchvalue, start)"
   ]
  },
  {
   "cell_type": "markdown",
   "id": "18c118a8",
   "metadata": {},
   "source": [
    "| Parameter      | Description   |\n",
    "| :------------- | :------------- |\n",
    "|  searchvalue   |  Required. The string to search for | \n",
    "|  start         | \tOptional. Default 0. At which position to start the search | "
   ]
  },
  {
   "cell_type": "markdown",
   "id": "0bb44977",
   "metadata": {},
   "source": [
    "Check if a string starts with \"Hello\":"
   ]
  },
  {
   "cell_type": "code",
   "execution_count": 98,
   "id": "9e82aef2",
   "metadata": {},
   "outputs": [
    {
     "name": "stdout",
     "output_type": "stream",
     "text": [
      "true\n"
     ]
    }
   ],
   "source": [
    "var str = \"Hello world, welcome to the universe.\";\n",
    "console.log( str.startsWith(\"Hello\") );   // Returns true"
   ]
  },
  {
   "cell_type": "markdown",
   "id": "869505e6",
   "metadata": {},
   "source": [
    "### substr()"
   ]
  },
  {
   "cell_type": "markdown",
   "id": "632c75f9",
   "metadata": {},
   "source": [
    "string.substr(start, length)"
   ]
  },
  {
   "cell_type": "markdown",
   "id": "422c8fed",
   "metadata": {},
   "source": [
    "| Parameter      | Description   |\n",
    "| :------------- | :------------- |\n",
    "| start  | Required. The position where to start the extraction. First character is at index 0. | \n",
    "|        | If start is positive and greater than, or equal, to the length of the string, substr() |\n",
    "|        | returns an empty string. | \n",
    "|        | If start is negative, substr() uses it as a character index from the end of the string. | \n",
    "|        | If start is negative or larger than the length of the string, start is set to 0 | \n",
    "| length |  Optional. The number of characters to extract. If omitted, it extracts the rest of the string| "
   ]
  },
  {
   "cell_type": "code",
   "execution_count": 99,
   "id": "dc6ffe84",
   "metadata": {},
   "outputs": [],
   "source": [
    "var str = \"Hello world!\";"
   ]
  },
  {
   "cell_type": "markdown",
   "id": "43a7ff1c",
   "metadata": {},
   "source": [
    "Extract parts of a string:"
   ]
  },
  {
   "cell_type": "code",
   "execution_count": 100,
   "id": "f097e0a1",
   "metadata": {},
   "outputs": [
    {
     "name": "stdout",
     "output_type": "stream",
     "text": [
      "ello\n"
     ]
    }
   ],
   "source": [
    "console.log( str.substr(1, 4) );  // Returns \"ello\""
   ]
  },
  {
   "cell_type": "markdown",
   "id": "1d65edf1",
   "metadata": {},
   "source": [
    "Begin the extraction at position 2, and extract the rest of the string:"
   ]
  },
  {
   "cell_type": "code",
   "execution_count": 101,
   "id": "70cf5a99",
   "metadata": {},
   "outputs": [
    {
     "name": "stdout",
     "output_type": "stream",
     "text": [
      "llo world!\n"
     ]
    }
   ],
   "source": [
    "console.log( str.substr(2) );"
   ]
  },
  {
   "cell_type": "markdown",
   "id": "afe4cba0",
   "metadata": {},
   "source": [
    "Extract only the first character:"
   ]
  },
  {
   "cell_type": "code",
   "execution_count": 102,
   "id": "090188db",
   "metadata": {},
   "outputs": [
    {
     "name": "stdout",
     "output_type": "stream",
     "text": [
      "H\n"
     ]
    }
   ],
   "source": [
    "console.log( str.substr(0, 1) );"
   ]
  },
  {
   "cell_type": "markdown",
   "id": "e268ced4",
   "metadata": {},
   "source": [
    "Extract only the last character:"
   ]
  },
  {
   "cell_type": "code",
   "execution_count": 103,
   "id": "5962407b",
   "metadata": {},
   "outputs": [
    {
     "name": "stdout",
     "output_type": "stream",
     "text": [
      "!\n"
     ]
    }
   ],
   "source": [
    "console.log( str.substr(11, 1) );"
   ]
  },
  {
   "cell_type": "markdown",
   "id": "d8f463a7",
   "metadata": {},
   "source": [
    "### substring()"
   ]
  },
  {
   "cell_type": "markdown",
   "id": "5f5b1066",
   "metadata": {},
   "source": [
    "string.substring(start, end)"
   ]
  },
  {
   "cell_type": "markdown",
   "id": "d665f056",
   "metadata": {},
   "source": [
    "| Parameter      | Description   |\n",
    "| :------------- | :------------- |\n",
    "| start  | Required. The position where to start the extraction. First character is at index 0. | \n",
    "| end    | Optional. The position (up to, but not including) where to end the extraction. If omitted, |\n",
    "|        |    it extracts the rest of the string |"
   ]
  },
  {
   "cell_type": "code",
   "execution_count": 104,
   "id": "1dc41c7f",
   "metadata": {},
   "outputs": [],
   "source": [
    "var str = \"Hello world!\";"
   ]
  },
  {
   "cell_type": "code",
   "execution_count": null,
   "id": "1ae80578",
   "metadata": {},
   "outputs": [],
   "source": [
    "Extract characters from a string:"
   ]
  },
  {
   "cell_type": "code",
   "execution_count": 105,
   "id": "0bfb36b8",
   "metadata": {},
   "outputs": [
    {
     "name": "stdout",
     "output_type": "stream",
     "text": [
      "ell\n"
     ]
    }
   ],
   "source": [
    "console.log( str.substring(1, 4)  );"
   ]
  },
  {
   "cell_type": "markdown",
   "id": "c5a78179",
   "metadata": {},
   "source": [
    "### toLocaleLowerCase() "
   ]
  },
  {
   "cell_type": "markdown",
   "id": "1d3dd40f",
   "metadata": {},
   "source": [
    "Convert the string to lowercase letters:"
   ]
  },
  {
   "cell_type": "code",
   "execution_count": 106,
   "id": "c6b32956",
   "metadata": {},
   "outputs": [
    {
     "name": "stdout",
     "output_type": "stream",
     "text": [
      "hello world!\n"
     ]
    }
   ],
   "source": [
    "var str = \"Hello World!\";\n",
    "console.log( str.toLocaleLowerCase() );  // Returns \"hello world!\""
   ]
  },
  {
   "cell_type": "markdown",
   "id": "5fd2d244",
   "metadata": {},
   "source": [
    "### toLocaleUpperCase()"
   ]
  },
  {
   "cell_type": "markdown",
   "id": "bfd031f6",
   "metadata": {},
   "source": [
    "Convert the string to uppercase letters:"
   ]
  },
  {
   "cell_type": "code",
   "execution_count": 107,
   "id": "702d832f",
   "metadata": {},
   "outputs": [
    {
     "name": "stdout",
     "output_type": "stream",
     "text": [
      "HELLO WORLD!\n"
     ]
    }
   ],
   "source": [
    "var str = \"Hello World!\";\n",
    "console.log( str.toLocaleUpperCase() );"
   ]
  },
  {
   "cell_type": "markdown",
   "id": "c1114174",
   "metadata": {},
   "source": [
    "### toLowerCase()"
   ]
  },
  {
   "cell_type": "markdown",
   "id": "9fbb91bb",
   "metadata": {},
   "source": [
    "Convert the string to lowercase letters:"
   ]
  },
  {
   "cell_type": "code",
   "execution_count": 109,
   "id": "71004a12",
   "metadata": {},
   "outputs": [
    {
     "name": "stdout",
     "output_type": "stream",
     "text": [
      "hello world!\n"
     ]
    }
   ],
   "source": [
    "var str = \"Hello World!\";\n",
    "console.log( str.toLowerCase() );"
   ]
  },
  {
   "cell_type": "markdown",
   "id": "5f771b90",
   "metadata": {},
   "source": [
    "### toString() "
   ]
  },
  {
   "cell_type": "markdown",
   "id": "807e3f73",
   "metadata": {},
   "source": [
    "Return the value of a string:"
   ]
  },
  {
   "cell_type": "code",
   "execution_count": 110,
   "id": "f612d135",
   "metadata": {},
   "outputs": [
    {
     "name": "stdout",
     "output_type": "stream",
     "text": [
      "Hello World!\n"
     ]
    }
   ],
   "source": [
    "var str = \"Hello World!\";\n",
    "console.log( str.toString() );   // Returns \"Hello World!\""
   ]
  },
  {
   "cell_type": "markdown",
   "id": "73a5a527",
   "metadata": {},
   "source": [
    "### toUpperCase()"
   ]
  },
  {
   "cell_type": "markdown",
   "id": "a2863d00",
   "metadata": {},
   "source": [
    "Convert the string to uppercase letters:"
   ]
  },
  {
   "cell_type": "code",
   "execution_count": 111,
   "id": "b266853f",
   "metadata": {},
   "outputs": [
    {
     "name": "stdout",
     "output_type": "stream",
     "text": [
      "HELLO WORLD!\n"
     ]
    }
   ],
   "source": [
    "var str = \"Hello World!\";\n",
    "console.log( str.toUpperCase() );   // Returns \"HELLO WORLD!\""
   ]
  },
  {
   "cell_type": "markdown",
   "id": "c5ed5d62",
   "metadata": {},
   "source": [
    "### trim() "
   ]
  },
  {
   "cell_type": "markdown",
   "id": "09eb5f7f",
   "metadata": {},
   "source": [
    "Remove whitespace from both sides of a string:"
   ]
  },
  {
   "cell_type": "code",
   "execution_count": 112,
   "id": "61f65d8d",
   "metadata": {},
   "outputs": [
    {
     "name": "stdout",
     "output_type": "stream",
     "text": [
      "Hello World!\n"
     ]
    }
   ],
   "source": [
    "var str = \"       Hello World!        \";\n",
    "console.log( str.trim() );   // Returns \"Hello World!\""
   ]
  },
  {
   "cell_type": "code",
   "execution_count": null,
   "id": "d50d852e",
   "metadata": {},
   "outputs": [],
   "source": [
    "### valueOf()"
   ]
  }
 ],
 "metadata": {
  "kernelspec": {
   "display_name": "Javascript (Node.js)",
   "language": "javascript",
   "name": "javascript"
  },
  "language_info": {
   "file_extension": ".js",
   "mimetype": "application/javascript",
   "name": "javascript",
   "version": "16.9.0"
  }
 },
 "nbformat": 4,
 "nbformat_minor": 5
}
